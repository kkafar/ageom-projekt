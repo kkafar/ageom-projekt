{
 "cells": [
  {
   "cell_type": "markdown",
   "metadata": {},
   "source": [
    "# Projekt"
   ]
  },
  {
   "cell_type": "markdown",
   "metadata": {},
   "source": [
    "### Spis treści \n",
    "<a id=\"spis\"></a>\n",
    "\n",
    "1. [Generator zbiorow](#generator)\n",
    "2. [Wybor zbiorow](#ustalenieZbiorow)\n",
    "3. [Wizualizacja dla algorytmu Jarvisa](#jarvis)\n",
    "\n",
    "    - [Jarvis dla zbioru typu a](#jarvisa)\n",
    "    - [Jarvis dla zbioru typu b](#jarvisb)\n",
    "    - [Jarvis dla zbioru typu c](#jarvisc)\n",
    "    - [Jarvis dla zbioru typu d](#jarvisd)\n",
    "    \n",
    "4. [Wizualizacja dla algorytmu Grahama](#graham)\n",
    "\n",
    "    - [Graham dla zbioru typu a](#grahama)\n",
    "    - [Graham dla zbioru typu b](#grahamb)\n",
    "    - [Graham dla zbioru typu c](#grahamc)\n",
    "    - [Graham dla zbioru typu d](#grahamd)\n",
    "    \n",
    "5. [Wizualizacja dla algorytmu Gorna-dolna](#goradol)\n",
    "\n",
    "    - [Gorna-dolna dla zbioru typu a](#goradola)\n",
    "    - [Gorna-dolna dla zbioru typu b](#goradolb)\n",
    "    - [Gorna-dolna dla zbioru typu c](#goradolc)\n",
    "    - [Gorna-dolna dla zbioru typu d](#goradold)\n",
    "    \n",
    "6. [Wizualizacja dla algorytmu Przyrostowego](#przyrost)\n",
    "\n",
    "    - [Przyrostowy dla zbioru typu a](#przyrosta)\n",
    "    - [Przyrostowy dla zbioru typu b](#przyrostb)\n",
    "    - [Przyrostowy dla zbioru typu c](#przyrostc)\n",
    "    - [Przyrostowy dla zbioru typu d](#przyrostd)\n",
    "    \n",
    "7. [Wizualizacja dla algorytmu Dziel i zwyciezaj](#dziel)\n",
    "    - [Dziel i zwyciezaj dla zbioru typu a](#dziela)\n",
    "    - [Dziel i zwyciezaj dla zbioru typu b](#dzielb)\n",
    "    - [Dziel i zwyciezaj dla zbioru typu c](#dzielc)\n",
    "    - [Dziel i zwyciezaj dla zbioru typu d](#dzield)\n",
    "    \n",
    "8. [Wizualizacja dla algorytmu Chana](#chan)\n",
    "    - [Chan dla zbioru typu a](#chana)\n",
    "    - [Chan dla zbioru typu b](#chanb)\n",
    "    - [Chan dla zbioru typu c](#chanc)\n",
    "    - [Chan dla zbioru typu d](#chand)\n",
    "    \n",
    "9. [Wizualizacja dla algorytmu Quick hull](#quickhull)\n",
    "    - [Quick hull dla zbioru typu a](#quickhulla)\n",
    "    - [Quick hull dla zbioru typu b](#quickhullb)\n",
    "    - [Quick hull dla zbioru typu c](#quickhullc)\n",
    "    - [Quick hull dla zbioru typu d](#quickhulld)\n",
    "    \n",
    "10. [Pomiary czasu](#pomiary)\n",
    "    - [Chmura punktów](#pomiary-chmura)\n",
    "        - [Algorytm Grahama](#pomiary-chmura-graham)\n",
    "        - [Algortym \"Górna-dolna\"](#pomiary-chumra-gornadolna)\n",
    "        - [Algorytm Chana](#pomiary-chmura-chan)\n",
    "        - [Algorytm QuickHull](#pomiary-chmura-quickhull)\n",
    "        - [Algorytm dziel i zwyciężaj](#pomiary-chmura-dziel)\n",
    "        - [Algorytm przyrostowy](#pomiary-chmura-przyrost)\n",
    "        - [Algorytm Jarvisa](#pomiary-chmura-jarvis)\n",
    "        - [Ujęcie zbiorcze](#pomiary-chmura-zbiorczy)\n",
    "        - [Ujęcie zbiorcze bez Chana i Jarvisa](#pomiarcy-chmura-zbiorczy-2)\n",
    "    - [Punkty na okręgu](#pomiary-kolo)\n",
    "        - [Algorytm Grahama](#pomiary-kolo-graham)\n",
    "        - [Algortym \"Górna-dolna\"](#pomiary-kolo-gornadolna)\n",
    "        - [Algorytm Chana](#pomiary-kolo-chan)\n",
    "        - [Algorytm QuickHull](#pomiary-kolo-quickhull)\n",
    "        - [Algorytm dziel i zwyciężaj](#pomiary-kolo-dziel)\n",
    "        - [Algorytm przyrostowy](#pomiary-kolo-przyrost)\n",
    "        - [Algorytm Jarvisa](#pomiary-kolo-jarvis)\n",
    "        - [Ujęcie zbiorcze](#pomiary-kolo-zbiorczy)\n",
    "         -[Ujęcie zbiorcze bez Jarvisa](#pomiary-kolo-zbiorczy-2)\n",
    "    - [Punkty na obwodzie prostokąta](#pomiary-prost)\n",
    "        - [Algorytm Grahama](#pomiary-prost-graham)\n",
    "        - [Algortym \"Górna-dolna\"](#pomiary-prost-gornadolna)\n",
    "        - [Algorytm Chana](#pomiary-prost-chan)\n",
    "        - [Algorytm QuickHull](#pomiary-prost-quickhull)\n",
    "        - [Algorytm dziel i zwyciężaj](#pomiary-prost-dziel)\n",
    "        - [Algorytm przyrostowy](#pomiary-prost-przyrost)\n",
    "        - [Algorytm Jarvisa](#pomiary-prost-jarvis)\n",
    "        - [Ujęcie zbiorcze](#pomiary-prost-zbiorczy)\n",
    "        - [Ujęcie zbiorcze bez Chana](#pomiary-prost-zbiorczy-2)\n",
    "    - [Puntky na kwadracie (2 boki + przekątne)](#pomiary-kw)\n",
    "        - [Algorytm Grahama](#pomiary-kw-graham)\n",
    "        - [Algortym \"Górna-dolna\"](#pomiary-kw-gornadolna)\n",
    "        - [Algorytm Chana](#pomiary-kw-chan)\n",
    "        - [Algorytm QuickHull](#pomiary-kw-quickhull)\n",
    "        - [Algorytm dziel i zwyciężaj](#pomiary-kw-dziel)\n",
    "        - [Algorytm przyrostowy](#pomiary-kw-przyrost)\n",
    "        - [Algorytm Jarvisa](#pomiary-kw-jarvis)\n",
    "        - [Ujęcie zbiorcze](#pomiary-kw-zbiorczy)\n",
    "        - [Ujęcie zbiorcze bez Chana](#pomiary-kw-zbiorczy-2)"
   ]
  },
  {
   "cell_type": "markdown",
   "metadata": {},
   "source": [
    "<a id='section_id'></a>"
   ]
  },
  {
   "cell_type": "markdown",
   "metadata": {},
   "source": [
    "### Importy\n",
    "<a id=\"konfiguracja\"></a>"
   ]
  },
  {
   "cell_type": "markdown",
   "metadata": {},
   "source": [
    "<a id='section_id'></a>"
   ]
  },
  {
   "cell_type": "code",
   "execution_count": 1,
   "metadata": {},
   "outputs": [],
   "source": [
    "from lib import *\n",
    "import numpy as np\n",
    "from vis.divide_conq_vis import divide_conq_vis\n",
    "from vis.graham_vis import *\n",
    "from vis.increase_vis import *\n",
    "from vis.divide_conq_vis import *\n",
    "from vis.jarvis_vis import *\n",
    "from vis.lowerupper_vis import *\n",
    "from vis.chan_vis import *\n",
    "from vis.quickhull_vis import *\n",
    "# Funkcje wizualizujące Łukasza\n",
    "\n",
    "# wypisywanie otoczek w czytelnej formie\n",
    "from pprint import pprint\n",
    "from copy import deepcopy"
   ]
  },
  {
   "cell_type": "markdown",
   "metadata": {},
   "source": [
    "<a id='section_id'></a>"
   ]
  },
  {
   "cell_type": "markdown",
   "metadata": {},
   "source": [
    "<a id='section_id'></a>"
   ]
  },
  {
   "cell_type": "markdown",
   "metadata": {},
   "source": [
    "# Genertor zbiorów punktów\n",
    "\n",
    "<a id=\"generator\"></a>\n",
    "[spis treści](#spis)"
   ]
  },
  {
   "cell_type": "markdown",
   "metadata": {},
   "source": [
    "<a id='section_id'></a>"
   ]
  },
  {
   "cell_type": "markdown",
   "metadata": {},
   "source": [
    "<a id='section_id'></a>"
   ]
  },
  {
   "cell_type": "code",
   "execution_count": 2,
   "metadata": {},
   "outputs": [],
   "source": [
    "import random \n",
    "import math\n",
    "def makeAset(n,x1=-100,y1=100,x2=-100,y2=100):\n",
    "    return [(random.randint(x1,y1), random.randint(x2,y2)) for i in range(n)]\n",
    "\n",
    "def makeBset(n,xs=0,ys=0,r=100):\n",
    "    b = []\n",
    "    for _ in range(n):\n",
    "        t = random.random() * (2*math.pi)\n",
    "        b.append((r*math.sin(t)-xs, r*math.cos(t)-ys))\n",
    "    return b\n",
    "        \n",
    "def makeCset(n,x1=-100,y1=-100,x2=100,y2=-100,x3=100,y3=100,x4=-100,y4=100): # wierzcholki musza byc podawane \n",
    "# kolejno w przeciwnym kierunku do ruchu wskazowek \n",
    "\n",
    "    C=[]\n",
    "    a=np.sqrt((x1-x2)**2+(y1-y2)**2)\n",
    "    b=np.sqrt((x2-x3)**2+(y2-y3)**2)\n",
    "    c=np.sqrt((x3-x4)**2+(y3-y4)**2)\n",
    "    d=np.sqrt((x1-x4)**2+(y1-y4)**2)\n",
    "    obw=a+b+c+d\n",
    "    s=random.random()*obw\n",
    "\n",
    "    for _ in range(n):\n",
    "        s =random.random() * obw\n",
    "        if s<=a:\n",
    "            C.append(((x1+(s/a)*(x2-x1),y1+(y2-y1)*(s/a))))\n",
    "        elif s<=a+b:\n",
    "            C.append((x2+(x3-x2)*((s-a)/b),y2+(y3-y2)*((s-a)/b)))\n",
    "        elif s<=a+b+c:\n",
    "            C.append((x3+(x4-x3)*((s-a-b)/c),y3+(y4-y3)*((s-b-a)/c)))\n",
    "        else:\n",
    "            C.append((x4+(x1-x4)*((s-a-b-c)/d),y4+(y1-y4)*((s-b-a-c)/d)))\n",
    "    return C\n",
    "\n",
    "def makeDset(x1=0,y1=0,x2=10,y2=0,x3=10,y3=10,x4=0,y4=10,n1=100,n2=100,n=0):\n",
    "    if(n!=0):\n",
    "        n1=n\n",
    "        n2=n\n",
    "    D=[]\n",
    "    D.append((x1,y1))\n",
    "    D.append((x2,y2))\n",
    "    D.append((x3,y3))\n",
    "    D.append((x4,y4))\n",
    "    a=np.sqrt((x2-x1)**2+(y2-y1)**2)\n",
    "    d=np.sqrt((x3-x1)**2+(y3-y1)**2)\n",
    "    \n",
    "    for _ in range(n1):\n",
    "        s=random.random()*a\n",
    "        D.append((x1+(x2-x1)*(s/a),y1+(y2-y1)*(s/a)))\n",
    "        D.append((x4+(x1-x4)*(s/a),y4+(y1-y4)*(s/a)))\n",
    "    for _ in range(n2):\n",
    "        s=random.random()*d\n",
    "        D.append((x1+(x3-x1)*(s/d),y1+(y3-y1)*(s/d)))\n",
    "        D.append((x2+(x4-x2)*(s/d),y2+(y4-y2)*(s/d)))\n",
    "    return D   "
   ]
  },
  {
   "cell_type": "markdown",
   "metadata": {},
   "source": [
    "<a id='section_id'></a>"
   ]
  },
  {
   "cell_type": "markdown",
   "metadata": {},
   "source": [
    "## Wybor zbiorow\n",
    "\n",
    "<a id=\"ustalenieZbiorow\"></a>\n",
    "\n",
    "* Zbiór typu A - losowe punkty płaszczyzny o wsp. z zadanego przedziału\n",
    "* Zbiór typu B - losowe punkty leżące na danym okręgu\n",
    "* Zbiór typu C - losowe punkty leżące na obwodzie danego prostokąta\n",
    "* Zbiór typu D - losowe punkty leżące na 2-óch bokach kwadratu i jego przekątnych\n",
    "\n",
    "\n",
    "[spis treści](#spis)\n"
   ]
  },
  {
   "cell_type": "code",
   "execution_count": null,
   "metadata": {},
   "outputs": [],
   "source": [
    "a=makeAset(n=10)\n",
    "b=makeBset(n=10)\n",
    "c=makeCset(n=10)\n",
    "d=makeDset(n=10)"
   ]
  },
  {
   "cell_type": "markdown",
   "metadata": {},
   "source": [
    "# Sekcja Wizualizacji\n",
    "\n",
    "<a id=\"wizualizacja\"></a>\n"
   ]
  },
  {
   "cell_type": "markdown",
   "metadata": {},
   "source": [
    "## Algorytm Jarvisa\n",
    "\n",
    "<a id=\"jarvis\"></a>\n",
    "[spis treści](#spis)\n",
    "\n",
    "[Wybor zbiorow do wizualizcji](#ustalenieZbiorow)\n"
   ]
  },
  {
   "cell_type": "markdown",
   "metadata": {},
   "source": [
    "### Opis"
   ]
  },
  {
   "cell_type": "markdown",
   "metadata": {},
   "source": [
    "* Wyznaczenie najniżej położonego punktu spośród danego zbioru. Jeśli istnieje więcej\n",
    "niż jeden taki punkt, to wybieramy ten o najmniejszej odciętej.\n",
    "\n",
    "* Wyznaczaniu kolejnych punktów otoczki i dodawaniu ich do listy wynikowej, dopóki\n",
    "kolejny punkt otoczki dla punktu bieżącego nie jest pierwszym punktem otoczki.\n",
    "Wyznaczanie kolejnych punktów odbywa się w następujący sposób:\n",
    "    * Jeśli dany punkt należy do otoczki, to następny punkt należący do otoczki, to taki punkt, że wszystkie inne punkty leżą na lewo od odcinka łączącego dany punkt z otoczki z tym punktem.\n",
    " \n",
    "* Tak utworzona lista jest naszą otoczką."
   ]
  },
  {
   "cell_type": "markdown",
   "metadata": {},
   "source": [
    "<a id='section_id'></a>"
   ]
  },
  {
   "cell_type": "markdown",
   "metadata": {},
   "source": [
    "### Jarvis - wizualizacja dla chmury punktów\n",
    "\n",
    "<a id=\"jarvisa\"></a>\n",
    "[spis treści](#spis)\n",
    "\n",
    "[Wybor zbiorow do wizualizcji](#ustalenieZbiorow)\n",
    "\n",
    "[Poczatek sekcji](#jarvis)"
   ]
  },
  {
   "cell_type": "markdown",
   "metadata": {},
   "source": [
    "<a id='section_id'></a>"
   ]
  },
  {
   "cell_type": "code",
   "execution_count": null,
   "metadata": {},
   "outputs": [],
   "source": [
    "%matplotlib notebook\n",
    "\n",
    "ch, plot=jarvis_vis(np.array(a))\n",
    "\n",
    "print(f'Liczba punktow otoczki: {len(ch)}\\nPunkty otoczki:')\n",
    "pprint(ch)\n",
    "\n",
    "plot.draw()"
   ]
  },
  {
   "cell_type": "markdown",
   "metadata": {},
   "source": [
    "<a id='section_id'></a>"
   ]
  },
  {
   "cell_type": "markdown",
   "metadata": {},
   "source": [
    "### Jarvis - wizualizacja dla punktów o rozkładzie kołowym\n",
    "\n",
    "<a id=\"jarvisb\"></a>\n",
    "[spis treści](#spis)\n",
    "\n",
    "[Wybor zbiorow do wizualizcji](#ustalenieZbiorow)\n",
    "\n",
    "[Poczatek sekcji](#jarvis)"
   ]
  },
  {
   "cell_type": "code",
   "execution_count": null,
   "metadata": {},
   "outputs": [],
   "source": [
    "%matplotlib notebook\n",
    "\n",
    "ch, plot = jarvis_vis(np.array(b))\n",
    "\n",
    "print(f'Liczba punktow otoczki: {len(ch)}\\nPunkty otoczki:')\n",
    "pprint(ch)\n",
    "\n",
    "plot.draw()"
   ]
  },
  {
   "cell_type": "markdown",
   "metadata": {},
   "source": [
    "<a id='section_id'></a>"
   ]
  },
  {
   "cell_type": "markdown",
   "metadata": {},
   "source": [
    "### Jarvis - wizualizacja dla punktów o rozkładzie prostokątnym\n",
    "\n",
    "<a id=\"jarvisc\"></a>\n",
    "[spis treści](#spis)\n",
    "\n",
    "[Wybor zbiorow do wizualizcji](#ustalenieZbiorow)\n",
    "\n",
    "[Poczatek sekcji](#jarvis)"
   ]
  },
  {
   "cell_type": "markdown",
   "metadata": {},
   "source": [
    "<a id='section_id'></a>"
   ]
  },
  {
   "cell_type": "code",
   "execution_count": null,
   "metadata": {
    "scrolled": false
   },
   "outputs": [],
   "source": [
    "%matplotlib notebook \n",
    "\n",
    "ch, plot = jarvis_vis(np.array(c))\n",
    "\n",
    "print(f'Liczba punktow otoczki: {len(ch)}\\nPunkty otoczki:')\n",
    "pprint(ch)\n",
    "\n",
    "\n",
    "plot.draw()"
   ]
  },
  {
   "cell_type": "markdown",
   "metadata": {},
   "source": [
    "<a id='section_id'></a>"
   ]
  },
  {
   "cell_type": "markdown",
   "metadata": {},
   "source": [
    "### Jarvis - wizualizacja dla punktów o rozkładzie na dwóh bokach, wierzchołkach i przekątnych prostokąta\n",
    "\n",
    "<a id=\"jarvisd\"></a>\n",
    "[spis treści](#spis)\n",
    "\n",
    "[Wybor zbiorow do wizualizcji](#ustalenieZbiorow)\n",
    "\n",
    "[Poczatek sekcji](#jarvis)"
   ]
  },
  {
   "cell_type": "code",
   "execution_count": null,
   "metadata": {},
   "outputs": [],
   "source": [
    "%matplotlib notebook\n",
    "\n",
    "ch, plot = jarvis_vis(np.array(d))\n",
    "\n",
    "print(f'Liczba punktow otoczki: {len(ch)}\\nPunkty otoczki:')\n",
    "pprint(ch)\n",
    "\n",
    "\n",
    "plot.draw()\n",
    "\n"
   ]
  },
  {
   "cell_type": "markdown",
   "metadata": {},
   "source": [
    "<a id='section_id'></a>"
   ]
  },
  {
   "cell_type": "markdown",
   "metadata": {},
   "source": [
    "<a id='section_id'></a>"
   ]
  },
  {
   "cell_type": "markdown",
   "metadata": {},
   "source": [
    "<a id='section_id'></a>"
   ]
  },
  {
   "cell_type": "markdown",
   "metadata": {},
   "source": [
    "## Algorytm Grahama\n",
    "\n",
    "<a id=\"graham\"></a>\n",
    "[spis treści](#spis)\n",
    "\n",
    "[Wybor zbiorow do wizualizcji](#ustalenieZbiorow)"
   ]
  },
  {
   "cell_type": "markdown",
   "metadata": {},
   "source": [
    "### Opis\n",
    "\n",
    "* Wyznaczenie najniżej położonego punktu spośród danego zbioru. Jeśli istnieje więcej\n",
    "niż jeden taki punkt, to wybieramy ten o najmniejszej odciętej.\n",
    "\n",
    "* Sortowania reszty punktów względem kąta jaki tworzą one z punktem najniższym, \n",
    "a dodatnią osią OX.\n",
    "\n",
    "* Położenie najniższego punktu na stos wraz z pierwszym punktem z posortowanej reszty.\n",
    "\n",
    "* Iteracji po reszcie posortowany punktów:\n",
    "    * Jeżeli kolejny punkt znajduje się po prawej stronie odcinka utworzonego z dwóch\n",
    "ostatnich punktów ze stosu,bądź jest z nim współliniowy, to usuwamy ostatni punkt stosu.\n",
    "    * Kładziemy rozważany punkt na stos.\n",
    "* Na końcu zwracamy całą zawartość stosu - jest to nasza otoczka wypukła."
   ]
  },
  {
   "cell_type": "markdown",
   "metadata": {},
   "source": [
    "<a id='section_id'></a>"
   ]
  },
  {
   "cell_type": "markdown",
   "metadata": {},
   "source": [
    "<a id='section_id'></a>"
   ]
  },
  {
   "cell_type": "markdown",
   "metadata": {},
   "source": [
    "### Graham - wizualizacja dla chmury punktów\n",
    "\n",
    "<a id=\"grahama\"></a>\n",
    "[spis treści](#spis)\n",
    "\n",
    "[Wybor zbiorow do wizualizcji](#ustalenieZbiorow)\n",
    "\n",
    "[Poczatek sekcji](#graham)"
   ]
  },
  {
   "cell_type": "markdown",
   "metadata": {},
   "source": [
    "<a id='section_id'></a>"
   ]
  },
  {
   "cell_type": "code",
   "execution_count": null,
   "metadata": {},
   "outputs": [],
   "source": [
    "%matplotlib notebook\n",
    "\n",
    "# przekazujemy kopię listy punktów, ponieważ algorytm sortujący modyfikuje listę w miejscu\n",
    "ch, plot = graham_vis(a.copy())\n",
    "\n",
    "print(f'Liczba punktow otoczki: {len(ch)}\\nPunkty otoczki:')\n",
    "pprint(ch)\n",
    "\n",
    "plot.draw()\n"
   ]
  },
  {
   "cell_type": "markdown",
   "metadata": {},
   "source": [
    "<a id='section_id'></a>"
   ]
  },
  {
   "cell_type": "markdown",
   "metadata": {},
   "source": [
    "### Graham - wizualizacja dla punktów o rozkładzie kołowym\n",
    "\n",
    "<a id=\"grahamb\"></a>\n",
    "[spis treści](#spis)\n",
    "\n",
    "[Wybor zbiorow do wizualizcji](#ustalenieZbiorow)\n",
    "\n",
    "[Poczatek sekcji](#graham)"
   ]
  },
  {
   "cell_type": "markdown",
   "metadata": {},
   "source": [
    "<a id='section_id'></a>"
   ]
  },
  {
   "cell_type": "code",
   "execution_count": null,
   "metadata": {
    "scrolled": false
   },
   "outputs": [],
   "source": [
    "%matplotlib notebook\n",
    "\n",
    "# przekazujemy kopię listy punktów, poinieważ algorytm sortujący modyfikuje listę w miejscu\n",
    "ch, plot = graham_vis(b.copy())\n",
    "\n",
    "print(f'Liczba punktow otoczki: {len(ch)}\\nPunkty otoczki:')\n",
    "pprint(ch)\n",
    "\n",
    "\n",
    "plot.draw()"
   ]
  },
  {
   "cell_type": "markdown",
   "metadata": {},
   "source": [
    "<a id='section_id'></a>"
   ]
  },
  {
   "cell_type": "markdown",
   "metadata": {},
   "source": [
    "### Graham - wizualizacja dla punktów o rozkładzie prostokątnym\n",
    "\n",
    "<a id=\"grahamac\"></a>\n",
    "[spis treści](#spis)\n",
    "\n",
    "[Wybor zbiorow do wizualizcji](#ustalenieZbiorow)\n",
    "\n",
    "[Poczatek sekcji](#graham)"
   ]
  },
  {
   "cell_type": "markdown",
   "metadata": {},
   "source": [
    "<a id='section_id'></a>"
   ]
  },
  {
   "cell_type": "code",
   "execution_count": null,
   "metadata": {},
   "outputs": [],
   "source": [
    "%matplotlib notebook\n",
    "\n",
    "# przekazujemy kopię listy punktów, ponieważ algorytm sortujący modyfikuje listę w miejscu\n",
    "ch, plot=graham_vis(c.copy())\n",
    "\n",
    "print(f'Liczba punktow otoczki: {len(ch)}\\nPunkty otoczki:')\n",
    "pprint(ch)\n",
    "\n",
    "plot.draw()"
   ]
  },
  {
   "cell_type": "markdown",
   "metadata": {},
   "source": [
    "<a id='section_id'></a>"
   ]
  },
  {
   "cell_type": "markdown",
   "metadata": {},
   "source": [
    "### Graham - wizualizacja dla punktów o rozkładzie na dwóh bokach, wierzchołkach i przekątnych prostokąta\n",
    "\n",
    "<a id=\"grahamd\"></a>\n",
    "[spis treści](#spis)\n",
    "\n",
    "[Wybor zbiorow do wizualizcji](#ustalenieZbiorow)\n",
    "\n",
    "[Poczatek sekcji](#graham)\n",
    "            "
   ]
  },
  {
   "cell_type": "code",
   "execution_count": null,
   "metadata": {},
   "outputs": [],
   "source": [
    "%matplotlib notebook\n",
    "\n",
    "# przekazujemy kopię listy punktów, ponieważ algorytm sortujący modyfikuje listę w miejscu\n",
    "ch, plot = graham_vis(d.copy())\n",
    "\n",
    "print(f'Liczba punktow otoczki: {len(ch)}\\nPunkty otoczki:')\n",
    "pprint(ch)\n",
    "\n",
    "plot.draw()"
   ]
  },
  {
   "cell_type": "markdown",
   "metadata": {},
   "source": [
    "<a id='section_id'></a>"
   ]
  },
  {
   "cell_type": "markdown",
   "metadata": {
    "scrolled": false
   },
   "source": [
    "<a id='section_id'></a>"
   ]
  },
  {
   "cell_type": "markdown",
   "metadata": {},
   "source": [
    "<a id='section_id'></a>"
   ]
  },
  {
   "cell_type": "markdown",
   "metadata": {},
   "source": [
    "## Algorytm górna-dolna\n",
    "\n",
    "<a id=\"goradol\"></a>\n",
    "[spis treści](#spis)\n",
    "\n",
    "[Wybor zbiorow do wizualizcji](#ustalenieZbiorow)"
   ]
  },
  {
   "cell_type": "markdown",
   "metadata": {},
   "source": [
    "<a id='section_id'></a>"
   ]
  },
  {
   "cell_type": "markdown",
   "metadata": {},
   "source": [
    "### Opis\n",
    "\n",
    "\n",
    "1. Sortujemy punkty rosnąco po odciętych (w przypadku rówych, mniejszy jest punkt o mniejszej rzędnej). \n",
    "2. Pierwsze dwa punkty z posortowanego zbioru wpisujemy do zbioru punktów otoczki górnej oraz dolnej.\n",
    "3. Iterujemy po zbiorze punktów zaczynając od i = 2 (trzeciego punktu), niech P będzie bieżącym punktem: \n",
    "    1. Dopóki górna (dolna) otoczka ma co najmniej 2 punkty i P nie znajduje się po prawej (lewej) stronie odcinka skierowanego utworzonego przez ostatniej dwa punkty otoczki (ostatni jest końcem odcinka), wykonujemy 3.2:\n",
    "    2. Usuwamy ostatni punkt z otoczki górej (dolnej). \n",
    "    3. Dodajemy P do punktów otoczki górnej (dolnej). \n",
    "4. Odwracamy kolejność wierzchołków w otoczce dolnej. \n",
    "5. Łączymy zbioru punktów otoczki górnej oraz dolnej. \n",
    "6. Zwracamy złączony zbiór punktów otoczki. \n",
    "    "
   ]
  },
  {
   "cell_type": "markdown",
   "metadata": {},
   "source": [
    "### Gorna-dolna - wizualizacja dla chmury punktów\n",
    "\n",
    "<a id=\"goradola\"></a>\n",
    "[spis treści](#spis)\n",
    "\n",
    "[Wybor zbiorow do wizualizcji](#ustalenieZbiorow)\n",
    "\n",
    "[Poczatek sekcji](#goradol)"
   ]
  },
  {
   "cell_type": "code",
   "execution_count": null,
   "metadata": {},
   "outputs": [],
   "source": [
    "%matplotlib notebook\n",
    "\n",
    "ch, plot = lower_upper_vis(a.copy())\n",
    "\n",
    "print(f'Liczba punktow otoczki: {len(ch)}\\nPunkty otoczki:')\n",
    "pprint(ch)\n",
    "\n",
    "plot.draw()"
   ]
  },
  {
   "cell_type": "markdown",
   "metadata": {},
   "source": [
    "### Gorna-dolna - wizualizacja dla punktów o rozkładzie kołowym\n",
    "\n",
    "<a id=\"goradolb\"></a>\n",
    "[spis treści](#spis)\n",
    "\n",
    "[Wybor zbiorow do wizualizcji](#ustalenieZbiorow)\n",
    "\n",
    "[Poczatek sekcji](#goradol)"
   ]
  },
  {
   "cell_type": "code",
   "execution_count": null,
   "metadata": {},
   "outputs": [],
   "source": [
    "%matplotlib notebook\n",
    "\n",
    "ch, plot = lower_upper_vis(b.copy())\n",
    "\n",
    "print(f'Liczba punktow otoczki: {len(ch)}\\nPunkty otoczki:')\n",
    "pprint(ch)\n",
    "\n",
    "plot.draw()"
   ]
  },
  {
   "cell_type": "markdown",
   "metadata": {},
   "source": [
    "<a id='section_id'></a>"
   ]
  },
  {
   "cell_type": "markdown",
   "metadata": {},
   "source": [
    "### Gorna-dolna - wizualizacja dla punktów o rozkładzie prostokątnym\n",
    "\n",
    "<a id=\"goradolc\"></a>\n",
    "[spis treści](#spis)\n",
    "\n",
    "[Wybor zbiorow do wizualizcji](#ustalenieZbiorow)\n",
    "\n",
    "[Poczatek sekcji](#goradol)"
   ]
  },
  {
   "cell_type": "markdown",
   "metadata": {},
   "source": [
    "<a id='section_id'></a>"
   ]
  },
  {
   "cell_type": "code",
   "execution_count": null,
   "metadata": {},
   "outputs": [],
   "source": [
    "%matplotlib notebook\n",
    "\n",
    "ch, plot = lower_upper_vis(c.copy())\n",
    "\n",
    "print(f'Liczba punktow otoczki: {len(ch)}\\nPunkty otoczki:')\n",
    "pprint(ch)\n",
    "\n",
    "plot.draw()"
   ]
  },
  {
   "cell_type": "markdown",
   "metadata": {},
   "source": [
    "<a id='section_id'></a>"
   ]
  },
  {
   "cell_type": "markdown",
   "metadata": {},
   "source": [
    "### Gorna-dolna - wizualizacja dla punktów o rozkładzie na dwóh bokach, wierzchołkach i przekątnych prostokąta\n",
    "\n",
    "<a id=\"goradold\"></a>\n",
    "[spis treści](#spis)\n",
    "\n",
    "[Wybor zbiorow do wizualizcji](#ustalenieZbiorow)\n",
    "\n",
    "[Poczatek sekcji](#goradol)"
   ]
  },
  {
   "cell_type": "markdown",
   "metadata": {},
   "source": [
    "<a id='section_id'></a>"
   ]
  },
  {
   "cell_type": "code",
   "execution_count": null,
   "metadata": {},
   "outputs": [],
   "source": [
    "%matplotlib notebook\n",
    "\n",
    "ch, plot = lower_upper_vis(d.copy())\n",
    "\n",
    "print(f'Liczba punktow otoczki: {len(ch)}\\nPunkty otoczki:')\n",
    "pprint(ch)\n",
    "\n",
    "plot.draw()"
   ]
  },
  {
   "cell_type": "markdown",
   "metadata": {},
   "source": [
    "<a id='section_id'></a>"
   ]
  },
  {
   "cell_type": "markdown",
   "metadata": {},
   "source": [
    "<a id='section_id'></a>"
   ]
  },
  {
   "cell_type": "markdown",
   "metadata": {},
   "source": [
    "<a id='section_id'></a>"
   ]
  },
  {
   "cell_type": "markdown",
   "metadata": {},
   "source": [
    "## Algorytm przyrostowy\n",
    "\n",
    "<a id=\"przyrost\"></a>\n",
    "[spis treści](#spis)\n",
    "\n",
    "[Wybor zbiorow do wizualizcji](#ustalenieZbiorow)"
   ]
  },
  {
   "cell_type": "markdown",
   "metadata": {},
   "source": [
    "<a id='section_id'></a>"
   ]
  },
  {
   "cell_type": "markdown",
   "metadata": {},
   "source": [
    "### Opis\n",
    "\n",
    "1. Dodajemy pierwsze 3 punkty do zbioru punktów otoczki. \n",
    "2. Iterujemy po pozostałych punktach. Niech P będzie punktem bieżącym:\n",
    "    1. Jeżeli P nie należy do wnętrza obecnie znanej otoczki wykonujemy 2.2 oraz 2.3.\n",
    "    2. Znajdujemy styczne do obecnie znanej otoczki poprowadzone przez punkt P.\n",
    "    3. Aktualizujemy otoczkę.\n",
    "    4. Zwracamy punkty otoczki.\n",
    "    \n",
    "Sortując punkty po odciętych, możemy zrezygnować z testowania przynależności punktu do wnętrza otoczki, zostając przy tej samej klasie złożoności. \n"
   ]
  },
  {
   "cell_type": "markdown",
   "metadata": {},
   "source": [
    "<a id='section_id'></a>"
   ]
  },
  {
   "cell_type": "markdown",
   "metadata": {},
   "source": [
    "### Przyrostowy - wizualizacja dla chmury punktów\n",
    "\n",
    "<a id=\"przyrosta\"></a>\n",
    "[spis treści](#spis)\n",
    "\n",
    "[Wybor zbiorow do wizualizcji](#ustalenieZbiorow)\n",
    "\n",
    "[Poczatek sekcji](#przyrost)"
   ]
  },
  {
   "cell_type": "markdown",
   "metadata": {},
   "source": [
    "<a id='section_id'></a>"
   ]
  },
  {
   "cell_type": "code",
   "execution_count": null,
   "metadata": {},
   "outputs": [],
   "source": [
    "%matplotlib notebook\n",
    "\n",
    "ch, plot = increase_with_sorting_vis(a.copy())\n",
    "\n",
    "print(f'Liczba punktow otoczki: {len(ch)}\\nPunkty otoczki:')\n",
    "pprint(ch)\n",
    "\n",
    "plot.draw()"
   ]
  },
  {
   "cell_type": "markdown",
   "metadata": {},
   "source": [
    "<a id='section_id'></a>"
   ]
  },
  {
   "cell_type": "markdown",
   "metadata": {},
   "source": [
    "### Przyrostowy- wizualizacja dla punktów o rozkładzie kołowym\n",
    "\n",
    "<a id=\"przyrostb\"></a>\n",
    "[spis treści](#spis)\n",
    "\n",
    "[Wybor zbiorow do wizualizcji](#ustalenieZbiorow)\n",
    "\n",
    "[Poczatek sekcji](#przyrost)"
   ]
  },
  {
   "cell_type": "markdown",
   "metadata": {},
   "source": [
    "<a id='section_id'></a>"
   ]
  },
  {
   "cell_type": "code",
   "execution_count": null,
   "metadata": {
    "scrolled": false
   },
   "outputs": [],
   "source": [
    "%matplotlib notebook\n",
    "\n",
    "ch, plot = increase_with_sorting_vis(b.copy())\n",
    "\n",
    "print(f'Liczba punktow otoczki: {len(ch)}\\nPunkty otoczki:')\n",
    "pprint(ch)\n",
    "\n",
    "plot.draw()"
   ]
  },
  {
   "cell_type": "markdown",
   "metadata": {},
   "source": [
    "<a id='section_id'></a>"
   ]
  },
  {
   "cell_type": "markdown",
   "metadata": {},
   "source": [
    "### Przyrostowy - wizualizacja dla punktów o rozkładzie prostokątnym\n",
    "\n",
    "<a id=\"przyrostc\"></a>\n",
    "[spis treści](#spis)\n",
    "\n",
    "[Wybor zbiorow do wizualizcji](#ustalenieZbiorow)\n",
    "\n",
    "[Poczatek sekcji](#przyrost)"
   ]
  },
  {
   "cell_type": "markdown",
   "metadata": {},
   "source": [
    "<a id='section_id'></a>"
   ]
  },
  {
   "cell_type": "code",
   "execution_count": null,
   "metadata": {},
   "outputs": [],
   "source": [
    "%matplotlib notebook\n",
    "\n",
    "ch, plot = increase_with_sorting_vis(c.copy())\n",
    "\n",
    "print(f'Liczba punktow otoczki: {len(ch)}\\nPunkty otoczki:')\n",
    "pprint(ch)\n",
    "\n",
    "plot.draw()"
   ]
  },
  {
   "cell_type": "markdown",
   "metadata": {},
   "source": [
    "<a id='section_id'></a>"
   ]
  },
  {
   "cell_type": "markdown",
   "metadata": {},
   "source": [
    "### Przyrostowy - wizualizacja dla punktów o rozkładzie na dwóh bokach, wierzchołkach i przekątnych prostokąta\n",
    "\n",
    "<a id=\"przyrostd\"></a>\n",
    "[spis treści](#spis)\n",
    "\n",
    "[Wybor zbiorow do wizualizcji](#ustalenieZbiorow)\n",
    "\n",
    "[Poczatek sekcji](#przyrost)"
   ]
  },
  {
   "cell_type": "markdown",
   "metadata": {},
   "source": [
    "<a id='section_id'></a>"
   ]
  },
  {
   "cell_type": "code",
   "execution_count": null,
   "metadata": {},
   "outputs": [],
   "source": [
    "%matplotlib notebook\n",
    "\n",
    "\n",
    "ch, plot = increase_with_sorting_vis(d.copy())\n",
    "\n",
    "print(f'Liczba punktow otoczki: {len(ch)}\\nPunkty otoczki:')\n",
    "pprint(ch)\n",
    "\n",
    "plot.draw()"
   ]
  },
  {
   "cell_type": "markdown",
   "metadata": {},
   "source": [
    "<a id='section_id'></a>"
   ]
  },
  {
   "cell_type": "markdown",
   "metadata": {},
   "source": [
    "<a id='section_id'></a>"
   ]
  },
  {
   "cell_type": "markdown",
   "metadata": {},
   "source": [
    "<a id='section_id'></a>"
   ]
  },
  {
   "cell_type": "markdown",
   "metadata": {},
   "source": [
    "## Algorytm dziel i zwyciezaj\n",
    "\n",
    "<a id=\"dziel\"></a>\n",
    "[spis treści](#spis)\n",
    "\n",
    "[Wybor zbiorow do wizualizcji](#ustalenieZbiorow)"
   ]
  },
  {
   "cell_type": "markdown",
   "metadata": {},
   "source": [
    "<a id='section_id'></a>"
   ]
  },
  {
   "cell_type": "markdown",
   "metadata": {},
   "source": [
    "### Opis\n",
    "\n",
    "Standardowe zastosowanie metody dziel i zwyciężaj: \n",
    "\n",
    "1. Dzielimy punkty na mniejsze bądź równe i większe względem mediany z odciętych tak długo aż każdy wydzielony podzbiór nie ma mocy mniejszej od pewnej zadanej stałej k.\n",
    "2. Znajdujemy otoczki zbiorów <= k elementowych za pomocą innego algorytmu.\n",
    "3. Tak uzyskane otoczki łączymy w odpowiedniej kolejności (odwrotnej do kolejności dzielenia wzorów)"
   ]
  },
  {
   "cell_type": "markdown",
   "metadata": {},
   "source": [
    "<a id='section_id'></a>"
   ]
  },
  {
   "cell_type": "markdown",
   "metadata": {},
   "source": [
    "<a id='section_id'></a>"
   ]
  },
  {
   "cell_type": "markdown",
   "metadata": {},
   "source": [
    "### Dziel i zwyciezaj - wizualizacja dla chmury punktów\n",
    "\n",
    "<a id=\"dziela\"></a>\n",
    "[spis treści](#spis)\n",
    "\n",
    "[Wybor zbiorow do wizualizcji](#ustalenieZbiorow)\n",
    "\n",
    "[Poczatek sekcji](#dziel)"
   ]
  },
  {
   "cell_type": "markdown",
   "metadata": {},
   "source": [
    "<a id='section_id'></a>"
   ]
  },
  {
   "cell_type": "code",
   "execution_count": null,
   "metadata": {},
   "outputs": [],
   "source": [
    "%matplotlib notebook\n",
    "\n",
    "# przy dużych liczebnościach zbiorów testowych, zaleca się zwiększenie stałej k\n",
    "ch, plot = divide_conq_vis(a.copy(), k=2)\n",
    "\n",
    "print(f'Liczba punktow otoczki: {len(ch)}\\nPunkty otoczki:')\n",
    "pprint(ch)\n",
    "\n",
    "plot.draw()"
   ]
  },
  {
   "cell_type": "markdown",
   "metadata": {},
   "source": [
    "<a id='section_id'></a>"
   ]
  },
  {
   "cell_type": "markdown",
   "metadata": {},
   "source": [
    "### Dziel i zwyciezaj - wizualizacja dla punktów o rozkładzie kołowym\n",
    "\n",
    "<a id=\"dzielb\"></a>\n",
    "[spis treści](#spis)\n",
    "\n",
    "[Wybor zbiorow do wizualizcji](#ustalenieZbiorow)\n",
    "\n",
    "[Poczatek sekcji](#dziel)"
   ]
  },
  {
   "cell_type": "code",
   "execution_count": null,
   "metadata": {},
   "outputs": [],
   "source": [
    "%matplotlib notebook\n",
    "\n",
    "k = 5\n",
    "ch, plot = divide_conq_vis(b.copy(), k)\n",
    "\n",
    "print(f'Liczba punktow  otoczki: {len(ch)}\\nPunkty otoczki:')\n",
    "pprint(ch)\n",
    "\n",
    "plot.draw()"
   ]
  },
  {
   "cell_type": "markdown",
   "metadata": {},
   "source": [
    "<a id='section_id'></a>"
   ]
  },
  {
   "cell_type": "markdown",
   "metadata": {},
   "source": [
    "### Dziel i zwyciezaj  - wizualizacja dla punktów o rozkładzie prostokątnym\n",
    "\n",
    "<a id=\"dzielc\"></a>\n",
    "[spis treści](#spis)\n",
    "\n",
    "[Wybor zbiorow do wizualizcji](#ustalenieZbiorow)\n",
    "\n",
    "[Poczatek sekcji](#dziel)"
   ]
  },
  {
   "cell_type": "markdown",
   "metadata": {},
   "source": [
    "<a id='section_id'></a>"
   ]
  },
  {
   "cell_type": "code",
   "execution_count": null,
   "metadata": {
    "scrolled": false
   },
   "outputs": [],
   "source": [
    "%matplotlib notebook\n",
    "\n",
    "k = 5\n",
    "\n",
    "ch, plot = divide_conq_vis(c.copy(), k)\n",
    "\n",
    "print(f'Liczba punktow otoczki: {len(ch)}\\nPunkty otoczki:')\n",
    "# pprint(ch)\n",
    "\n",
    "plot.draw()"
   ]
  },
  {
   "cell_type": "markdown",
   "metadata": {},
   "source": [
    "\n",
    "<a id='section_id'></a>"
   ]
  },
  {
   "cell_type": "markdown",
   "metadata": {},
   "source": [
    "### Dziel i zwyciezaj  - wizualizacja dla punktów o rozkładzie na dwóh bokach, wierzchołkach i przekątnych prostokąta\n",
    "\n",
    "<a id=\"dzield\"></a>\n",
    "[spis treści](#spis)\n",
    "\n",
    "[Wybor zbiorow do wizualizcji](#ustalenieZbiorow)\n",
    "\n",
    "[Poczatek sekcji](#dziel)"
   ]
  },
  {
   "cell_type": "markdown",
   "metadata": {},
   "source": [
    "<a id='section_id'></a>"
   ]
  },
  {
   "cell_type": "code",
   "execution_count": null,
   "metadata": {},
   "outputs": [],
   "source": [
    "%matplotlib notebook\n",
    "\n",
    "k = 5\n",
    "ch, plot = divide_conq_vis(d.copy(), k)\n",
    "\n",
    "print(f'Liczba punktow otoczki: {len(ch)}\\nPunkty otoczki:')\n",
    "pprint(ch)\n",
    "\n",
    "plot.draw()"
   ]
  },
  {
   "cell_type": "markdown",
   "metadata": {},
   "source": [
    "<a id='section_id'></a>"
   ]
  },
  {
   "cell_type": "markdown",
   "metadata": {},
   "source": [
    "<a id='section_id'></a>"
   ]
  },
  {
   "cell_type": "markdown",
   "metadata": {},
   "source": [
    "<a id='section_id'></a>"
   ]
  },
  {
   "cell_type": "markdown",
   "metadata": {},
   "source": [
    "## Algorytm Chana\n",
    "\n",
    "<a id=\"chan\"></a>\n",
    "[spis treści](#spis)\n",
    "\n",
    "[Wybor zbiorow do wizualizcji](#ustalenieZbiorow)"
   ]
  },
  {
   "cell_type": "markdown",
   "metadata": {},
   "source": [
    "<a id='section_id'></a>"
   ]
  },
  {
   "cell_type": "markdown",
   "metadata": {},
   "source": [
    "### Opis \n",
    "\n",
    "1. Pierwsza, która składa się na:\n",
    "    1. Podział zbioru punktów Q na podzbiory Q(i) o w miarę równych ilościach punktów w nich zawartych, z czego żaden nie zawiera więcej niż dane m. \n",
    "    2. Wyznaczenie otoczek C(i) dla każdego zbioru Q(i).\n",
    "2. Druga polega na wykonaniu algorytmu na wzór Jarvisa:\n",
    "    1. Zaczynamy od wybrania punktu najniższego należącego do danego zbioru punktów\n",
    "    2. Jeżeli mamy dany wierzchołek należący do otoczki, to możemy wyznaczyć kolejny w następujący sposób:\n",
    "        1. Dla każdej podotoczki C(i) wyznaczamy punkt styczny q(i) do tej otoczki.\n",
    "        2. Spośród zbioru takich punktów q(i) oraz kolejnego punktu z podotoczki, do której dany punkt należy wybieramy taki punkt, że wszystkie pozostałe punkty znajdują się na lewo od odcinka utworzonego  z wierzchołka należącego do otoczki głównej i niego.\n",
    "        3. Tak wybrany punkt jest kolejnym punktem otoczki głównej.\n",
    "    3. Wyznaczamy kolejne punkty otoczki, dopóki następny punkt otoczki nie jest pierwszym wierzchołkiem otoczki. Jeżeli nie znajdziemy w ten sposób pierwszego punktu otoczki w m iteracjach, to przerywamy\n",
    "wykonanie algorytmu. \n",
    "\n",
    "\n",
    "Główną część algorytmu wykonujemy dla m=4. Jeśli dla danego m Algorytm został przerwany, to podnosimy m do kwadratu i próbujemy dalej. Jeśli m>ilość punktów m=ilość punktów - algorytm\n",
    "sprowadza się wtedy do algorytmu Grahama."
   ]
  },
  {
   "cell_type": "markdown",
   "metadata": {},
   "source": [
    "<a id='section_id'></a>"
   ]
  },
  {
   "cell_type": "markdown",
   "metadata": {},
   "source": [
    "<a id='section_id'></a>"
   ]
  },
  {
   "cell_type": "markdown",
   "metadata": {},
   "source": [
    "### Chan - wizualizacja dla chmury punktów\n",
    "\n",
    "<a id=\"chana\"></a>\n",
    "[spis treści](#spis)\n",
    "\n",
    "[Wybor zbiorow do wizualizcji](#ustalenieZbiorow)\n",
    "\n",
    "[Poczatek sekcji](#chan)"
   ]
  },
  {
   "cell_type": "markdown",
   "metadata": {},
   "source": [
    "<a id='section_id'></a>"
   ]
  },
  {
   "cell_type": "code",
   "execution_count": null,
   "metadata": {},
   "outputs": [],
   "source": [
    "%matplotlib notebook\n",
    "plot=chan_vis(a,visual=True)\n",
    "plot.draw()"
   ]
  },
  {
   "cell_type": "markdown",
   "metadata": {},
   "source": [
    "<a id='section_id'></a>"
   ]
  },
  {
   "cell_type": "markdown",
   "metadata": {},
   "source": [
    "### Chan  - wizualizacja dla punktów o rozkładzie kołowym\n",
    "\n",
    "<a id=\"chanb\"></a>\n",
    "[spis treści](#spis)\n",
    "\n",
    "[Wybor zbiorow do wizualizcji](#ustalenieZbiorow)\n",
    "\n",
    "[Poczatek sekcji](#chan)"
   ]
  },
  {
   "cell_type": "markdown",
   "metadata": {},
   "source": [
    "<a id='section_id'></a>"
   ]
  },
  {
   "cell_type": "code",
   "execution_count": null,
   "metadata": {},
   "outputs": [],
   "source": [
    "%matplotlib notebook\n",
    "plot=chan_vis(b,visual=True)\n",
    "plot.draw()"
   ]
  },
  {
   "cell_type": "markdown",
   "metadata": {},
   "source": [
    "<a id='section_id'></a>"
   ]
  },
  {
   "cell_type": "markdown",
   "metadata": {},
   "source": [
    "### Chan   - wizualizacja dla punktów o rozkładzie prostokątnym\n",
    "\n",
    "<a id=\"chanc\"></a>\n",
    "[spis treści](#spis)\n",
    "\n",
    "[Wybor zbiorow do wizualizcji](#ustalenieZbiorow)\n",
    "\n",
    "[Poczatek sekcji](#chan)"
   ]
  },
  {
   "cell_type": "markdown",
   "metadata": {},
   "source": [
    "<a id='section_id'></a>"
   ]
  },
  {
   "cell_type": "code",
   "execution_count": null,
   "metadata": {
    "scrolled": false
   },
   "outputs": [],
   "source": [
    "%matplotlib notebook\n",
    "\n",
    "plot=chan_vis(c,visual=True)\n",
    "plot.draw()"
   ]
  },
  {
   "cell_type": "markdown",
   "metadata": {},
   "source": [
    "<a id='section_id'></a>"
   ]
  },
  {
   "cell_type": "markdown",
   "metadata": {},
   "source": [
    "### Chan   - wizualizacja dla punktów o rozkładzie na dwóh bokach, wierzchołkach i przekątnych prostokąta\n",
    "\n",
    "<a id=\"chand\"></a>\n",
    "[spis treści](#spis)\n",
    "\n",
    "[Wybor zbiorow do wizualizcji](#ustalenieZbiorow)\n",
    "\n",
    "[Poczatek sekcji](#chan)"
   ]
  },
  {
   "cell_type": "markdown",
   "metadata": {},
   "source": [
    "<a id='section_id'></a>"
   ]
  },
  {
   "cell_type": "code",
   "execution_count": null,
   "metadata": {},
   "outputs": [],
   "source": [
    "%matplotlib notebook\n",
    "plot=chan_vis(d,visual=True)\n",
    "plot.draw()"
   ]
  },
  {
   "cell_type": "markdown",
   "metadata": {},
   "source": [
    "<a id='section_id'></a>"
   ]
  },
  {
   "cell_type": "markdown",
   "metadata": {},
   "source": [
    "<a id='section_id'></a>"
   ]
  },
  {
   "cell_type": "markdown",
   "metadata": {},
   "source": [
    "<a id='section_id'></a>"
   ]
  },
  {
   "cell_type": "markdown",
   "metadata": {},
   "source": [
    "## Algorytm QuickHull\n",
    "\n",
    "<a id=\"quickhull\"></a>\n",
    "[spis treści](#spis)\n",
    "\n",
    "[Wybor zbiorow do wizualizcji](#ustalenieZbiorow)"
   ]
  },
  {
   "cell_type": "markdown",
   "metadata": {},
   "source": [
    "<a id='section_id'></a>"
   ]
  },
  {
   "cell_type": "markdown",
   "metadata": {},
   "source": [
    "### Opis\n",
    "\n",
    "\n",
    "1. Algorytm rozpoczynamy od wyznaczenie dwóch punktów skrajnych a,b - tj. o najmniejszej i największej współżędnej x-owej.\n",
    "2. Następnie uruchamiamy funkcję rekurencyjnego znajdowania łuku należącego do otoczki między danymi punktami należącymi do tej otoczki p,q na prawo od odcinka |p,q|. Otoczką jest suma punktów a, wyniku działania funkcji rekurencyjnej dla odcinka |a,b|,b oraz wyniku działania funkcji rekurencyjnej dla |b,a|\n",
    "3. Funkcja rekurencyjnego wyznaczenia łuku należącego do otoczki między punktami p i q polega na :\n",
    "    1. Wyznaczeniu najbardziej oddalonego punktu na prawo od —p,q— jeśli są punkty po prawej.\n",
    "    2. Jeśli nie ma takich punktów, to takiego łuku nie ma i zwracamy pustą tablicę. \n",
    "    3. W przeciwnym przypadku p,q należą do otoczki, to wyznaczony punkt skrajny r musi należeć do otoczki.\n",
    "    4. Skoro p,k,r należy do otoczki, to wszystkie wierzchołki wewnątrz trójkąta pkr na pewno do najmniej nie należą - usuwamy je.\n",
    "    5. Szukany łuk, to suma działania tej samej funkcji dla punktów p,r, punktu r , oraz wyniku tej funkcji dla punktów r,q w zadanej kolejności. \n",
    "    6. Na koniec zwracamy wyznaczony w ten sposób łuk. "
   ]
  },
  {
   "cell_type": "markdown",
   "metadata": {},
   "source": [
    "<a id='section_id'></a>"
   ]
  },
  {
   "cell_type": "markdown",
   "metadata": {},
   "source": [
    "### QuickHull - wizualizacja dla chmury punktów\n",
    "\n",
    "<a id=\"quickhulla\"></a>\n",
    "[spis treści](#spis)\n",
    "\n",
    "[Wybor zbiorow do wizualizcji](#ustalenieZbiorow)\n",
    "\n",
    "[Poczatek sekcji](#quickhull)"
   ]
  },
  {
   "cell_type": "markdown",
   "metadata": {},
   "source": [
    "<a id='section_id'></a>"
   ]
  },
  {
   "cell_type": "code",
   "execution_count": null,
   "metadata": {},
   "outputs": [],
   "source": [
    "%matplotlib notebook\n",
    "plot=quickHull_vis(a,visual=True)\n",
    "plot.draw()"
   ]
  },
  {
   "cell_type": "markdown",
   "metadata": {},
   "source": [
    "<a id='section_id'></a>"
   ]
  },
  {
   "cell_type": "markdown",
   "metadata": {},
   "source": [
    "### QuickHull - wizualizacja dla punktów o rozkładzie kołowym\n",
    "\n",
    "<a id=\"quickhullb\"></a>\n",
    "[spis treści](#spis)\n",
    "\n",
    "[Wybor zbiorow do wizualizcji](#ustalenieZbiorow)\n",
    "\n",
    "[Poczatek sekcji](#quickhull)"
   ]
  },
  {
   "cell_type": "markdown",
   "metadata": {},
   "source": [
    "<a id='section_id'></a>"
   ]
  },
  {
   "cell_type": "code",
   "execution_count": null,
   "metadata": {},
   "outputs": [],
   "source": [
    "%matplotlib notebook\n",
    "plot=quickHull_vis(b,visual=True)\n",
    "plot.draw()"
   ]
  },
  {
   "cell_type": "markdown",
   "metadata": {},
   "source": [
    "<a id='section_id'></a>"
   ]
  },
  {
   "cell_type": "markdown",
   "metadata": {},
   "source": [
    "### QuickHull  - wizualizacja dla punktów o rozkładzie prostokątnym\n",
    "\n",
    "<a id=\"quickhullc\"></a>\n",
    "[spis treści](#spis)\n",
    "\n",
    "[Wybor zbiorow do wizualizcji](#ustalenieZbiorow)\n",
    "\n",
    "[Poczatek sekcji](#quickhull)"
   ]
  },
  {
   "cell_type": "markdown",
   "metadata": {},
   "source": [
    "<a id='section_id'></a>"
   ]
  },
  {
   "cell_type": "code",
   "execution_count": null,
   "metadata": {},
   "outputs": [],
   "source": [
    "%matplotlib notebook\n",
    "plot=quickHull_vis(c,visual=True)\n",
    "plot.draw()"
   ]
  },
  {
   "cell_type": "markdown",
   "metadata": {},
   "source": [
    "<a id='section_id'></a>"
   ]
  },
  {
   "cell_type": "markdown",
   "metadata": {},
   "source": [
    "### QuickHull  - wizualizacja dla punktów o rozkładzie na dwóh bokach, wierzchołkach i przekątnych prostokąta\n",
    "\n",
    "<a id=\"quickhulld\"></a>\n",
    "[spis treści](#spis)\n",
    "\n",
    "[Wybor zbiorow do wizualizcji](#ustalenieZbiorow)\n",
    "\n",
    "[Poczatek sekcji](#quickhull)"
   ]
  },
  {
   "cell_type": "markdown",
   "metadata": {},
   "source": [
    "<a id='section_id'></a>"
   ]
  },
  {
   "cell_type": "code",
   "execution_count": null,
   "metadata": {},
   "outputs": [],
   "source": [
    "%matplotlib notebook\n",
    "plot=quickHull_vis(d,visual=True)\n",
    "plot.draw()"
   ]
  },
  {
   "cell_type": "markdown",
   "metadata": {},
   "source": [
    "<a id='section_id'></a>"
   ]
  },
  {
   "cell_type": "markdown",
   "metadata": {},
   "source": [
    "<a id='section_id'></a>"
   ]
  },
  {
   "cell_type": "markdown",
   "metadata": {},
   "source": [
    "<a id='section_id'></a>"
   ]
  },
  {
   "cell_type": "markdown",
   "metadata": {},
   "source": [
    "# Sekcja pomiarów czasu\n",
    "\n",
    "<a id=\"pomiary\"></a>\n",
    "\n",
    "[Spis treści](#spis)\n"
   ]
  },
  {
   "cell_type": "markdown",
   "metadata": {},
   "source": [
    "### Funkcja do pomiaru czasów i wizualizacji wyników"
   ]
  },
  {
   "cell_type": "markdown",
   "metadata": {},
   "source": [
    "<a id='section_id'></a>"
   ]
  },
  {
   "cell_type": "code",
   "execution_count": 4,
   "metadata": {},
   "outputs": [],
   "source": [
    "import time\n",
    "\n",
    "from pure.graham import *\n",
    "from pure.jarvis import *\n",
    "from pure.divide_conq import *\n",
    "from pure.chan import *\n",
    "from pure.increase import *\n",
    "from pure.lowerupper import *\n",
    "from pure.quickhull import *\n",
    "\n",
    "from lib.timemeasure import *\n",
    "\n",
    "def generate_plot(xdatas, ydatas, xlabel, ylabel, title):\n",
    "    for xdata, ydata in zip(xdatas, ydatas):\n",
    "        plt.plot(xdata, ydata, ls = '--')\n",
    "        plt.scatter(xdata, ydata)\n",
    "    plt.xlabel(xlabel)\n",
    "    plt.ylabel(ylabel)\n",
    "    plt.title(title)"
   ]
  },
  {
   "cell_type": "markdown",
   "metadata": {},
   "source": [
    "## Pomiary"
   ]
  },
  {
   "cell_type": "markdown",
   "metadata": {},
   "source": [
    "<a id=\"pomiary-chmura\"></a>\n",
    "### Chmura punktów  \n",
    "[Spis treści](#spis)"
   ]
  },
  {
   "cell_type": "markdown",
   "metadata": {},
   "source": [
    "<a id='section_id'></a>"
   ]
  },
  {
   "cell_type": "code",
   "execution_count": 5,
   "metadata": {
    "scrolled": true
   },
   "outputs": [
    {
     "name": "stdout",
     "output_type": "stream",
     "text": [
      "array([[0.02131675, 0.03343126, 0.04568174, 0.07073211, 0.07364747,\n",
      "        0.08682197, 0.10178031, 0.11721999, 0.12737536, 0.14257329],\n",
      "       [0.00734983, 0.00780802, 0.01049649, 0.01339327, 0.01616959,\n",
      "        0.01926019, 0.02207101, 0.02552873, 0.0271816 , 0.02983516],\n",
      "       [0.14818121, 0.2185076 , 0.30196333, 0.38660356, 0.22851814,\n",
      "        0.5661245 , 0.63703098, 0.73543232, 0.79621738, 0.87710018],\n",
      "       [0.00266234, 0.00402023, 0.0052842 , 0.00737544, 0.0082707 ,\n",
      "        0.00951007, 0.01107446, 0.01262258, 0.01352229, 0.01488881],\n",
      "       [0.01590849, 0.02436138, 0.03296377, 0.04633176, 0.05827177,\n",
      "        0.06417938, 0.074799  , 0.08479891, 0.09914961, 0.10870021],\n",
      "       [0.01276309, 0.01767762, 0.02484496, 0.03170522, 0.03774714,\n",
      "        0.04560723, 0.0508779 , 0.05603283, 0.06501646, 0.07086055],\n",
      "       [0.14531405, 0.12710868, 0.21799273, 0.30111638, 0.17845705,\n",
      "        0.39226974, 0.27472825, 0.34442347, 0.42973503, 0.46488945]])\n"
     ]
    }
   ],
   "source": [
    "#lista liczb punktów na których ma być testowany algorytm \n",
    "ns = [ 1000 + i * 500 for i in range(10) ]\n",
    "\n",
    "funcs = [graham, lower_upper, chan, quickHull, divide_conq, increase_with_sorting,jarvis]\n",
    "\n",
    "exectimes_a = np.zeros(shape=(len(funcs), len(ns)))\n",
    "\n",
    "\n",
    "for i, n in enumerate(ns):\n",
    "    points = makeAset(n = n)\n",
    "    for fi, func in enumerate(funcs):\n",
    "        if func is jarvis:\n",
    "#             print(func, 'zmieniam na np.array')\n",
    "            points = np.array(points)\n",
    "        if func is divide_conq:\n",
    "#             print(func, n)\n",
    "            exectimes_a[fi][i] = avg_exec_time(func, n / 10, points=points, times=5)\n",
    "            continue\n",
    "        \n",
    "#         print(func, n)\n",
    "        exectimes_a[fi][i] = avg_exec_time(func, points=points.copy(), times=5)\n",
    "\n",
    "# save_data_csv('./tests/chmura.csv', [\n",
    "#     [round(exectimes_a[i][j],4) for j in range(len(exectimes_a[i]))] for i in range(len(exectimes_a)) \n",
    "# ])\n",
    "    \n",
    "pprint(exectimes_a)\n"
   ]
  },
  {
   "cell_type": "markdown",
   "metadata": {},
   "source": [
    "<a id=\"pomiary-chmura-graham\"></a>\n",
    "### Algorytm Grahama  \n",
    "[Spis treści](#spis)"
   ]
  },
  {
   "cell_type": "code",
   "execution_count": 6,
   "metadata": {},
   "outputs": [
    {
     "data": {
      "application/javascript": [
       "/* Put everything inside the global mpl namespace */\n",
       "/* global mpl */\n",
       "window.mpl = {};\n",
       "\n",
       "mpl.get_websocket_type = function () {\n",
       "    if (typeof WebSocket !== 'undefined') {\n",
       "        return WebSocket;\n",
       "    } else if (typeof MozWebSocket !== 'undefined') {\n",
       "        return MozWebSocket;\n",
       "    } else {\n",
       "        alert(\n",
       "            'Your browser does not have WebSocket support. ' +\n",
       "                'Please try Chrome, Safari or Firefox ≥ 6. ' +\n",
       "                'Firefox 4 and 5 are also supported but you ' +\n",
       "                'have to enable WebSockets in about:config.'\n",
       "        );\n",
       "    }\n",
       "};\n",
       "\n",
       "mpl.figure = function (figure_id, websocket, ondownload, parent_element) {\n",
       "    this.id = figure_id;\n",
       "\n",
       "    this.ws = websocket;\n",
       "\n",
       "    this.supports_binary = this.ws.binaryType !== undefined;\n",
       "\n",
       "    if (!this.supports_binary) {\n",
       "        var warnings = document.getElementById('mpl-warnings');\n",
       "        if (warnings) {\n",
       "            warnings.style.display = 'block';\n",
       "            warnings.textContent =\n",
       "                'This browser does not support binary websocket messages. ' +\n",
       "                'Performance may be slow.';\n",
       "        }\n",
       "    }\n",
       "\n",
       "    this.imageObj = new Image();\n",
       "\n",
       "    this.context = undefined;\n",
       "    this.message = undefined;\n",
       "    this.canvas = undefined;\n",
       "    this.rubberband_canvas = undefined;\n",
       "    this.rubberband_context = undefined;\n",
       "    this.format_dropdown = undefined;\n",
       "\n",
       "    this.image_mode = 'full';\n",
       "\n",
       "    this.root = document.createElement('div');\n",
       "    this.root.setAttribute('style', 'display: inline-block');\n",
       "    this._root_extra_style(this.root);\n",
       "\n",
       "    parent_element.appendChild(this.root);\n",
       "\n",
       "    this._init_header(this);\n",
       "    this._init_canvas(this);\n",
       "    this._init_toolbar(this);\n",
       "\n",
       "    var fig = this;\n",
       "\n",
       "    this.waiting = false;\n",
       "\n",
       "    this.ws.onopen = function () {\n",
       "        fig.send_message('supports_binary', { value: fig.supports_binary });\n",
       "        fig.send_message('send_image_mode', {});\n",
       "        if (fig.ratio !== 1) {\n",
       "            fig.send_message('set_dpi_ratio', { dpi_ratio: fig.ratio });\n",
       "        }\n",
       "        fig.send_message('refresh', {});\n",
       "    };\n",
       "\n",
       "    this.imageObj.onload = function () {\n",
       "        if (fig.image_mode === 'full') {\n",
       "            // Full images could contain transparency (where diff images\n",
       "            // almost always do), so we need to clear the canvas so that\n",
       "            // there is no ghosting.\n",
       "            fig.context.clearRect(0, 0, fig.canvas.width, fig.canvas.height);\n",
       "        }\n",
       "        fig.context.drawImage(fig.imageObj, 0, 0);\n",
       "    };\n",
       "\n",
       "    this.imageObj.onunload = function () {\n",
       "        fig.ws.close();\n",
       "    };\n",
       "\n",
       "    this.ws.onmessage = this._make_on_message_function(this);\n",
       "\n",
       "    this.ondownload = ondownload;\n",
       "};\n",
       "\n",
       "mpl.figure.prototype._init_header = function () {\n",
       "    var titlebar = document.createElement('div');\n",
       "    titlebar.classList =\n",
       "        'ui-dialog-titlebar ui-widget-header ui-corner-all ui-helper-clearfix';\n",
       "    var titletext = document.createElement('div');\n",
       "    titletext.classList = 'ui-dialog-title';\n",
       "    titletext.setAttribute(\n",
       "        'style',\n",
       "        'width: 100%; text-align: center; padding: 3px;'\n",
       "    );\n",
       "    titlebar.appendChild(titletext);\n",
       "    this.root.appendChild(titlebar);\n",
       "    this.header = titletext;\n",
       "};\n",
       "\n",
       "mpl.figure.prototype._canvas_extra_style = function (_canvas_div) {};\n",
       "\n",
       "mpl.figure.prototype._root_extra_style = function (_canvas_div) {};\n",
       "\n",
       "mpl.figure.prototype._init_canvas = function () {\n",
       "    var fig = this;\n",
       "\n",
       "    var canvas_div = (this.canvas_div = document.createElement('div'));\n",
       "    canvas_div.setAttribute(\n",
       "        'style',\n",
       "        'border: 1px solid #ddd;' +\n",
       "            'box-sizing: content-box;' +\n",
       "            'clear: both;' +\n",
       "            'min-height: 1px;' +\n",
       "            'min-width: 1px;' +\n",
       "            'outline: 0;' +\n",
       "            'overflow: hidden;' +\n",
       "            'position: relative;' +\n",
       "            'resize: both;'\n",
       "    );\n",
       "\n",
       "    function on_keyboard_event_closure(name) {\n",
       "        return function (event) {\n",
       "            return fig.key_event(event, name);\n",
       "        };\n",
       "    }\n",
       "\n",
       "    canvas_div.addEventListener(\n",
       "        'keydown',\n",
       "        on_keyboard_event_closure('key_press')\n",
       "    );\n",
       "    canvas_div.addEventListener(\n",
       "        'keyup',\n",
       "        on_keyboard_event_closure('key_release')\n",
       "    );\n",
       "\n",
       "    this._canvas_extra_style(canvas_div);\n",
       "    this.root.appendChild(canvas_div);\n",
       "\n",
       "    var canvas = (this.canvas = document.createElement('canvas'));\n",
       "    canvas.classList.add('mpl-canvas');\n",
       "    canvas.setAttribute('style', 'box-sizing: content-box;');\n",
       "\n",
       "    this.context = canvas.getContext('2d');\n",
       "\n",
       "    var backingStore =\n",
       "        this.context.backingStorePixelRatio ||\n",
       "        this.context.webkitBackingStorePixelRatio ||\n",
       "        this.context.mozBackingStorePixelRatio ||\n",
       "        this.context.msBackingStorePixelRatio ||\n",
       "        this.context.oBackingStorePixelRatio ||\n",
       "        this.context.backingStorePixelRatio ||\n",
       "        1;\n",
       "\n",
       "    this.ratio = (window.devicePixelRatio || 1) / backingStore;\n",
       "    if (this.ratio !== 1) {\n",
       "        fig.send_message('set_dpi_ratio', { dpi_ratio: this.ratio });\n",
       "    }\n",
       "\n",
       "    var rubberband_canvas = (this.rubberband_canvas = document.createElement(\n",
       "        'canvas'\n",
       "    ));\n",
       "    rubberband_canvas.setAttribute(\n",
       "        'style',\n",
       "        'box-sizing: content-box; position: absolute; left: 0; top: 0; z-index: 1;'\n",
       "    );\n",
       "\n",
       "    // Apply a ponyfill if ResizeObserver is not implemented by browser.\n",
       "    if (this.ResizeObserver === undefined) {\n",
       "        if (window.ResizeObserver !== undefined) {\n",
       "            this.ResizeObserver = window.ResizeObserver;\n",
       "        } else {\n",
       "            var obs = _JSXTOOLS_RESIZE_OBSERVER({});\n",
       "            this.ResizeObserver = obs.ResizeObserver;\n",
       "        }\n",
       "    }\n",
       "\n",
       "    this.resizeObserverInstance = new this.ResizeObserver(function (entries) {\n",
       "        var nentries = entries.length;\n",
       "        for (var i = 0; i < nentries; i++) {\n",
       "            var entry = entries[i];\n",
       "            var width, height;\n",
       "            if (entry.contentBoxSize) {\n",
       "                if (entry.contentBoxSize instanceof Array) {\n",
       "                    // Chrome 84 implements new version of spec.\n",
       "                    width = entry.contentBoxSize[0].inlineSize;\n",
       "                    height = entry.contentBoxSize[0].blockSize;\n",
       "                } else {\n",
       "                    // Firefox implements old version of spec.\n",
       "                    width = entry.contentBoxSize.inlineSize;\n",
       "                    height = entry.contentBoxSize.blockSize;\n",
       "                }\n",
       "            } else {\n",
       "                // Chrome <84 implements even older version of spec.\n",
       "                width = entry.contentRect.width;\n",
       "                height = entry.contentRect.height;\n",
       "            }\n",
       "\n",
       "            // Keep the size of the canvas and rubber band canvas in sync with\n",
       "            // the canvas container.\n",
       "            if (entry.devicePixelContentBoxSize) {\n",
       "                // Chrome 84 implements new version of spec.\n",
       "                canvas.setAttribute(\n",
       "                    'width',\n",
       "                    entry.devicePixelContentBoxSize[0].inlineSize\n",
       "                );\n",
       "                canvas.setAttribute(\n",
       "                    'height',\n",
       "                    entry.devicePixelContentBoxSize[0].blockSize\n",
       "                );\n",
       "            } else {\n",
       "                canvas.setAttribute('width', width * fig.ratio);\n",
       "                canvas.setAttribute('height', height * fig.ratio);\n",
       "            }\n",
       "            canvas.setAttribute(\n",
       "                'style',\n",
       "                'width: ' + width + 'px; height: ' + height + 'px;'\n",
       "            );\n",
       "\n",
       "            rubberband_canvas.setAttribute('width', width);\n",
       "            rubberband_canvas.setAttribute('height', height);\n",
       "\n",
       "            // And update the size in Python. We ignore the initial 0/0 size\n",
       "            // that occurs as the element is placed into the DOM, which should\n",
       "            // otherwise not happen due to the minimum size styling.\n",
       "            if (width != 0 && height != 0) {\n",
       "                fig.request_resize(width, height);\n",
       "            }\n",
       "        }\n",
       "    });\n",
       "    this.resizeObserverInstance.observe(canvas_div);\n",
       "\n",
       "    function on_mouse_event_closure(name) {\n",
       "        return function (event) {\n",
       "            return fig.mouse_event(event, name);\n",
       "        };\n",
       "    }\n",
       "\n",
       "    rubberband_canvas.addEventListener(\n",
       "        'mousedown',\n",
       "        on_mouse_event_closure('button_press')\n",
       "    );\n",
       "    rubberband_canvas.addEventListener(\n",
       "        'mouseup',\n",
       "        on_mouse_event_closure('button_release')\n",
       "    );\n",
       "    // Throttle sequential mouse events to 1 every 20ms.\n",
       "    rubberband_canvas.addEventListener(\n",
       "        'mousemove',\n",
       "        on_mouse_event_closure('motion_notify')\n",
       "    );\n",
       "\n",
       "    rubberband_canvas.addEventListener(\n",
       "        'mouseenter',\n",
       "        on_mouse_event_closure('figure_enter')\n",
       "    );\n",
       "    rubberband_canvas.addEventListener(\n",
       "        'mouseleave',\n",
       "        on_mouse_event_closure('figure_leave')\n",
       "    );\n",
       "\n",
       "    canvas_div.addEventListener('wheel', function (event) {\n",
       "        if (event.deltaY < 0) {\n",
       "            event.step = 1;\n",
       "        } else {\n",
       "            event.step = -1;\n",
       "        }\n",
       "        on_mouse_event_closure('scroll')(event);\n",
       "    });\n",
       "\n",
       "    canvas_div.appendChild(canvas);\n",
       "    canvas_div.appendChild(rubberband_canvas);\n",
       "\n",
       "    this.rubberband_context = rubberband_canvas.getContext('2d');\n",
       "    this.rubberband_context.strokeStyle = '#000000';\n",
       "\n",
       "    this._resize_canvas = function (width, height, forward) {\n",
       "        if (forward) {\n",
       "            canvas_div.style.width = width + 'px';\n",
       "            canvas_div.style.height = height + 'px';\n",
       "        }\n",
       "    };\n",
       "\n",
       "    // Disable right mouse context menu.\n",
       "    this.rubberband_canvas.addEventListener('contextmenu', function (_e) {\n",
       "        event.preventDefault();\n",
       "        return false;\n",
       "    });\n",
       "\n",
       "    function set_focus() {\n",
       "        canvas.focus();\n",
       "        canvas_div.focus();\n",
       "    }\n",
       "\n",
       "    window.setTimeout(set_focus, 100);\n",
       "};\n",
       "\n",
       "mpl.figure.prototype._init_toolbar = function () {\n",
       "    var fig = this;\n",
       "\n",
       "    var toolbar = document.createElement('div');\n",
       "    toolbar.classList = 'mpl-toolbar';\n",
       "    this.root.appendChild(toolbar);\n",
       "\n",
       "    function on_click_closure(name) {\n",
       "        return function (_event) {\n",
       "            return fig.toolbar_button_onclick(name);\n",
       "        };\n",
       "    }\n",
       "\n",
       "    function on_mouseover_closure(tooltip) {\n",
       "        return function (event) {\n",
       "            if (!event.currentTarget.disabled) {\n",
       "                return fig.toolbar_button_onmouseover(tooltip);\n",
       "            }\n",
       "        };\n",
       "    }\n",
       "\n",
       "    fig.buttons = {};\n",
       "    var buttonGroup = document.createElement('div');\n",
       "    buttonGroup.classList = 'mpl-button-group';\n",
       "    for (var toolbar_ind in mpl.toolbar_items) {\n",
       "        var name = mpl.toolbar_items[toolbar_ind][0];\n",
       "        var tooltip = mpl.toolbar_items[toolbar_ind][1];\n",
       "        var image = mpl.toolbar_items[toolbar_ind][2];\n",
       "        var method_name = mpl.toolbar_items[toolbar_ind][3];\n",
       "\n",
       "        if (!name) {\n",
       "            /* Instead of a spacer, we start a new button group. */\n",
       "            if (buttonGroup.hasChildNodes()) {\n",
       "                toolbar.appendChild(buttonGroup);\n",
       "            }\n",
       "            buttonGroup = document.createElement('div');\n",
       "            buttonGroup.classList = 'mpl-button-group';\n",
       "            continue;\n",
       "        }\n",
       "\n",
       "        var button = (fig.buttons[name] = document.createElement('button'));\n",
       "        button.classList = 'mpl-widget';\n",
       "        button.setAttribute('role', 'button');\n",
       "        button.setAttribute('aria-disabled', 'false');\n",
       "        button.addEventListener('click', on_click_closure(method_name));\n",
       "        button.addEventListener('mouseover', on_mouseover_closure(tooltip));\n",
       "\n",
       "        var icon_img = document.createElement('img');\n",
       "        icon_img.src = '_images/' + image + '.png';\n",
       "        icon_img.srcset = '_images/' + image + '_large.png 2x';\n",
       "        icon_img.alt = tooltip;\n",
       "        button.appendChild(icon_img);\n",
       "\n",
       "        buttonGroup.appendChild(button);\n",
       "    }\n",
       "\n",
       "    if (buttonGroup.hasChildNodes()) {\n",
       "        toolbar.appendChild(buttonGroup);\n",
       "    }\n",
       "\n",
       "    var fmt_picker = document.createElement('select');\n",
       "    fmt_picker.classList = 'mpl-widget';\n",
       "    toolbar.appendChild(fmt_picker);\n",
       "    this.format_dropdown = fmt_picker;\n",
       "\n",
       "    for (var ind in mpl.extensions) {\n",
       "        var fmt = mpl.extensions[ind];\n",
       "        var option = document.createElement('option');\n",
       "        option.selected = fmt === mpl.default_extension;\n",
       "        option.innerHTML = fmt;\n",
       "        fmt_picker.appendChild(option);\n",
       "    }\n",
       "\n",
       "    var status_bar = document.createElement('span');\n",
       "    status_bar.classList = 'mpl-message';\n",
       "    toolbar.appendChild(status_bar);\n",
       "    this.message = status_bar;\n",
       "};\n",
       "\n",
       "mpl.figure.prototype.request_resize = function (x_pixels, y_pixels) {\n",
       "    // Request matplotlib to resize the figure. Matplotlib will then trigger a resize in the client,\n",
       "    // which will in turn request a refresh of the image.\n",
       "    this.send_message('resize', { width: x_pixels, height: y_pixels });\n",
       "};\n",
       "\n",
       "mpl.figure.prototype.send_message = function (type, properties) {\n",
       "    properties['type'] = type;\n",
       "    properties['figure_id'] = this.id;\n",
       "    this.ws.send(JSON.stringify(properties));\n",
       "};\n",
       "\n",
       "mpl.figure.prototype.send_draw_message = function () {\n",
       "    if (!this.waiting) {\n",
       "        this.waiting = true;\n",
       "        this.ws.send(JSON.stringify({ type: 'draw', figure_id: this.id }));\n",
       "    }\n",
       "};\n",
       "\n",
       "mpl.figure.prototype.handle_save = function (fig, _msg) {\n",
       "    var format_dropdown = fig.format_dropdown;\n",
       "    var format = format_dropdown.options[format_dropdown.selectedIndex].value;\n",
       "    fig.ondownload(fig, format);\n",
       "};\n",
       "\n",
       "mpl.figure.prototype.handle_resize = function (fig, msg) {\n",
       "    var size = msg['size'];\n",
       "    if (size[0] !== fig.canvas.width || size[1] !== fig.canvas.height) {\n",
       "        fig._resize_canvas(size[0], size[1], msg['forward']);\n",
       "        fig.send_message('refresh', {});\n",
       "    }\n",
       "};\n",
       "\n",
       "mpl.figure.prototype.handle_rubberband = function (fig, msg) {\n",
       "    var x0 = msg['x0'] / fig.ratio;\n",
       "    var y0 = (fig.canvas.height - msg['y0']) / fig.ratio;\n",
       "    var x1 = msg['x1'] / fig.ratio;\n",
       "    var y1 = (fig.canvas.height - msg['y1']) / fig.ratio;\n",
       "    x0 = Math.floor(x0) + 0.5;\n",
       "    y0 = Math.floor(y0) + 0.5;\n",
       "    x1 = Math.floor(x1) + 0.5;\n",
       "    y1 = Math.floor(y1) + 0.5;\n",
       "    var min_x = Math.min(x0, x1);\n",
       "    var min_y = Math.min(y0, y1);\n",
       "    var width = Math.abs(x1 - x0);\n",
       "    var height = Math.abs(y1 - y0);\n",
       "\n",
       "    fig.rubberband_context.clearRect(\n",
       "        0,\n",
       "        0,\n",
       "        fig.canvas.width / fig.ratio,\n",
       "        fig.canvas.height / fig.ratio\n",
       "    );\n",
       "\n",
       "    fig.rubberband_context.strokeRect(min_x, min_y, width, height);\n",
       "};\n",
       "\n",
       "mpl.figure.prototype.handle_figure_label = function (fig, msg) {\n",
       "    // Updates the figure title.\n",
       "    fig.header.textContent = msg['label'];\n",
       "};\n",
       "\n",
       "mpl.figure.prototype.handle_cursor = function (fig, msg) {\n",
       "    var cursor = msg['cursor'];\n",
       "    switch (cursor) {\n",
       "        case 0:\n",
       "            cursor = 'pointer';\n",
       "            break;\n",
       "        case 1:\n",
       "            cursor = 'default';\n",
       "            break;\n",
       "        case 2:\n",
       "            cursor = 'crosshair';\n",
       "            break;\n",
       "        case 3:\n",
       "            cursor = 'move';\n",
       "            break;\n",
       "    }\n",
       "    fig.rubberband_canvas.style.cursor = cursor;\n",
       "};\n",
       "\n",
       "mpl.figure.prototype.handle_message = function (fig, msg) {\n",
       "    fig.message.textContent = msg['message'];\n",
       "};\n",
       "\n",
       "mpl.figure.prototype.handle_draw = function (fig, _msg) {\n",
       "    // Request the server to send over a new figure.\n",
       "    fig.send_draw_message();\n",
       "};\n",
       "\n",
       "mpl.figure.prototype.handle_image_mode = function (fig, msg) {\n",
       "    fig.image_mode = msg['mode'];\n",
       "};\n",
       "\n",
       "mpl.figure.prototype.handle_history_buttons = function (fig, msg) {\n",
       "    for (var key in msg) {\n",
       "        if (!(key in fig.buttons)) {\n",
       "            continue;\n",
       "        }\n",
       "        fig.buttons[key].disabled = !msg[key];\n",
       "        fig.buttons[key].setAttribute('aria-disabled', !msg[key]);\n",
       "    }\n",
       "};\n",
       "\n",
       "mpl.figure.prototype.handle_navigate_mode = function (fig, msg) {\n",
       "    if (msg['mode'] === 'PAN') {\n",
       "        fig.buttons['Pan'].classList.add('active');\n",
       "        fig.buttons['Zoom'].classList.remove('active');\n",
       "    } else if (msg['mode'] === 'ZOOM') {\n",
       "        fig.buttons['Pan'].classList.remove('active');\n",
       "        fig.buttons['Zoom'].classList.add('active');\n",
       "    } else {\n",
       "        fig.buttons['Pan'].classList.remove('active');\n",
       "        fig.buttons['Zoom'].classList.remove('active');\n",
       "    }\n",
       "};\n",
       "\n",
       "mpl.figure.prototype.updated_canvas_event = function () {\n",
       "    // Called whenever the canvas gets updated.\n",
       "    this.send_message('ack', {});\n",
       "};\n",
       "\n",
       "// A function to construct a web socket function for onmessage handling.\n",
       "// Called in the figure constructor.\n",
       "mpl.figure.prototype._make_on_message_function = function (fig) {\n",
       "    return function socket_on_message(evt) {\n",
       "        if (evt.data instanceof Blob) {\n",
       "            /* FIXME: We get \"Resource interpreted as Image but\n",
       "             * transferred with MIME type text/plain:\" errors on\n",
       "             * Chrome.  But how to set the MIME type?  It doesn't seem\n",
       "             * to be part of the websocket stream */\n",
       "            evt.data.type = 'image/png';\n",
       "\n",
       "            /* Free the memory for the previous frames */\n",
       "            if (fig.imageObj.src) {\n",
       "                (window.URL || window.webkitURL).revokeObjectURL(\n",
       "                    fig.imageObj.src\n",
       "                );\n",
       "            }\n",
       "\n",
       "            fig.imageObj.src = (window.URL || window.webkitURL).createObjectURL(\n",
       "                evt.data\n",
       "            );\n",
       "            fig.updated_canvas_event();\n",
       "            fig.waiting = false;\n",
       "            return;\n",
       "        } else if (\n",
       "            typeof evt.data === 'string' &&\n",
       "            evt.data.slice(0, 21) === 'data:image/png;base64'\n",
       "        ) {\n",
       "            fig.imageObj.src = evt.data;\n",
       "            fig.updated_canvas_event();\n",
       "            fig.waiting = false;\n",
       "            return;\n",
       "        }\n",
       "\n",
       "        var msg = JSON.parse(evt.data);\n",
       "        var msg_type = msg['type'];\n",
       "\n",
       "        // Call the  \"handle_{type}\" callback, which takes\n",
       "        // the figure and JSON message as its only arguments.\n",
       "        try {\n",
       "            var callback = fig['handle_' + msg_type];\n",
       "        } catch (e) {\n",
       "            console.log(\n",
       "                \"No handler for the '\" + msg_type + \"' message type: \",\n",
       "                msg\n",
       "            );\n",
       "            return;\n",
       "        }\n",
       "\n",
       "        if (callback) {\n",
       "            try {\n",
       "                // console.log(\"Handling '\" + msg_type + \"' message: \", msg);\n",
       "                callback(fig, msg);\n",
       "            } catch (e) {\n",
       "                console.log(\n",
       "                    \"Exception inside the 'handler_\" + msg_type + \"' callback:\",\n",
       "                    e,\n",
       "                    e.stack,\n",
       "                    msg\n",
       "                );\n",
       "            }\n",
       "        }\n",
       "    };\n",
       "};\n",
       "\n",
       "// from http://stackoverflow.com/questions/1114465/getting-mouse-location-in-canvas\n",
       "mpl.findpos = function (e) {\n",
       "    //this section is from http://www.quirksmode.org/js/events_properties.html\n",
       "    var targ;\n",
       "    if (!e) {\n",
       "        e = window.event;\n",
       "    }\n",
       "    if (e.target) {\n",
       "        targ = e.target;\n",
       "    } else if (e.srcElement) {\n",
       "        targ = e.srcElement;\n",
       "    }\n",
       "    if (targ.nodeType === 3) {\n",
       "        // defeat Safari bug\n",
       "        targ = targ.parentNode;\n",
       "    }\n",
       "\n",
       "    // pageX,Y are the mouse positions relative to the document\n",
       "    var boundingRect = targ.getBoundingClientRect();\n",
       "    var x = e.pageX - (boundingRect.left + document.body.scrollLeft);\n",
       "    var y = e.pageY - (boundingRect.top + document.body.scrollTop);\n",
       "\n",
       "    return { x: x, y: y };\n",
       "};\n",
       "\n",
       "/*\n",
       " * return a copy of an object with only non-object keys\n",
       " * we need this to avoid circular references\n",
       " * http://stackoverflow.com/a/24161582/3208463\n",
       " */\n",
       "function simpleKeys(original) {\n",
       "    return Object.keys(original).reduce(function (obj, key) {\n",
       "        if (typeof original[key] !== 'object') {\n",
       "            obj[key] = original[key];\n",
       "        }\n",
       "        return obj;\n",
       "    }, {});\n",
       "}\n",
       "\n",
       "mpl.figure.prototype.mouse_event = function (event, name) {\n",
       "    var canvas_pos = mpl.findpos(event);\n",
       "\n",
       "    if (name === 'button_press') {\n",
       "        this.canvas.focus();\n",
       "        this.canvas_div.focus();\n",
       "    }\n",
       "\n",
       "    var x = canvas_pos.x * this.ratio;\n",
       "    var y = canvas_pos.y * this.ratio;\n",
       "\n",
       "    this.send_message(name, {\n",
       "        x: x,\n",
       "        y: y,\n",
       "        button: event.button,\n",
       "        step: event.step,\n",
       "        guiEvent: simpleKeys(event),\n",
       "    });\n",
       "\n",
       "    /* This prevents the web browser from automatically changing to\n",
       "     * the text insertion cursor when the button is pressed.  We want\n",
       "     * to control all of the cursor setting manually through the\n",
       "     * 'cursor' event from matplotlib */\n",
       "    event.preventDefault();\n",
       "    return false;\n",
       "};\n",
       "\n",
       "mpl.figure.prototype._key_event_extra = function (_event, _name) {\n",
       "    // Handle any extra behaviour associated with a key event\n",
       "};\n",
       "\n",
       "mpl.figure.prototype.key_event = function (event, name) {\n",
       "    // Prevent repeat events\n",
       "    if (name === 'key_press') {\n",
       "        if (event.which === this._key) {\n",
       "            return;\n",
       "        } else {\n",
       "            this._key = event.which;\n",
       "        }\n",
       "    }\n",
       "    if (name === 'key_release') {\n",
       "        this._key = null;\n",
       "    }\n",
       "\n",
       "    var value = '';\n",
       "    if (event.ctrlKey && event.which !== 17) {\n",
       "        value += 'ctrl+';\n",
       "    }\n",
       "    if (event.altKey && event.which !== 18) {\n",
       "        value += 'alt+';\n",
       "    }\n",
       "    if (event.shiftKey && event.which !== 16) {\n",
       "        value += 'shift+';\n",
       "    }\n",
       "\n",
       "    value += 'k';\n",
       "    value += event.which.toString();\n",
       "\n",
       "    this._key_event_extra(event, name);\n",
       "\n",
       "    this.send_message(name, { key: value, guiEvent: simpleKeys(event) });\n",
       "    return false;\n",
       "};\n",
       "\n",
       "mpl.figure.prototype.toolbar_button_onclick = function (name) {\n",
       "    if (name === 'download') {\n",
       "        this.handle_save(this, null);\n",
       "    } else {\n",
       "        this.send_message('toolbar_button', { name: name });\n",
       "    }\n",
       "};\n",
       "\n",
       "mpl.figure.prototype.toolbar_button_onmouseover = function (tooltip) {\n",
       "    this.message.textContent = tooltip;\n",
       "};\n",
       "\n",
       "///////////////// REMAINING CONTENT GENERATED BY embed_js.py /////////////////\n",
       "// prettier-ignore\n",
       "var _JSXTOOLS_RESIZE_OBSERVER=function(A){var t,i=new WeakMap,n=new WeakMap,a=new WeakMap,r=new WeakMap,o=new Set;function s(e){if(!(this instanceof s))throw new TypeError(\"Constructor requires 'new' operator\");i.set(this,e)}function h(){throw new TypeError(\"Function is not a constructor\")}function c(e,t,i,n){e=0 in arguments?Number(arguments[0]):0,t=1 in arguments?Number(arguments[1]):0,i=2 in arguments?Number(arguments[2]):0,n=3 in arguments?Number(arguments[3]):0,this.right=(this.x=this.left=e)+(this.width=i),this.bottom=(this.y=this.top=t)+(this.height=n),Object.freeze(this)}function d(){t=requestAnimationFrame(d);var s=new WeakMap,p=new Set;o.forEach((function(t){r.get(t).forEach((function(i){var r=t instanceof window.SVGElement,o=a.get(t),d=r?0:parseFloat(o.paddingTop),f=r?0:parseFloat(o.paddingRight),l=r?0:parseFloat(o.paddingBottom),u=r?0:parseFloat(o.paddingLeft),g=r?0:parseFloat(o.borderTopWidth),m=r?0:parseFloat(o.borderRightWidth),w=r?0:parseFloat(o.borderBottomWidth),b=u+f,F=d+l,v=(r?0:parseFloat(o.borderLeftWidth))+m,W=g+w,y=r?0:t.offsetHeight-W-t.clientHeight,E=r?0:t.offsetWidth-v-t.clientWidth,R=b+v,z=F+W,M=r?t.width:parseFloat(o.width)-R-E,O=r?t.height:parseFloat(o.height)-z-y;if(n.has(t)){var k=n.get(t);if(k[0]===M&&k[1]===O)return}n.set(t,[M,O]);var S=Object.create(h.prototype);S.target=t,S.contentRect=new c(u,d,M,O),s.has(i)||(s.set(i,[]),p.add(i)),s.get(i).push(S)}))})),p.forEach((function(e){i.get(e).call(e,s.get(e),e)}))}return s.prototype.observe=function(i){if(i instanceof window.Element){r.has(i)||(r.set(i,new Set),o.add(i),a.set(i,window.getComputedStyle(i)));var n=r.get(i);n.has(this)||n.add(this),cancelAnimationFrame(t),t=requestAnimationFrame(d)}},s.prototype.unobserve=function(i){if(i instanceof window.Element&&r.has(i)){var n=r.get(i);n.has(this)&&(n.delete(this),n.size||(r.delete(i),o.delete(i))),n.size||r.delete(i),o.size||cancelAnimationFrame(t)}},A.DOMRectReadOnly=c,A.ResizeObserver=s,A.ResizeObserverEntry=h,A}; // eslint-disable-line\n",
       "mpl.toolbar_items = [[\"Home\", \"Reset original view\", \"fa fa-home icon-home\", \"home\"], [\"Back\", \"Back to previous view\", \"fa fa-arrow-left icon-arrow-left\", \"back\"], [\"Forward\", \"Forward to next view\", \"fa fa-arrow-right icon-arrow-right\", \"forward\"], [\"\", \"\", \"\", \"\"], [\"Pan\", \"Left button pans, Right button zooms\\nx/y fixes axis, CTRL fixes aspect\", \"fa fa-arrows icon-move\", \"pan\"], [\"Zoom\", \"Zoom to rectangle\\nx/y fixes axis, CTRL fixes aspect\", \"fa fa-square-o icon-check-empty\", \"zoom\"], [\"\", \"\", \"\", \"\"], [\"Download\", \"Download plot\", \"fa fa-floppy-o icon-save\", \"download\"]];\n",
       "\n",
       "mpl.extensions = [\"eps\", \"jpeg\", \"pdf\", \"png\", \"ps\", \"raw\", \"svg\", \"tif\"];\n",
       "\n",
       "mpl.default_extension = \"png\";/* global mpl */\n",
       "\n",
       "var comm_websocket_adapter = function (comm) {\n",
       "    // Create a \"websocket\"-like object which calls the given IPython comm\n",
       "    // object with the appropriate methods. Currently this is a non binary\n",
       "    // socket, so there is still some room for performance tuning.\n",
       "    var ws = {};\n",
       "\n",
       "    ws.close = function () {\n",
       "        comm.close();\n",
       "    };\n",
       "    ws.send = function (m) {\n",
       "        //console.log('sending', m);\n",
       "        comm.send(m);\n",
       "    };\n",
       "    // Register the callback with on_msg.\n",
       "    comm.on_msg(function (msg) {\n",
       "        //console.log('receiving', msg['content']['data'], msg);\n",
       "        // Pass the mpl event to the overridden (by mpl) onmessage function.\n",
       "        ws.onmessage(msg['content']['data']);\n",
       "    });\n",
       "    return ws;\n",
       "};\n",
       "\n",
       "mpl.mpl_figure_comm = function (comm, msg) {\n",
       "    // This is the function which gets called when the mpl process\n",
       "    // starts-up an IPython Comm through the \"matplotlib\" channel.\n",
       "\n",
       "    var id = msg.content.data.id;\n",
       "    // Get hold of the div created by the display call when the Comm\n",
       "    // socket was opened in Python.\n",
       "    var element = document.getElementById(id);\n",
       "    var ws_proxy = comm_websocket_adapter(comm);\n",
       "\n",
       "    function ondownload(figure, _format) {\n",
       "        window.open(figure.canvas.toDataURL());\n",
       "    }\n",
       "\n",
       "    var fig = new mpl.figure(id, ws_proxy, ondownload, element);\n",
       "\n",
       "    // Call onopen now - mpl needs it, as it is assuming we've passed it a real\n",
       "    // web socket which is closed, not our websocket->open comm proxy.\n",
       "    ws_proxy.onopen();\n",
       "\n",
       "    fig.parent_element = element;\n",
       "    fig.cell_info = mpl.find_output_cell(\"<div id='\" + id + \"'></div>\");\n",
       "    if (!fig.cell_info) {\n",
       "        console.error('Failed to find cell for figure', id, fig);\n",
       "        return;\n",
       "    }\n",
       "    fig.cell_info[0].output_area.element.on(\n",
       "        'cleared',\n",
       "        { fig: fig },\n",
       "        fig._remove_fig_handler\n",
       "    );\n",
       "};\n",
       "\n",
       "mpl.figure.prototype.handle_close = function (fig, msg) {\n",
       "    var width = fig.canvas.width / fig.ratio;\n",
       "    fig.cell_info[0].output_area.element.off(\n",
       "        'cleared',\n",
       "        fig._remove_fig_handler\n",
       "    );\n",
       "    fig.resizeObserverInstance.unobserve(fig.canvas_div);\n",
       "\n",
       "    // Update the output cell to use the data from the current canvas.\n",
       "    fig.push_to_output();\n",
       "    var dataURL = fig.canvas.toDataURL();\n",
       "    // Re-enable the keyboard manager in IPython - without this line, in FF,\n",
       "    // the notebook keyboard shortcuts fail.\n",
       "    IPython.keyboard_manager.enable();\n",
       "    fig.parent_element.innerHTML =\n",
       "        '<img src=\"' + dataURL + '\" width=\"' + width + '\">';\n",
       "    fig.close_ws(fig, msg);\n",
       "};\n",
       "\n",
       "mpl.figure.prototype.close_ws = function (fig, msg) {\n",
       "    fig.send_message('closing', msg);\n",
       "    // fig.ws.close()\n",
       "};\n",
       "\n",
       "mpl.figure.prototype.push_to_output = function (_remove_interactive) {\n",
       "    // Turn the data on the canvas into data in the output cell.\n",
       "    var width = this.canvas.width / this.ratio;\n",
       "    var dataURL = this.canvas.toDataURL();\n",
       "    this.cell_info[1]['text/html'] =\n",
       "        '<img src=\"' + dataURL + '\" width=\"' + width + '\">';\n",
       "};\n",
       "\n",
       "mpl.figure.prototype.updated_canvas_event = function () {\n",
       "    // Tell IPython that the notebook contents must change.\n",
       "    IPython.notebook.set_dirty(true);\n",
       "    this.send_message('ack', {});\n",
       "    var fig = this;\n",
       "    // Wait a second, then push the new image to the DOM so\n",
       "    // that it is saved nicely (might be nice to debounce this).\n",
       "    setTimeout(function () {\n",
       "        fig.push_to_output();\n",
       "    }, 1000);\n",
       "};\n",
       "\n",
       "mpl.figure.prototype._init_toolbar = function () {\n",
       "    var fig = this;\n",
       "\n",
       "    var toolbar = document.createElement('div');\n",
       "    toolbar.classList = 'btn-toolbar';\n",
       "    this.root.appendChild(toolbar);\n",
       "\n",
       "    function on_click_closure(name) {\n",
       "        return function (_event) {\n",
       "            return fig.toolbar_button_onclick(name);\n",
       "        };\n",
       "    }\n",
       "\n",
       "    function on_mouseover_closure(tooltip) {\n",
       "        return function (event) {\n",
       "            if (!event.currentTarget.disabled) {\n",
       "                return fig.toolbar_button_onmouseover(tooltip);\n",
       "            }\n",
       "        };\n",
       "    }\n",
       "\n",
       "    fig.buttons = {};\n",
       "    var buttonGroup = document.createElement('div');\n",
       "    buttonGroup.classList = 'btn-group';\n",
       "    var button;\n",
       "    for (var toolbar_ind in mpl.toolbar_items) {\n",
       "        var name = mpl.toolbar_items[toolbar_ind][0];\n",
       "        var tooltip = mpl.toolbar_items[toolbar_ind][1];\n",
       "        var image = mpl.toolbar_items[toolbar_ind][2];\n",
       "        var method_name = mpl.toolbar_items[toolbar_ind][3];\n",
       "\n",
       "        if (!name) {\n",
       "            /* Instead of a spacer, we start a new button group. */\n",
       "            if (buttonGroup.hasChildNodes()) {\n",
       "                toolbar.appendChild(buttonGroup);\n",
       "            }\n",
       "            buttonGroup = document.createElement('div');\n",
       "            buttonGroup.classList = 'btn-group';\n",
       "            continue;\n",
       "        }\n",
       "\n",
       "        button = fig.buttons[name] = document.createElement('button');\n",
       "        button.classList = 'btn btn-default';\n",
       "        button.href = '#';\n",
       "        button.title = name;\n",
       "        button.innerHTML = '<i class=\"fa ' + image + ' fa-lg\"></i>';\n",
       "        button.addEventListener('click', on_click_closure(method_name));\n",
       "        button.addEventListener('mouseover', on_mouseover_closure(tooltip));\n",
       "        buttonGroup.appendChild(button);\n",
       "    }\n",
       "\n",
       "    if (buttonGroup.hasChildNodes()) {\n",
       "        toolbar.appendChild(buttonGroup);\n",
       "    }\n",
       "\n",
       "    // Add the status bar.\n",
       "    var status_bar = document.createElement('span');\n",
       "    status_bar.classList = 'mpl-message pull-right';\n",
       "    toolbar.appendChild(status_bar);\n",
       "    this.message = status_bar;\n",
       "\n",
       "    // Add the close button to the window.\n",
       "    var buttongrp = document.createElement('div');\n",
       "    buttongrp.classList = 'btn-group inline pull-right';\n",
       "    button = document.createElement('button');\n",
       "    button.classList = 'btn btn-mini btn-primary';\n",
       "    button.href = '#';\n",
       "    button.title = 'Stop Interaction';\n",
       "    button.innerHTML = '<i class=\"fa fa-power-off icon-remove icon-large\"></i>';\n",
       "    button.addEventListener('click', function (_evt) {\n",
       "        fig.handle_close(fig, {});\n",
       "    });\n",
       "    button.addEventListener(\n",
       "        'mouseover',\n",
       "        on_mouseover_closure('Stop Interaction')\n",
       "    );\n",
       "    buttongrp.appendChild(button);\n",
       "    var titlebar = this.root.querySelector('.ui-dialog-titlebar');\n",
       "    titlebar.insertBefore(buttongrp, titlebar.firstChild);\n",
       "};\n",
       "\n",
       "mpl.figure.prototype._remove_fig_handler = function (event) {\n",
       "    var fig = event.data.fig;\n",
       "    if (event.target !== this) {\n",
       "        // Ignore bubbled events from children.\n",
       "        return;\n",
       "    }\n",
       "    fig.close_ws(fig, {});\n",
       "};\n",
       "\n",
       "mpl.figure.prototype._root_extra_style = function (el) {\n",
       "    el.style.boxSizing = 'content-box'; // override notebook setting of border-box.\n",
       "};\n",
       "\n",
       "mpl.figure.prototype._canvas_extra_style = function (el) {\n",
       "    // this is important to make the div 'focusable\n",
       "    el.setAttribute('tabindex', 0);\n",
       "    // reach out to IPython and tell the keyboard manager to turn it's self\n",
       "    // off when our div gets focus\n",
       "\n",
       "    // location in version 3\n",
       "    if (IPython.notebook.keyboard_manager) {\n",
       "        IPython.notebook.keyboard_manager.register_events(el);\n",
       "    } else {\n",
       "        // location in version 2\n",
       "        IPython.keyboard_manager.register_events(el);\n",
       "    }\n",
       "};\n",
       "\n",
       "mpl.figure.prototype._key_event_extra = function (event, _name) {\n",
       "    var manager = IPython.notebook.keyboard_manager;\n",
       "    if (!manager) {\n",
       "        manager = IPython.keyboard_manager;\n",
       "    }\n",
       "\n",
       "    // Check for shift+enter\n",
       "    if (event.shiftKey && event.which === 13) {\n",
       "        this.canvas_div.blur();\n",
       "        // select the cell after this one\n",
       "        var index = IPython.notebook.find_cell_index(this.cell_info[0]);\n",
       "        IPython.notebook.select(index + 1);\n",
       "    }\n",
       "};\n",
       "\n",
       "mpl.figure.prototype.handle_save = function (fig, _msg) {\n",
       "    fig.ondownload(fig, null);\n",
       "};\n",
       "\n",
       "mpl.find_output_cell = function (html_output) {\n",
       "    // Return the cell and output element which can be found *uniquely* in the notebook.\n",
       "    // Note - this is a bit hacky, but it is done because the \"notebook_saving.Notebook\"\n",
       "    // IPython event is triggered only after the cells have been serialised, which for\n",
       "    // our purposes (turning an active figure into a static one), is too late.\n",
       "    var cells = IPython.notebook.get_cells();\n",
       "    var ncells = cells.length;\n",
       "    for (var i = 0; i < ncells; i++) {\n",
       "        var cell = cells[i];\n",
       "        if (cell.cell_type === 'code') {\n",
       "            for (var j = 0; j < cell.output_area.outputs.length; j++) {\n",
       "                var data = cell.output_area.outputs[j];\n",
       "                if (data.data) {\n",
       "                    // IPython >= 3 moved mimebundle to data attribute of output\n",
       "                    data = data.data;\n",
       "                }\n",
       "                if (data['text/html'] === html_output) {\n",
       "                    return [cell, data, j];\n",
       "                }\n",
       "            }\n",
       "        }\n",
       "    }\n",
       "};\n",
       "\n",
       "// Register the function which deals with the matplotlib target/channel.\n",
       "// The kernel may be null if the page has been refreshed.\n",
       "if (IPython.notebook.kernel !== null) {\n",
       "    IPython.notebook.kernel.comm_manager.register_target(\n",
       "        'matplotlib',\n",
       "        mpl.mpl_figure_comm\n",
       "    );\n",
       "}\n"
      ],
      "text/plain": [
       "<IPython.core.display.Javascript object>"
      ]
     },
     "metadata": {},
     "output_type": "display_data"
    },
    {
     "data": {
      "text/html": [
       "<img src=\"data:image/png;base64,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\" width=\"639.9999861283738\">"
      ],
      "text/plain": [
       "<IPython.core.display.HTML object>"
      ]
     },
     "metadata": {},
     "output_type": "display_data"
    }
   ],
   "source": [
    "%matplotlib notebook\n",
    "\n",
    "generate_plot([ns], [exectimes_a[0]], 'Liczba punktów', 'Czas wykonania [s]', 'Algorytm Grahama')\n",
    "\n",
    "plt.show()\n",
    "# plt.savefig('./tests/chmura-graham.png')"
   ]
  },
  {
   "cell_type": "markdown",
   "metadata": {},
   "source": [
    "### Algorytm \"górna-dolna\"\n",
    "<a id=\"pomiary-chmura-gornadolna\"></a>\n",
    "[Spis treści](#spis)"
   ]
  },
  {
   "cell_type": "code",
   "execution_count": null,
   "metadata": {},
   "outputs": [],
   "source": [
    "%matplotlib notebook\n",
    "\n",
    "generate_plot([ns], [exectimes_a[1]], 'Liczba punktów', 'Czas wykonania [s]', 'Algorytm \"górna-dolna\"')\n",
    "\n",
    "plt.show()\n",
    "# plt.savefig('./tests/chmura-lowerupper.png')"
   ]
  },
  {
   "cell_type": "markdown",
   "metadata": {},
   "source": [
    "### Algorytm Chana\n",
    "<a id=\"pomiary-chmura-chan\"></a>\n",
    "[Spis treści](#spis)"
   ]
  },
  {
   "cell_type": "code",
   "execution_count": null,
   "metadata": {},
   "outputs": [],
   "source": [
    "%matplotlib notebook\n",
    "\n",
    "generate_plot([ns], [exectimes_a[2]], 'Liczba punktów', 'Czas wykonania [s]', 'Algorytm Chana')\n",
    "\n",
    "plt.show()\n",
    "# plt.savefig('./tests/chmura-chan.png')"
   ]
  },
  {
   "cell_type": "markdown",
   "metadata": {},
   "source": [
    "### Algorytm QuickHull\n",
    "<a id=\"pomiary-chmura-quickhull\"></a>\n",
    "[Spis treści](#spis)"
   ]
  },
  {
   "cell_type": "code",
   "execution_count": null,
   "metadata": {},
   "outputs": [],
   "source": [
    "%matplotlib notebook\n",
    "\n",
    "generate_plot([ns], [exectimes_a[3]], 'Liczba punktów', 'Czas wykonania [s]', 'Algorytm QuickHull')\n",
    "\n",
    "plt.show()\n",
    "# plt.savefig('./tests/chmura-quickhull.png')"
   ]
  },
  {
   "cell_type": "markdown",
   "metadata": {},
   "source": [
    "### Algorytm dziel i zwyciężaj\n",
    "<a id=\"pomiary-chmura-dziel\"></a>\n",
    "[Spis treści](#spis)"
   ]
  },
  {
   "cell_type": "code",
   "execution_count": null,
   "metadata": {},
   "outputs": [],
   "source": [
    "%matplotlib notebook\n",
    "\n",
    "generate_plot([ns], [exectimes_a[4]], 'Liczba punktów', 'Czas wykonania [s]', 'Algorytm dziel i zwyciezaj')\n",
    "\n",
    "plt.show()\n",
    "# plt.savefig('./tests/chmura-dziel.png')"
   ]
  },
  {
   "cell_type": "markdown",
   "metadata": {},
   "source": [
    "### Algorytm przyrostowy\n",
    "<a id=\"pomiary-chmura-przyrost\"></a>\n",
    "[Spis treści](#spis)"
   ]
  },
  {
   "cell_type": "code",
   "execution_count": null,
   "metadata": {},
   "outputs": [],
   "source": [
    "%matplotlib notebook\n",
    "\n",
    "generate_plot([ns], [exectimes_a[5]], 'Liczba punktów', 'Czas wykonania [s]', 'Algorytm przyrostowy')\n",
    "\n",
    "plt.show()\n",
    "# plt.savefig('./tests/chmura-przyrost.png')"
   ]
  },
  {
   "cell_type": "markdown",
   "metadata": {},
   "source": [
    "### Algorytm Jarvisa\n",
    "<a id=\"pomiary-chmura-graham\"></a>\n",
    "[Spis treści](#spis)"
   ]
  },
  {
   "cell_type": "code",
   "execution_count": null,
   "metadata": {},
   "outputs": [],
   "source": [
    "%matplotlib notebook\n",
    "\n",
    "generate_plot([ns], [exectimes_a[6]], 'Liczba punktów', 'Czas wykonania [s]', 'Algorytm Jarvisa')\n",
    "\n",
    "plt.show()\n",
    "# plt.savefig('./tests/chmura-jarvis.png')"
   ]
  },
  {
   "cell_type": "markdown",
   "metadata": {},
   "source": [
    "### Ujęcie zbiorcze\n",
    "<a id=\"pomiary-chmura-zbiorczy\"></a>\n",
    "[Spis treści](#spis)"
   ]
  },
  {
   "cell_type": "code",
   "execution_count": null,
   "metadata": {},
   "outputs": [],
   "source": [
    "%matplotlib notebook\n",
    "\n",
    "generate_plot([ns for _ in range(len(exectimes_a))], exectimes_a, 'Liczba punktów', 'Czas wykonania [s]', 'Ujęcie zbiorcze')\n",
    "plt.legend(labels=('graham', 'lowerupper', 'Chan', 'QuickHull', 'Dziel i zwyciezaj','Przyrostowy','Jarvis'))\n",
    "plt.show()\n",
    "# plt.savefig('./tests/chmura-zbiorczy.png')"
   ]
  },
  {
   "cell_type": "markdown",
   "metadata": {},
   "source": [
    "### Ujęcie zbiorcze bez algorytmów $O(n^2)$\n",
    "<a id=\"pomiary-chmura-zbiorczy-2\"></a>\n",
    "[Spis treści](#spis)"
   ]
  },
  {
   "cell_type": "code",
   "execution_count": 7,
   "metadata": {},
   "outputs": [
    {
     "data": {
      "application/javascript": [
       "/* Put everything inside the global mpl namespace */\n",
       "/* global mpl */\n",
       "window.mpl = {};\n",
       "\n",
       "mpl.get_websocket_type = function () {\n",
       "    if (typeof WebSocket !== 'undefined') {\n",
       "        return WebSocket;\n",
       "    } else if (typeof MozWebSocket !== 'undefined') {\n",
       "        return MozWebSocket;\n",
       "    } else {\n",
       "        alert(\n",
       "            'Your browser does not have WebSocket support. ' +\n",
       "                'Please try Chrome, Safari or Firefox ≥ 6. ' +\n",
       "                'Firefox 4 and 5 are also supported but you ' +\n",
       "                'have to enable WebSockets in about:config.'\n",
       "        );\n",
       "    }\n",
       "};\n",
       "\n",
       "mpl.figure = function (figure_id, websocket, ondownload, parent_element) {\n",
       "    this.id = figure_id;\n",
       "\n",
       "    this.ws = websocket;\n",
       "\n",
       "    this.supports_binary = this.ws.binaryType !== undefined;\n",
       "\n",
       "    if (!this.supports_binary) {\n",
       "        var warnings = document.getElementById('mpl-warnings');\n",
       "        if (warnings) {\n",
       "            warnings.style.display = 'block';\n",
       "            warnings.textContent =\n",
       "                'This browser does not support binary websocket messages. ' +\n",
       "                'Performance may be slow.';\n",
       "        }\n",
       "    }\n",
       "\n",
       "    this.imageObj = new Image();\n",
       "\n",
       "    this.context = undefined;\n",
       "    this.message = undefined;\n",
       "    this.canvas = undefined;\n",
       "    this.rubberband_canvas = undefined;\n",
       "    this.rubberband_context = undefined;\n",
       "    this.format_dropdown = undefined;\n",
       "\n",
       "    this.image_mode = 'full';\n",
       "\n",
       "    this.root = document.createElement('div');\n",
       "    this.root.setAttribute('style', 'display: inline-block');\n",
       "    this._root_extra_style(this.root);\n",
       "\n",
       "    parent_element.appendChild(this.root);\n",
       "\n",
       "    this._init_header(this);\n",
       "    this._init_canvas(this);\n",
       "    this._init_toolbar(this);\n",
       "\n",
       "    var fig = this;\n",
       "\n",
       "    this.waiting = false;\n",
       "\n",
       "    this.ws.onopen = function () {\n",
       "        fig.send_message('supports_binary', { value: fig.supports_binary });\n",
       "        fig.send_message('send_image_mode', {});\n",
       "        if (fig.ratio !== 1) {\n",
       "            fig.send_message('set_dpi_ratio', { dpi_ratio: fig.ratio });\n",
       "        }\n",
       "        fig.send_message('refresh', {});\n",
       "    };\n",
       "\n",
       "    this.imageObj.onload = function () {\n",
       "        if (fig.image_mode === 'full') {\n",
       "            // Full images could contain transparency (where diff images\n",
       "            // almost always do), so we need to clear the canvas so that\n",
       "            // there is no ghosting.\n",
       "            fig.context.clearRect(0, 0, fig.canvas.width, fig.canvas.height);\n",
       "        }\n",
       "        fig.context.drawImage(fig.imageObj, 0, 0);\n",
       "    };\n",
       "\n",
       "    this.imageObj.onunload = function () {\n",
       "        fig.ws.close();\n",
       "    };\n",
       "\n",
       "    this.ws.onmessage = this._make_on_message_function(this);\n",
       "\n",
       "    this.ondownload = ondownload;\n",
       "};\n",
       "\n",
       "mpl.figure.prototype._init_header = function () {\n",
       "    var titlebar = document.createElement('div');\n",
       "    titlebar.classList =\n",
       "        'ui-dialog-titlebar ui-widget-header ui-corner-all ui-helper-clearfix';\n",
       "    var titletext = document.createElement('div');\n",
       "    titletext.classList = 'ui-dialog-title';\n",
       "    titletext.setAttribute(\n",
       "        'style',\n",
       "        'width: 100%; text-align: center; padding: 3px;'\n",
       "    );\n",
       "    titlebar.appendChild(titletext);\n",
       "    this.root.appendChild(titlebar);\n",
       "    this.header = titletext;\n",
       "};\n",
       "\n",
       "mpl.figure.prototype._canvas_extra_style = function (_canvas_div) {};\n",
       "\n",
       "mpl.figure.prototype._root_extra_style = function (_canvas_div) {};\n",
       "\n",
       "mpl.figure.prototype._init_canvas = function () {\n",
       "    var fig = this;\n",
       "\n",
       "    var canvas_div = (this.canvas_div = document.createElement('div'));\n",
       "    canvas_div.setAttribute(\n",
       "        'style',\n",
       "        'border: 1px solid #ddd;' +\n",
       "            'box-sizing: content-box;' +\n",
       "            'clear: both;' +\n",
       "            'min-height: 1px;' +\n",
       "            'min-width: 1px;' +\n",
       "            'outline: 0;' +\n",
       "            'overflow: hidden;' +\n",
       "            'position: relative;' +\n",
       "            'resize: both;'\n",
       "    );\n",
       "\n",
       "    function on_keyboard_event_closure(name) {\n",
       "        return function (event) {\n",
       "            return fig.key_event(event, name);\n",
       "        };\n",
       "    }\n",
       "\n",
       "    canvas_div.addEventListener(\n",
       "        'keydown',\n",
       "        on_keyboard_event_closure('key_press')\n",
       "    );\n",
       "    canvas_div.addEventListener(\n",
       "        'keyup',\n",
       "        on_keyboard_event_closure('key_release')\n",
       "    );\n",
       "\n",
       "    this._canvas_extra_style(canvas_div);\n",
       "    this.root.appendChild(canvas_div);\n",
       "\n",
       "    var canvas = (this.canvas = document.createElement('canvas'));\n",
       "    canvas.classList.add('mpl-canvas');\n",
       "    canvas.setAttribute('style', 'box-sizing: content-box;');\n",
       "\n",
       "    this.context = canvas.getContext('2d');\n",
       "\n",
       "    var backingStore =\n",
       "        this.context.backingStorePixelRatio ||\n",
       "        this.context.webkitBackingStorePixelRatio ||\n",
       "        this.context.mozBackingStorePixelRatio ||\n",
       "        this.context.msBackingStorePixelRatio ||\n",
       "        this.context.oBackingStorePixelRatio ||\n",
       "        this.context.backingStorePixelRatio ||\n",
       "        1;\n",
       "\n",
       "    this.ratio = (window.devicePixelRatio || 1) / backingStore;\n",
       "    if (this.ratio !== 1) {\n",
       "        fig.send_message('set_dpi_ratio', { dpi_ratio: this.ratio });\n",
       "    }\n",
       "\n",
       "    var rubberband_canvas = (this.rubberband_canvas = document.createElement(\n",
       "        'canvas'\n",
       "    ));\n",
       "    rubberband_canvas.setAttribute(\n",
       "        'style',\n",
       "        'box-sizing: content-box; position: absolute; left: 0; top: 0; z-index: 1;'\n",
       "    );\n",
       "\n",
       "    // Apply a ponyfill if ResizeObserver is not implemented by browser.\n",
       "    if (this.ResizeObserver === undefined) {\n",
       "        if (window.ResizeObserver !== undefined) {\n",
       "            this.ResizeObserver = window.ResizeObserver;\n",
       "        } else {\n",
       "            var obs = _JSXTOOLS_RESIZE_OBSERVER({});\n",
       "            this.ResizeObserver = obs.ResizeObserver;\n",
       "        }\n",
       "    }\n",
       "\n",
       "    this.resizeObserverInstance = new this.ResizeObserver(function (entries) {\n",
       "        var nentries = entries.length;\n",
       "        for (var i = 0; i < nentries; i++) {\n",
       "            var entry = entries[i];\n",
       "            var width, height;\n",
       "            if (entry.contentBoxSize) {\n",
       "                if (entry.contentBoxSize instanceof Array) {\n",
       "                    // Chrome 84 implements new version of spec.\n",
       "                    width = entry.contentBoxSize[0].inlineSize;\n",
       "                    height = entry.contentBoxSize[0].blockSize;\n",
       "                } else {\n",
       "                    // Firefox implements old version of spec.\n",
       "                    width = entry.contentBoxSize.inlineSize;\n",
       "                    height = entry.contentBoxSize.blockSize;\n",
       "                }\n",
       "            } else {\n",
       "                // Chrome <84 implements even older version of spec.\n",
       "                width = entry.contentRect.width;\n",
       "                height = entry.contentRect.height;\n",
       "            }\n",
       "\n",
       "            // Keep the size of the canvas and rubber band canvas in sync with\n",
       "            // the canvas container.\n",
       "            if (entry.devicePixelContentBoxSize) {\n",
       "                // Chrome 84 implements new version of spec.\n",
       "                canvas.setAttribute(\n",
       "                    'width',\n",
       "                    entry.devicePixelContentBoxSize[0].inlineSize\n",
       "                );\n",
       "                canvas.setAttribute(\n",
       "                    'height',\n",
       "                    entry.devicePixelContentBoxSize[0].blockSize\n",
       "                );\n",
       "            } else {\n",
       "                canvas.setAttribute('width', width * fig.ratio);\n",
       "                canvas.setAttribute('height', height * fig.ratio);\n",
       "            }\n",
       "            canvas.setAttribute(\n",
       "                'style',\n",
       "                'width: ' + width + 'px; height: ' + height + 'px;'\n",
       "            );\n",
       "\n",
       "            rubberband_canvas.setAttribute('width', width);\n",
       "            rubberband_canvas.setAttribute('height', height);\n",
       "\n",
       "            // And update the size in Python. We ignore the initial 0/0 size\n",
       "            // that occurs as the element is placed into the DOM, which should\n",
       "            // otherwise not happen due to the minimum size styling.\n",
       "            if (width != 0 && height != 0) {\n",
       "                fig.request_resize(width, height);\n",
       "            }\n",
       "        }\n",
       "    });\n",
       "    this.resizeObserverInstance.observe(canvas_div);\n",
       "\n",
       "    function on_mouse_event_closure(name) {\n",
       "        return function (event) {\n",
       "            return fig.mouse_event(event, name);\n",
       "        };\n",
       "    }\n",
       "\n",
       "    rubberband_canvas.addEventListener(\n",
       "        'mousedown',\n",
       "        on_mouse_event_closure('button_press')\n",
       "    );\n",
       "    rubberband_canvas.addEventListener(\n",
       "        'mouseup',\n",
       "        on_mouse_event_closure('button_release')\n",
       "    );\n",
       "    // Throttle sequential mouse events to 1 every 20ms.\n",
       "    rubberband_canvas.addEventListener(\n",
       "        'mousemove',\n",
       "        on_mouse_event_closure('motion_notify')\n",
       "    );\n",
       "\n",
       "    rubberband_canvas.addEventListener(\n",
       "        'mouseenter',\n",
       "        on_mouse_event_closure('figure_enter')\n",
       "    );\n",
       "    rubberband_canvas.addEventListener(\n",
       "        'mouseleave',\n",
       "        on_mouse_event_closure('figure_leave')\n",
       "    );\n",
       "\n",
       "    canvas_div.addEventListener('wheel', function (event) {\n",
       "        if (event.deltaY < 0) {\n",
       "            event.step = 1;\n",
       "        } else {\n",
       "            event.step = -1;\n",
       "        }\n",
       "        on_mouse_event_closure('scroll')(event);\n",
       "    });\n",
       "\n",
       "    canvas_div.appendChild(canvas);\n",
       "    canvas_div.appendChild(rubberband_canvas);\n",
       "\n",
       "    this.rubberband_context = rubberband_canvas.getContext('2d');\n",
       "    this.rubberband_context.strokeStyle = '#000000';\n",
       "\n",
       "    this._resize_canvas = function (width, height, forward) {\n",
       "        if (forward) {\n",
       "            canvas_div.style.width = width + 'px';\n",
       "            canvas_div.style.height = height + 'px';\n",
       "        }\n",
       "    };\n",
       "\n",
       "    // Disable right mouse context menu.\n",
       "    this.rubberband_canvas.addEventListener('contextmenu', function (_e) {\n",
       "        event.preventDefault();\n",
       "        return false;\n",
       "    });\n",
       "\n",
       "    function set_focus() {\n",
       "        canvas.focus();\n",
       "        canvas_div.focus();\n",
       "    }\n",
       "\n",
       "    window.setTimeout(set_focus, 100);\n",
       "};\n",
       "\n",
       "mpl.figure.prototype._init_toolbar = function () {\n",
       "    var fig = this;\n",
       "\n",
       "    var toolbar = document.createElement('div');\n",
       "    toolbar.classList = 'mpl-toolbar';\n",
       "    this.root.appendChild(toolbar);\n",
       "\n",
       "    function on_click_closure(name) {\n",
       "        return function (_event) {\n",
       "            return fig.toolbar_button_onclick(name);\n",
       "        };\n",
       "    }\n",
       "\n",
       "    function on_mouseover_closure(tooltip) {\n",
       "        return function (event) {\n",
       "            if (!event.currentTarget.disabled) {\n",
       "                return fig.toolbar_button_onmouseover(tooltip);\n",
       "            }\n",
       "        };\n",
       "    }\n",
       "\n",
       "    fig.buttons = {};\n",
       "    var buttonGroup = document.createElement('div');\n",
       "    buttonGroup.classList = 'mpl-button-group';\n",
       "    for (var toolbar_ind in mpl.toolbar_items) {\n",
       "        var name = mpl.toolbar_items[toolbar_ind][0];\n",
       "        var tooltip = mpl.toolbar_items[toolbar_ind][1];\n",
       "        var image = mpl.toolbar_items[toolbar_ind][2];\n",
       "        var method_name = mpl.toolbar_items[toolbar_ind][3];\n",
       "\n",
       "        if (!name) {\n",
       "            /* Instead of a spacer, we start a new button group. */\n",
       "            if (buttonGroup.hasChildNodes()) {\n",
       "                toolbar.appendChild(buttonGroup);\n",
       "            }\n",
       "            buttonGroup = document.createElement('div');\n",
       "            buttonGroup.classList = 'mpl-button-group';\n",
       "            continue;\n",
       "        }\n",
       "\n",
       "        var button = (fig.buttons[name] = document.createElement('button'));\n",
       "        button.classList = 'mpl-widget';\n",
       "        button.setAttribute('role', 'button');\n",
       "        button.setAttribute('aria-disabled', 'false');\n",
       "        button.addEventListener('click', on_click_closure(method_name));\n",
       "        button.addEventListener('mouseover', on_mouseover_closure(tooltip));\n",
       "\n",
       "        var icon_img = document.createElement('img');\n",
       "        icon_img.src = '_images/' + image + '.png';\n",
       "        icon_img.srcset = '_images/' + image + '_large.png 2x';\n",
       "        icon_img.alt = tooltip;\n",
       "        button.appendChild(icon_img);\n",
       "\n",
       "        buttonGroup.appendChild(button);\n",
       "    }\n",
       "\n",
       "    if (buttonGroup.hasChildNodes()) {\n",
       "        toolbar.appendChild(buttonGroup);\n",
       "    }\n",
       "\n",
       "    var fmt_picker = document.createElement('select');\n",
       "    fmt_picker.classList = 'mpl-widget';\n",
       "    toolbar.appendChild(fmt_picker);\n",
       "    this.format_dropdown = fmt_picker;\n",
       "\n",
       "    for (var ind in mpl.extensions) {\n",
       "        var fmt = mpl.extensions[ind];\n",
       "        var option = document.createElement('option');\n",
       "        option.selected = fmt === mpl.default_extension;\n",
       "        option.innerHTML = fmt;\n",
       "        fmt_picker.appendChild(option);\n",
       "    }\n",
       "\n",
       "    var status_bar = document.createElement('span');\n",
       "    status_bar.classList = 'mpl-message';\n",
       "    toolbar.appendChild(status_bar);\n",
       "    this.message = status_bar;\n",
       "};\n",
       "\n",
       "mpl.figure.prototype.request_resize = function (x_pixels, y_pixels) {\n",
       "    // Request matplotlib to resize the figure. Matplotlib will then trigger a resize in the client,\n",
       "    // which will in turn request a refresh of the image.\n",
       "    this.send_message('resize', { width: x_pixels, height: y_pixels });\n",
       "};\n",
       "\n",
       "mpl.figure.prototype.send_message = function (type, properties) {\n",
       "    properties['type'] = type;\n",
       "    properties['figure_id'] = this.id;\n",
       "    this.ws.send(JSON.stringify(properties));\n",
       "};\n",
       "\n",
       "mpl.figure.prototype.send_draw_message = function () {\n",
       "    if (!this.waiting) {\n",
       "        this.waiting = true;\n",
       "        this.ws.send(JSON.stringify({ type: 'draw', figure_id: this.id }));\n",
       "    }\n",
       "};\n",
       "\n",
       "mpl.figure.prototype.handle_save = function (fig, _msg) {\n",
       "    var format_dropdown = fig.format_dropdown;\n",
       "    var format = format_dropdown.options[format_dropdown.selectedIndex].value;\n",
       "    fig.ondownload(fig, format);\n",
       "};\n",
       "\n",
       "mpl.figure.prototype.handle_resize = function (fig, msg) {\n",
       "    var size = msg['size'];\n",
       "    if (size[0] !== fig.canvas.width || size[1] !== fig.canvas.height) {\n",
       "        fig._resize_canvas(size[0], size[1], msg['forward']);\n",
       "        fig.send_message('refresh', {});\n",
       "    }\n",
       "};\n",
       "\n",
       "mpl.figure.prototype.handle_rubberband = function (fig, msg) {\n",
       "    var x0 = msg['x0'] / fig.ratio;\n",
       "    var y0 = (fig.canvas.height - msg['y0']) / fig.ratio;\n",
       "    var x1 = msg['x1'] / fig.ratio;\n",
       "    var y1 = (fig.canvas.height - msg['y1']) / fig.ratio;\n",
       "    x0 = Math.floor(x0) + 0.5;\n",
       "    y0 = Math.floor(y0) + 0.5;\n",
       "    x1 = Math.floor(x1) + 0.5;\n",
       "    y1 = Math.floor(y1) + 0.5;\n",
       "    var min_x = Math.min(x0, x1);\n",
       "    var min_y = Math.min(y0, y1);\n",
       "    var width = Math.abs(x1 - x0);\n",
       "    var height = Math.abs(y1 - y0);\n",
       "\n",
       "    fig.rubberband_context.clearRect(\n",
       "        0,\n",
       "        0,\n",
       "        fig.canvas.width / fig.ratio,\n",
       "        fig.canvas.height / fig.ratio\n",
       "    );\n",
       "\n",
       "    fig.rubberband_context.strokeRect(min_x, min_y, width, height);\n",
       "};\n",
       "\n",
       "mpl.figure.prototype.handle_figure_label = function (fig, msg) {\n",
       "    // Updates the figure title.\n",
       "    fig.header.textContent = msg['label'];\n",
       "};\n",
       "\n",
       "mpl.figure.prototype.handle_cursor = function (fig, msg) {\n",
       "    var cursor = msg['cursor'];\n",
       "    switch (cursor) {\n",
       "        case 0:\n",
       "            cursor = 'pointer';\n",
       "            break;\n",
       "        case 1:\n",
       "            cursor = 'default';\n",
       "            break;\n",
       "        case 2:\n",
       "            cursor = 'crosshair';\n",
       "            break;\n",
       "        case 3:\n",
       "            cursor = 'move';\n",
       "            break;\n",
       "    }\n",
       "    fig.rubberband_canvas.style.cursor = cursor;\n",
       "};\n",
       "\n",
       "mpl.figure.prototype.handle_message = function (fig, msg) {\n",
       "    fig.message.textContent = msg['message'];\n",
       "};\n",
       "\n",
       "mpl.figure.prototype.handle_draw = function (fig, _msg) {\n",
       "    // Request the server to send over a new figure.\n",
       "    fig.send_draw_message();\n",
       "};\n",
       "\n",
       "mpl.figure.prototype.handle_image_mode = function (fig, msg) {\n",
       "    fig.image_mode = msg['mode'];\n",
       "};\n",
       "\n",
       "mpl.figure.prototype.handle_history_buttons = function (fig, msg) {\n",
       "    for (var key in msg) {\n",
       "        if (!(key in fig.buttons)) {\n",
       "            continue;\n",
       "        }\n",
       "        fig.buttons[key].disabled = !msg[key];\n",
       "        fig.buttons[key].setAttribute('aria-disabled', !msg[key]);\n",
       "    }\n",
       "};\n",
       "\n",
       "mpl.figure.prototype.handle_navigate_mode = function (fig, msg) {\n",
       "    if (msg['mode'] === 'PAN') {\n",
       "        fig.buttons['Pan'].classList.add('active');\n",
       "        fig.buttons['Zoom'].classList.remove('active');\n",
       "    } else if (msg['mode'] === 'ZOOM') {\n",
       "        fig.buttons['Pan'].classList.remove('active');\n",
       "        fig.buttons['Zoom'].classList.add('active');\n",
       "    } else {\n",
       "        fig.buttons['Pan'].classList.remove('active');\n",
       "        fig.buttons['Zoom'].classList.remove('active');\n",
       "    }\n",
       "};\n",
       "\n",
       "mpl.figure.prototype.updated_canvas_event = function () {\n",
       "    // Called whenever the canvas gets updated.\n",
       "    this.send_message('ack', {});\n",
       "};\n",
       "\n",
       "// A function to construct a web socket function for onmessage handling.\n",
       "// Called in the figure constructor.\n",
       "mpl.figure.prototype._make_on_message_function = function (fig) {\n",
       "    return function socket_on_message(evt) {\n",
       "        if (evt.data instanceof Blob) {\n",
       "            /* FIXME: We get \"Resource interpreted as Image but\n",
       "             * transferred with MIME type text/plain:\" errors on\n",
       "             * Chrome.  But how to set the MIME type?  It doesn't seem\n",
       "             * to be part of the websocket stream */\n",
       "            evt.data.type = 'image/png';\n",
       "\n",
       "            /* Free the memory for the previous frames */\n",
       "            if (fig.imageObj.src) {\n",
       "                (window.URL || window.webkitURL).revokeObjectURL(\n",
       "                    fig.imageObj.src\n",
       "                );\n",
       "            }\n",
       "\n",
       "            fig.imageObj.src = (window.URL || window.webkitURL).createObjectURL(\n",
       "                evt.data\n",
       "            );\n",
       "            fig.updated_canvas_event();\n",
       "            fig.waiting = false;\n",
       "            return;\n",
       "        } else if (\n",
       "            typeof evt.data === 'string' &&\n",
       "            evt.data.slice(0, 21) === 'data:image/png;base64'\n",
       "        ) {\n",
       "            fig.imageObj.src = evt.data;\n",
       "            fig.updated_canvas_event();\n",
       "            fig.waiting = false;\n",
       "            return;\n",
       "        }\n",
       "\n",
       "        var msg = JSON.parse(evt.data);\n",
       "        var msg_type = msg['type'];\n",
       "\n",
       "        // Call the  \"handle_{type}\" callback, which takes\n",
       "        // the figure and JSON message as its only arguments.\n",
       "        try {\n",
       "            var callback = fig['handle_' + msg_type];\n",
       "        } catch (e) {\n",
       "            console.log(\n",
       "                \"No handler for the '\" + msg_type + \"' message type: \",\n",
       "                msg\n",
       "            );\n",
       "            return;\n",
       "        }\n",
       "\n",
       "        if (callback) {\n",
       "            try {\n",
       "                // console.log(\"Handling '\" + msg_type + \"' message: \", msg);\n",
       "                callback(fig, msg);\n",
       "            } catch (e) {\n",
       "                console.log(\n",
       "                    \"Exception inside the 'handler_\" + msg_type + \"' callback:\",\n",
       "                    e,\n",
       "                    e.stack,\n",
       "                    msg\n",
       "                );\n",
       "            }\n",
       "        }\n",
       "    };\n",
       "};\n",
       "\n",
       "// from http://stackoverflow.com/questions/1114465/getting-mouse-location-in-canvas\n",
       "mpl.findpos = function (e) {\n",
       "    //this section is from http://www.quirksmode.org/js/events_properties.html\n",
       "    var targ;\n",
       "    if (!e) {\n",
       "        e = window.event;\n",
       "    }\n",
       "    if (e.target) {\n",
       "        targ = e.target;\n",
       "    } else if (e.srcElement) {\n",
       "        targ = e.srcElement;\n",
       "    }\n",
       "    if (targ.nodeType === 3) {\n",
       "        // defeat Safari bug\n",
       "        targ = targ.parentNode;\n",
       "    }\n",
       "\n",
       "    // pageX,Y are the mouse positions relative to the document\n",
       "    var boundingRect = targ.getBoundingClientRect();\n",
       "    var x = e.pageX - (boundingRect.left + document.body.scrollLeft);\n",
       "    var y = e.pageY - (boundingRect.top + document.body.scrollTop);\n",
       "\n",
       "    return { x: x, y: y };\n",
       "};\n",
       "\n",
       "/*\n",
       " * return a copy of an object with only non-object keys\n",
       " * we need this to avoid circular references\n",
       " * http://stackoverflow.com/a/24161582/3208463\n",
       " */\n",
       "function simpleKeys(original) {\n",
       "    return Object.keys(original).reduce(function (obj, key) {\n",
       "        if (typeof original[key] !== 'object') {\n",
       "            obj[key] = original[key];\n",
       "        }\n",
       "        return obj;\n",
       "    }, {});\n",
       "}\n",
       "\n",
       "mpl.figure.prototype.mouse_event = function (event, name) {\n",
       "    var canvas_pos = mpl.findpos(event);\n",
       "\n",
       "    if (name === 'button_press') {\n",
       "        this.canvas.focus();\n",
       "        this.canvas_div.focus();\n",
       "    }\n",
       "\n",
       "    var x = canvas_pos.x * this.ratio;\n",
       "    var y = canvas_pos.y * this.ratio;\n",
       "\n",
       "    this.send_message(name, {\n",
       "        x: x,\n",
       "        y: y,\n",
       "        button: event.button,\n",
       "        step: event.step,\n",
       "        guiEvent: simpleKeys(event),\n",
       "    });\n",
       "\n",
       "    /* This prevents the web browser from automatically changing to\n",
       "     * the text insertion cursor when the button is pressed.  We want\n",
       "     * to control all of the cursor setting manually through the\n",
       "     * 'cursor' event from matplotlib */\n",
       "    event.preventDefault();\n",
       "    return false;\n",
       "};\n",
       "\n",
       "mpl.figure.prototype._key_event_extra = function (_event, _name) {\n",
       "    // Handle any extra behaviour associated with a key event\n",
       "};\n",
       "\n",
       "mpl.figure.prototype.key_event = function (event, name) {\n",
       "    // Prevent repeat events\n",
       "    if (name === 'key_press') {\n",
       "        if (event.which === this._key) {\n",
       "            return;\n",
       "        } else {\n",
       "            this._key = event.which;\n",
       "        }\n",
       "    }\n",
       "    if (name === 'key_release') {\n",
       "        this._key = null;\n",
       "    }\n",
       "\n",
       "    var value = '';\n",
       "    if (event.ctrlKey && event.which !== 17) {\n",
       "        value += 'ctrl+';\n",
       "    }\n",
       "    if (event.altKey && event.which !== 18) {\n",
       "        value += 'alt+';\n",
       "    }\n",
       "    if (event.shiftKey && event.which !== 16) {\n",
       "        value += 'shift+';\n",
       "    }\n",
       "\n",
       "    value += 'k';\n",
       "    value += event.which.toString();\n",
       "\n",
       "    this._key_event_extra(event, name);\n",
       "\n",
       "    this.send_message(name, { key: value, guiEvent: simpleKeys(event) });\n",
       "    return false;\n",
       "};\n",
       "\n",
       "mpl.figure.prototype.toolbar_button_onclick = function (name) {\n",
       "    if (name === 'download') {\n",
       "        this.handle_save(this, null);\n",
       "    } else {\n",
       "        this.send_message('toolbar_button', { name: name });\n",
       "    }\n",
       "};\n",
       "\n",
       "mpl.figure.prototype.toolbar_button_onmouseover = function (tooltip) {\n",
       "    this.message.textContent = tooltip;\n",
       "};\n",
       "\n",
       "///////////////// REMAINING CONTENT GENERATED BY embed_js.py /////////////////\n",
       "// prettier-ignore\n",
       "var _JSXTOOLS_RESIZE_OBSERVER=function(A){var t,i=new WeakMap,n=new WeakMap,a=new WeakMap,r=new WeakMap,o=new Set;function s(e){if(!(this instanceof s))throw new TypeError(\"Constructor requires 'new' operator\");i.set(this,e)}function h(){throw new TypeError(\"Function is not a constructor\")}function c(e,t,i,n){e=0 in arguments?Number(arguments[0]):0,t=1 in arguments?Number(arguments[1]):0,i=2 in arguments?Number(arguments[2]):0,n=3 in arguments?Number(arguments[3]):0,this.right=(this.x=this.left=e)+(this.width=i),this.bottom=(this.y=this.top=t)+(this.height=n),Object.freeze(this)}function d(){t=requestAnimationFrame(d);var s=new WeakMap,p=new Set;o.forEach((function(t){r.get(t).forEach((function(i){var r=t instanceof window.SVGElement,o=a.get(t),d=r?0:parseFloat(o.paddingTop),f=r?0:parseFloat(o.paddingRight),l=r?0:parseFloat(o.paddingBottom),u=r?0:parseFloat(o.paddingLeft),g=r?0:parseFloat(o.borderTopWidth),m=r?0:parseFloat(o.borderRightWidth),w=r?0:parseFloat(o.borderBottomWidth),b=u+f,F=d+l,v=(r?0:parseFloat(o.borderLeftWidth))+m,W=g+w,y=r?0:t.offsetHeight-W-t.clientHeight,E=r?0:t.offsetWidth-v-t.clientWidth,R=b+v,z=F+W,M=r?t.width:parseFloat(o.width)-R-E,O=r?t.height:parseFloat(o.height)-z-y;if(n.has(t)){var k=n.get(t);if(k[0]===M&&k[1]===O)return}n.set(t,[M,O]);var S=Object.create(h.prototype);S.target=t,S.contentRect=new c(u,d,M,O),s.has(i)||(s.set(i,[]),p.add(i)),s.get(i).push(S)}))})),p.forEach((function(e){i.get(e).call(e,s.get(e),e)}))}return s.prototype.observe=function(i){if(i instanceof window.Element){r.has(i)||(r.set(i,new Set),o.add(i),a.set(i,window.getComputedStyle(i)));var n=r.get(i);n.has(this)||n.add(this),cancelAnimationFrame(t),t=requestAnimationFrame(d)}},s.prototype.unobserve=function(i){if(i instanceof window.Element&&r.has(i)){var n=r.get(i);n.has(this)&&(n.delete(this),n.size||(r.delete(i),o.delete(i))),n.size||r.delete(i),o.size||cancelAnimationFrame(t)}},A.DOMRectReadOnly=c,A.ResizeObserver=s,A.ResizeObserverEntry=h,A}; // eslint-disable-line\n",
       "mpl.toolbar_items = [[\"Home\", \"Reset original view\", \"fa fa-home icon-home\", \"home\"], [\"Back\", \"Back to previous view\", \"fa fa-arrow-left icon-arrow-left\", \"back\"], [\"Forward\", \"Forward to next view\", \"fa fa-arrow-right icon-arrow-right\", \"forward\"], [\"\", \"\", \"\", \"\"], [\"Pan\", \"Left button pans, Right button zooms\\nx/y fixes axis, CTRL fixes aspect\", \"fa fa-arrows icon-move\", \"pan\"], [\"Zoom\", \"Zoom to rectangle\\nx/y fixes axis, CTRL fixes aspect\", \"fa fa-square-o icon-check-empty\", \"zoom\"], [\"\", \"\", \"\", \"\"], [\"Download\", \"Download plot\", \"fa fa-floppy-o icon-save\", \"download\"]];\n",
       "\n",
       "mpl.extensions = [\"eps\", \"jpeg\", \"pdf\", \"png\", \"ps\", \"raw\", \"svg\", \"tif\"];\n",
       "\n",
       "mpl.default_extension = \"png\";/* global mpl */\n",
       "\n",
       "var comm_websocket_adapter = function (comm) {\n",
       "    // Create a \"websocket\"-like object which calls the given IPython comm\n",
       "    // object with the appropriate methods. Currently this is a non binary\n",
       "    // socket, so there is still some room for performance tuning.\n",
       "    var ws = {};\n",
       "\n",
       "    ws.close = function () {\n",
       "        comm.close();\n",
       "    };\n",
       "    ws.send = function (m) {\n",
       "        //console.log('sending', m);\n",
       "        comm.send(m);\n",
       "    };\n",
       "    // Register the callback with on_msg.\n",
       "    comm.on_msg(function (msg) {\n",
       "        //console.log('receiving', msg['content']['data'], msg);\n",
       "        // Pass the mpl event to the overridden (by mpl) onmessage function.\n",
       "        ws.onmessage(msg['content']['data']);\n",
       "    });\n",
       "    return ws;\n",
       "};\n",
       "\n",
       "mpl.mpl_figure_comm = function (comm, msg) {\n",
       "    // This is the function which gets called when the mpl process\n",
       "    // starts-up an IPython Comm through the \"matplotlib\" channel.\n",
       "\n",
       "    var id = msg.content.data.id;\n",
       "    // Get hold of the div created by the display call when the Comm\n",
       "    // socket was opened in Python.\n",
       "    var element = document.getElementById(id);\n",
       "    var ws_proxy = comm_websocket_adapter(comm);\n",
       "\n",
       "    function ondownload(figure, _format) {\n",
       "        window.open(figure.canvas.toDataURL());\n",
       "    }\n",
       "\n",
       "    var fig = new mpl.figure(id, ws_proxy, ondownload, element);\n",
       "\n",
       "    // Call onopen now - mpl needs it, as it is assuming we've passed it a real\n",
       "    // web socket which is closed, not our websocket->open comm proxy.\n",
       "    ws_proxy.onopen();\n",
       "\n",
       "    fig.parent_element = element;\n",
       "    fig.cell_info = mpl.find_output_cell(\"<div id='\" + id + \"'></div>\");\n",
       "    if (!fig.cell_info) {\n",
       "        console.error('Failed to find cell for figure', id, fig);\n",
       "        return;\n",
       "    }\n",
       "    fig.cell_info[0].output_area.element.on(\n",
       "        'cleared',\n",
       "        { fig: fig },\n",
       "        fig._remove_fig_handler\n",
       "    );\n",
       "};\n",
       "\n",
       "mpl.figure.prototype.handle_close = function (fig, msg) {\n",
       "    var width = fig.canvas.width / fig.ratio;\n",
       "    fig.cell_info[0].output_area.element.off(\n",
       "        'cleared',\n",
       "        fig._remove_fig_handler\n",
       "    );\n",
       "    fig.resizeObserverInstance.unobserve(fig.canvas_div);\n",
       "\n",
       "    // Update the output cell to use the data from the current canvas.\n",
       "    fig.push_to_output();\n",
       "    var dataURL = fig.canvas.toDataURL();\n",
       "    // Re-enable the keyboard manager in IPython - without this line, in FF,\n",
       "    // the notebook keyboard shortcuts fail.\n",
       "    IPython.keyboard_manager.enable();\n",
       "    fig.parent_element.innerHTML =\n",
       "        '<img src=\"' + dataURL + '\" width=\"' + width + '\">';\n",
       "    fig.close_ws(fig, msg);\n",
       "};\n",
       "\n",
       "mpl.figure.prototype.close_ws = function (fig, msg) {\n",
       "    fig.send_message('closing', msg);\n",
       "    // fig.ws.close()\n",
       "};\n",
       "\n",
       "mpl.figure.prototype.push_to_output = function (_remove_interactive) {\n",
       "    // Turn the data on the canvas into data in the output cell.\n",
       "    var width = this.canvas.width / this.ratio;\n",
       "    var dataURL = this.canvas.toDataURL();\n",
       "    this.cell_info[1]['text/html'] =\n",
       "        '<img src=\"' + dataURL + '\" width=\"' + width + '\">';\n",
       "};\n",
       "\n",
       "mpl.figure.prototype.updated_canvas_event = function () {\n",
       "    // Tell IPython that the notebook contents must change.\n",
       "    IPython.notebook.set_dirty(true);\n",
       "    this.send_message('ack', {});\n",
       "    var fig = this;\n",
       "    // Wait a second, then push the new image to the DOM so\n",
       "    // that it is saved nicely (might be nice to debounce this).\n",
       "    setTimeout(function () {\n",
       "        fig.push_to_output();\n",
       "    }, 1000);\n",
       "};\n",
       "\n",
       "mpl.figure.prototype._init_toolbar = function () {\n",
       "    var fig = this;\n",
       "\n",
       "    var toolbar = document.createElement('div');\n",
       "    toolbar.classList = 'btn-toolbar';\n",
       "    this.root.appendChild(toolbar);\n",
       "\n",
       "    function on_click_closure(name) {\n",
       "        return function (_event) {\n",
       "            return fig.toolbar_button_onclick(name);\n",
       "        };\n",
       "    }\n",
       "\n",
       "    function on_mouseover_closure(tooltip) {\n",
       "        return function (event) {\n",
       "            if (!event.currentTarget.disabled) {\n",
       "                return fig.toolbar_button_onmouseover(tooltip);\n",
       "            }\n",
       "        };\n",
       "    }\n",
       "\n",
       "    fig.buttons = {};\n",
       "    var buttonGroup = document.createElement('div');\n",
       "    buttonGroup.classList = 'btn-group';\n",
       "    var button;\n",
       "    for (var toolbar_ind in mpl.toolbar_items) {\n",
       "        var name = mpl.toolbar_items[toolbar_ind][0];\n",
       "        var tooltip = mpl.toolbar_items[toolbar_ind][1];\n",
       "        var image = mpl.toolbar_items[toolbar_ind][2];\n",
       "        var method_name = mpl.toolbar_items[toolbar_ind][3];\n",
       "\n",
       "        if (!name) {\n",
       "            /* Instead of a spacer, we start a new button group. */\n",
       "            if (buttonGroup.hasChildNodes()) {\n",
       "                toolbar.appendChild(buttonGroup);\n",
       "            }\n",
       "            buttonGroup = document.createElement('div');\n",
       "            buttonGroup.classList = 'btn-group';\n",
       "            continue;\n",
       "        }\n",
       "\n",
       "        button = fig.buttons[name] = document.createElement('button');\n",
       "        button.classList = 'btn btn-default';\n",
       "        button.href = '#';\n",
       "        button.title = name;\n",
       "        button.innerHTML = '<i class=\"fa ' + image + ' fa-lg\"></i>';\n",
       "        button.addEventListener('click', on_click_closure(method_name));\n",
       "        button.addEventListener('mouseover', on_mouseover_closure(tooltip));\n",
       "        buttonGroup.appendChild(button);\n",
       "    }\n",
       "\n",
       "    if (buttonGroup.hasChildNodes()) {\n",
       "        toolbar.appendChild(buttonGroup);\n",
       "    }\n",
       "\n",
       "    // Add the status bar.\n",
       "    var status_bar = document.createElement('span');\n",
       "    status_bar.classList = 'mpl-message pull-right';\n",
       "    toolbar.appendChild(status_bar);\n",
       "    this.message = status_bar;\n",
       "\n",
       "    // Add the close button to the window.\n",
       "    var buttongrp = document.createElement('div');\n",
       "    buttongrp.classList = 'btn-group inline pull-right';\n",
       "    button = document.createElement('button');\n",
       "    button.classList = 'btn btn-mini btn-primary';\n",
       "    button.href = '#';\n",
       "    button.title = 'Stop Interaction';\n",
       "    button.innerHTML = '<i class=\"fa fa-power-off icon-remove icon-large\"></i>';\n",
       "    button.addEventListener('click', function (_evt) {\n",
       "        fig.handle_close(fig, {});\n",
       "    });\n",
       "    button.addEventListener(\n",
       "        'mouseover',\n",
       "        on_mouseover_closure('Stop Interaction')\n",
       "    );\n",
       "    buttongrp.appendChild(button);\n",
       "    var titlebar = this.root.querySelector('.ui-dialog-titlebar');\n",
       "    titlebar.insertBefore(buttongrp, titlebar.firstChild);\n",
       "};\n",
       "\n",
       "mpl.figure.prototype._remove_fig_handler = function (event) {\n",
       "    var fig = event.data.fig;\n",
       "    if (event.target !== this) {\n",
       "        // Ignore bubbled events from children.\n",
       "        return;\n",
       "    }\n",
       "    fig.close_ws(fig, {});\n",
       "};\n",
       "\n",
       "mpl.figure.prototype._root_extra_style = function (el) {\n",
       "    el.style.boxSizing = 'content-box'; // override notebook setting of border-box.\n",
       "};\n",
       "\n",
       "mpl.figure.prototype._canvas_extra_style = function (el) {\n",
       "    // this is important to make the div 'focusable\n",
       "    el.setAttribute('tabindex', 0);\n",
       "    // reach out to IPython and tell the keyboard manager to turn it's self\n",
       "    // off when our div gets focus\n",
       "\n",
       "    // location in version 3\n",
       "    if (IPython.notebook.keyboard_manager) {\n",
       "        IPython.notebook.keyboard_manager.register_events(el);\n",
       "    } else {\n",
       "        // location in version 2\n",
       "        IPython.keyboard_manager.register_events(el);\n",
       "    }\n",
       "};\n",
       "\n",
       "mpl.figure.prototype._key_event_extra = function (event, _name) {\n",
       "    var manager = IPython.notebook.keyboard_manager;\n",
       "    if (!manager) {\n",
       "        manager = IPython.keyboard_manager;\n",
       "    }\n",
       "\n",
       "    // Check for shift+enter\n",
       "    if (event.shiftKey && event.which === 13) {\n",
       "        this.canvas_div.blur();\n",
       "        // select the cell after this one\n",
       "        var index = IPython.notebook.find_cell_index(this.cell_info[0]);\n",
       "        IPython.notebook.select(index + 1);\n",
       "    }\n",
       "};\n",
       "\n",
       "mpl.figure.prototype.handle_save = function (fig, _msg) {\n",
       "    fig.ondownload(fig, null);\n",
       "};\n",
       "\n",
       "mpl.find_output_cell = function (html_output) {\n",
       "    // Return the cell and output element which can be found *uniquely* in the notebook.\n",
       "    // Note - this is a bit hacky, but it is done because the \"notebook_saving.Notebook\"\n",
       "    // IPython event is triggered only after the cells have been serialised, which for\n",
       "    // our purposes (turning an active figure into a static one), is too late.\n",
       "    var cells = IPython.notebook.get_cells();\n",
       "    var ncells = cells.length;\n",
       "    for (var i = 0; i < ncells; i++) {\n",
       "        var cell = cells[i];\n",
       "        if (cell.cell_type === 'code') {\n",
       "            for (var j = 0; j < cell.output_area.outputs.length; j++) {\n",
       "                var data = cell.output_area.outputs[j];\n",
       "                if (data.data) {\n",
       "                    // IPython >= 3 moved mimebundle to data attribute of output\n",
       "                    data = data.data;\n",
       "                }\n",
       "                if (data['text/html'] === html_output) {\n",
       "                    return [cell, data, j];\n",
       "                }\n",
       "            }\n",
       "        }\n",
       "    }\n",
       "};\n",
       "\n",
       "// Register the function which deals with the matplotlib target/channel.\n",
       "// The kernel may be null if the page has been refreshed.\n",
       "if (IPython.notebook.kernel !== null) {\n",
       "    IPython.notebook.kernel.comm_manager.register_target(\n",
       "        'matplotlib',\n",
       "        mpl.mpl_figure_comm\n",
       "    );\n",
       "}\n"
      ],
      "text/plain": [
       "<IPython.core.display.Javascript object>"
      ]
     },
     "metadata": {},
     "output_type": "display_data"
    },
    {
     "data": {
      "text/html": [
       "<img src=\"data:image/png;base64,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\" width=\"639.9999861283738\">"
      ],
      "text/plain": [
       "<IPython.core.display.HTML object>"
      ]
     },
     "metadata": {},
     "output_type": "display_data"
    }
   ],
   "source": [
    "%matplotlib notebook\n",
    "\n",
    "generate_plot([ns for _ in range(len(exectimes_a)-2)], [exectimes_a[i] for i in range(len(exectimes_a)) if i not in [2, 6]], 'Liczba punktów', 'Czas wykonania [s]', 'Ujęcie zbiorcze (bez Chna i Jarvisa)')\n",
    "plt.legend(labels=('Graham', 'lowerupper', 'QuickHull', 'Dziel i zwyciezaj','Przyrostowy'))\n",
    "plt.show()\n",
    "# plt.savefig('./tests/chmura-zbiorczy-2.png')"
   ]
  },
  {
   "cell_type": "markdown",
   "metadata": {},
   "source": [
    "### Rozkład kołowy\n",
    "<a id=\"pomiary-kolo\"></a>\n",
    "[Spis treści](#spis)"
   ]
  },
  {
   "cell_type": "markdown",
   "metadata": {},
   "source": [
    "<a id='section_id'></a>"
   ]
  },
  {
   "cell_type": "code",
   "execution_count": null,
   "metadata": {},
   "outputs": [],
   "source": [
    "#lista liczb punktów na których ma być testowany algorytm \n",
    "ns = [ 1000 + i * 500 for i in range(10) ]\n",
    "funcs = [graham, lower_upper, chan, quickHull, divide_conq, increase_with_sorting, jarvis]\n",
    "\n",
    "exectimes_b = np.zeros(shape=(len(funcs), len(ns)))\n",
    "\n",
    "\n",
    "for i, n in enumerate(ns):\n",
    "    points = makeBset(n = n)\n",
    "    for fi, func in enumerate(funcs):\n",
    "        if func is jarvis:\n",
    "#             print(func, 'zmieniam na np.array')\n",
    "            points = np.array(points)\n",
    "        if func is divide_conq:\n",
    "            exectimes_b[fi][i] = avg_exec_time(func, n // 20 + 1, points=points)\n",
    "            continue\n",
    "        \n",
    "#         print(func, n)\n",
    "        exectimes_b[fi][i] = avg_exec_time(func, points=points.copy())\n",
    "        \n",
    "\n",
    "\n",
    "# save_data_csv('./tests/circle.csv', [\n",
    "#     [round(exectimes_b[i][j],4) for j in range(len(exectimes_b[i]))] for i in range(len(exectimes_b)) \n",
    "# ])\n",
    "    \n",
    "pprint(exectimes_b)"
   ]
  },
  {
   "cell_type": "markdown",
   "metadata": {},
   "source": [
    "<a id='section_id'></a>"
   ]
  },
  {
   "cell_type": "markdown",
   "metadata": {},
   "source": [
    "### Algorytm Grahama\n",
    "<a id=\"pomiary-kolo-graham\"></a>\n",
    "[Spis treści](#spis)"
   ]
  },
  {
   "cell_type": "code",
   "execution_count": null,
   "metadata": {},
   "outputs": [],
   "source": [
    "%matplotlib notebook\n",
    "\n",
    "generate_plot([ns], [exectimes_b[0]], 'Liczba punktów', 'Czas wykonania [s]', 'Algorytm Grahama')\n",
    "\n",
    "plt.show()\n",
    "# plt.savefig('./tests/okrag-graham')"
   ]
  },
  {
   "cell_type": "markdown",
   "metadata": {},
   "source": [
    "### Algortym \"górna-dolna\"\n",
    "<a id=\"pomiary-kolo-gornadolna\"></a>\n",
    "[Spis treści](#spis)"
   ]
  },
  {
   "cell_type": "code",
   "execution_count": null,
   "metadata": {},
   "outputs": [],
   "source": [
    "%matplotlib notebook\n",
    "\n",
    "generate_plot([ns], [exectimes_b[1]], 'Liczba punktów', 'Czas wykonania [s]', 'Algorytm \"górna-dolna\"')\n",
    "\n",
    "plt.show()\n",
    "# plt.savefig('./tests/okrag-lowerupper')"
   ]
  },
  {
   "cell_type": "markdown",
   "metadata": {},
   "source": [
    "### Algorytm Chana\n",
    "<a id=\"pomiary-kolo-chan\"></a>\n",
    "[Spis treści](#spis)"
   ]
  },
  {
   "cell_type": "code",
   "execution_count": null,
   "metadata": {},
   "outputs": [],
   "source": [
    "%matplotlib notebook\n",
    "\n",
    "generate_plot([ns], [exectimes_b[2]], 'Liczba punktów', 'Czas wykonania [s]', 'Algorytm Chana')\n",
    "\n",
    "plt.show()\n",
    "# plt.savefig('./tests/okrag-chan')"
   ]
  },
  {
   "cell_type": "markdown",
   "metadata": {},
   "source": [
    "### Algorytm QuickHull\n",
    "<a id=\"pomiary-kolo-quickhull\"></a>\n",
    "[Spis treści](#spis)"
   ]
  },
  {
   "cell_type": "code",
   "execution_count": null,
   "metadata": {},
   "outputs": [],
   "source": [
    "%matplotlib notebook\n",
    "\n",
    "generate_plot([ns], [exectimes_b[3]], 'Liczba punktów', 'Czas wykonania [s]', 'Algorytm QuickHull')\n",
    "\n",
    "plt.show()\n",
    "# plt.savefig('./tests/okrag-quickhull')"
   ]
  },
  {
   "cell_type": "markdown",
   "metadata": {},
   "source": [
    "### Algorytm dziel i zwyciężaj\n",
    "<a id=\"pomiary-kolo-dziel\"></a>\n",
    "[Spis treści](#spis)"
   ]
  },
  {
   "cell_type": "code",
   "execution_count": null,
   "metadata": {},
   "outputs": [],
   "source": [
    "%matplotlib notebook\n",
    "\n",
    "generate_plot([ns], [exectimes_b[4]], 'Liczba punktów', 'Czas wykonania [s]', 'Algorytm dziel i zwyciezaj')\n",
    "\n",
    "plt.show()\n",
    "# plt.savefig('./tests/okrag-dziel')"
   ]
  },
  {
   "cell_type": "markdown",
   "metadata": {},
   "source": [
    "### Algorytm przyrostowy\n",
    "<a id=\"pomiary-kolo-przyrost\"></a>\n",
    "[Spis treści](#spis)"
   ]
  },
  {
   "cell_type": "code",
   "execution_count": null,
   "metadata": {},
   "outputs": [],
   "source": [
    "%matplotlib notebook\n",
    "\n",
    "generate_plot([ns], [exectimes_b[5]], 'Liczba punktów', 'Czas wykonania [s]', 'Algorytm przyrostowy')\n",
    "\n",
    "plt.show()\n",
    "# plt.savefig('./tests/okrag-przyrost')"
   ]
  },
  {
   "cell_type": "markdown",
   "metadata": {},
   "source": [
    "### Algorytm Jarvisa\n",
    "<a id=\"pomiary-kolo-jarvis\"></a>\n",
    "[Spis treści](#spis)"
   ]
  },
  {
   "cell_type": "code",
   "execution_count": null,
   "metadata": {},
   "outputs": [],
   "source": [
    "%matplotlib notebook\n",
    "\n",
    "generate_plot([ns], [exectimes_b[6]], 'Liczba punktów', 'Czas wykonania [s]', 'Algorytm Jarvisa')\n",
    "\n",
    "plt.show()\n",
    "# plt.savefig('./tests/okrag-jarvis')"
   ]
  },
  {
   "cell_type": "markdown",
   "metadata": {},
   "source": [
    "### Ujęcie zbiorcze\n",
    "<a id=\"pomiary-kolo-zbiorczy\"></a>\n",
    "[Spis treści](#spis)"
   ]
  },
  {
   "cell_type": "code",
   "execution_count": null,
   "metadata": {},
   "outputs": [],
   "source": [
    "%matplotlib notebook\n",
    "\n",
    "generate_plot([ns for _ in range(len(exectimes_b))], exectimes_b, 'Liczba punktów', 'Czas wykonania [s]', 'Ujęcie zbiorcze')\n",
    "plt.legend(labels=('Graham', 'lowerupper', 'Chan', 'QuickHull', 'Dziel i zwyciezaj', 'Przyrostowy', 'Jarvis'))\n",
    "plt.show()\n",
    "# plt.savefig('./tests/okrag-zbiorcze')"
   ]
  },
  {
   "cell_type": "markdown",
   "metadata": {},
   "source": [
    "### Ujęcie zbiorcze bez algorytmu Jarvisa\n",
    "<a id=\"pomiary-kolo-zbiorczy-2\"></a>\n",
    "[Spis treści](#spis)"
   ]
  },
  {
   "cell_type": "code",
   "execution_count": null,
   "metadata": {},
   "outputs": [],
   "source": [
    "%matplotlib notebook\n",
    "\n",
    "generate_plot([ns for _ in range(len(exectimes_b) - 1)], exectimes_b[:len(exectimes_b)-1], 'Liczba punktów', 'Czas wykonania [s]', 'Ujęcie zbiorcze bez algorytmu Jarvisa')\n",
    "plt.legend(labels=('Graham', 'lowerupper', 'Chan', 'QuickHull', 'Dziel i zwyciezaj', 'Przyrostowy'))\n",
    "plt.show()\n",
    "# plt.savefig('./tests/okrag-zbiorcze-2')"
   ]
  },
  {
   "cell_type": "markdown",
   "metadata": {},
   "source": [
    "### Losowy rozkład na prostokącie\n",
    "<a id=\"pomiary-prost\"></a>\n",
    "[Spis treści](#spis)"
   ]
  },
  {
   "cell_type": "code",
   "execution_count": null,
   "metadata": {},
   "outputs": [],
   "source": [
    "#lista liczb punktów na których ma być testowany algorytm \n",
    "ns = [ 1000 + i * 500 for i in range(10) ]\n",
    "funcs = [graham, lower_upper, chan, quickHull, divide_conq, increase_with_sorting, jarvis]\n",
    "\n",
    "exectimes_c = np.zeros(shape=(len(funcs), len(ns)))\n",
    "\n",
    "\n",
    "for i, n in enumerate(ns):\n",
    "    points = makeCset(n = n)\n",
    "    for fi, func in enumerate(funcs):\n",
    "        if func is jarvis:\n",
    "#             print(func, 'zmieniam na np.array')\n",
    "            points = np.array(points)\n",
    "        if func is divide_conq:\n",
    "#             print(func, n)\n",
    "            exectimes_c[fi][i] = avg_exec_time(func, n // 20 + 1, points=points)\n",
    "            continue\n",
    "        \n",
    "#         print(func, n)\n",
    "        exectimes_c[fi][i] = avg_exec_time(func, points=points.copy())\n",
    "        \n",
    "# save_data_csv('./tests/rect.csv', [\n",
    "#     [round(exectimes_c[i][j],4) for j in range(len(exectimes_c[i]))] for i in range(len(exectimes_c)) \n",
    "# ])\n",
    "\n",
    "pprint(exectimes_c)"
   ]
  },
  {
   "cell_type": "markdown",
   "metadata": {},
   "source": [
    "### Algorytm Grahama\n",
    "<a id=\"pomiary-prost-graham\"></a>\n",
    "[Spis treści](#spis)"
   ]
  },
  {
   "cell_type": "code",
   "execution_count": null,
   "metadata": {},
   "outputs": [],
   "source": [
    "%matplotlib notebook\n",
    "\n",
    "generate_plot([ns], [exectimes_c[0]], 'Liczba punktów', 'Czas wykonania [s]', 'Algorytm Grahama')\n",
    "\n",
    "plt.show()\n",
    "# plt.savefig('./tests/prost-graham')"
   ]
  },
  {
   "cell_type": "markdown",
   "metadata": {},
   "source": [
    "### Algorytm \"górna-dolna\"\n",
    "<a id=\"pomiary-prost-gornadolna\"></a>\n",
    "[Spis treści](#spis)"
   ]
  },
  {
   "cell_type": "code",
   "execution_count": null,
   "metadata": {},
   "outputs": [],
   "source": [
    "%matplotlib notebook\n",
    "\n",
    "generate_plot([ns], [exectimes_c[1]], 'Liczba punktów', 'Czas wykonania [s]', 'Algorytm \"górna-dolna\"')\n",
    "\n",
    "plt.show()\n",
    "# plt.savefig('./tests/prost-lowerupper')"
   ]
  },
  {
   "cell_type": "markdown",
   "metadata": {},
   "source": [
    "### Algorytm Chana\n",
    "<a id=\"pomiary-prost-chan\"></a>\n",
    "[Spis treści](#spis)"
   ]
  },
  {
   "cell_type": "code",
   "execution_count": null,
   "metadata": {},
   "outputs": [],
   "source": [
    "%matplotlib notebook\n",
    "\n",
    "generate_plot([ns], [exectimes_c[2]], 'Liczba punktów', 'Czas wykonania [s]', 'Algorytm Chana')\n",
    "\n",
    "plt.show()\n",
    "# plt.savefig('./tests/prost-chan')"
   ]
  },
  {
   "cell_type": "markdown",
   "metadata": {},
   "source": [
    "### Algorytm QuickHull\n",
    "<a id=\"pomiary-prost-quickhull\"></a>\n",
    "[Spis treści](#spis)"
   ]
  },
  {
   "cell_type": "code",
   "execution_count": null,
   "metadata": {},
   "outputs": [],
   "source": [
    "%matplotlib notebook\n",
    "\n",
    "generate_plot([ns], [exectimes_c[3]], 'Liczba punktów', 'Czas wykonania [s]', 'Algorytm QuickHull')\n",
    "\n",
    "plt.show()\n",
    "# plt.savefig('./tests/prost-quickhull')"
   ]
  },
  {
   "cell_type": "markdown",
   "metadata": {},
   "source": [
    "### Algorytm dziel i zwyciężaj \n",
    "<a id=\"pomiary-prost-dziel\"></a>\n",
    "[Spis treści](#spis)"
   ]
  },
  {
   "cell_type": "code",
   "execution_count": null,
   "metadata": {},
   "outputs": [],
   "source": [
    "%matplotlib notebook\n",
    "\n",
    "generate_plot([ns], [exectimes_c[4]], 'Liczba punktów', 'Czas wykonania [s]', 'Algorytm dziel i zwyciezaj')\n",
    "\n",
    "plt.show()\n",
    "# plt.savefig('./tests/prost-dziel')"
   ]
  },
  {
   "cell_type": "markdown",
   "metadata": {},
   "source": [
    "### Algorytm przyrostowy\n",
    "<a id=\"pomiary-prost-przyrost\"></a>\n",
    "[Spis treści](#spis)"
   ]
  },
  {
   "cell_type": "code",
   "execution_count": null,
   "metadata": {},
   "outputs": [],
   "source": [
    "%matplotlib notebook\n",
    "\n",
    "generate_plot([ns], [exectimes_c[5]], 'Liczba punktów', 'Czas wykonania [s]', 'Algorytm przyrostowy')\n",
    "\n",
    "plt.show()\n",
    "# plt.savefig('./tests/prost-przyrost')"
   ]
  },
  {
   "cell_type": "markdown",
   "metadata": {},
   "source": [
    "### Algorytm Jarvisa\n",
    "<a id=\"pomiary-prost-jarvis\"></a>\n",
    "[Spis treści](#spis)"
   ]
  },
  {
   "cell_type": "code",
   "execution_count": null,
   "metadata": {},
   "outputs": [],
   "source": [
    "%matplotlib notebook\n",
    "\n",
    "generate_plot([ns], [exectimes_c[6]], 'Liczba punktów', 'Czas wykonania [s]', 'Algorytm Jarvisa')\n",
    "\n",
    "plt.show()\n",
    "# plt.savefig('./tests/prost-jarvis')"
   ]
  },
  {
   "cell_type": "markdown",
   "metadata": {},
   "source": [
    "### Ujęcie zbiorcze\n",
    "<a id=\"pomiary-prost-zbiorczy\"></a>\n",
    "[Spis treści](#spis)"
   ]
  },
  {
   "cell_type": "code",
   "execution_count": null,
   "metadata": {},
   "outputs": [],
   "source": [
    "%matplotlib notebook\n",
    "\n",
    "generate_plot([ns for _ in range(len(exectimes_c))], exectimes_c, 'Liczba punktów', 'Czas wykonania [s]', 'Ujęcie zbiorcze')\n",
    "plt.legend(labels=('graham', 'lowerupper', 'Chan', 'QuickHull', 'Dziel i zwyciezaj', 'Przyrostowy', 'Jarvis'))\n",
    "plt.show()\n",
    "# plt.savefig('./tests/prost-zbiorczy')"
   ]
  },
  {
   "cell_type": "markdown",
   "metadata": {},
   "source": [
    "### Ujęcie zbiorcze bez algorytmu Chana\n",
    "<a id=\"pomiary-prost-zbiorczy-2\"></a>\n",
    "[Spis treści](#spis)"
   ]
  },
  {
   "cell_type": "code",
   "execution_count": null,
   "metadata": {},
   "outputs": [],
   "source": [
    "%matplotlib notebook\n",
    "\n",
    "generate_plot([ns for _ in range(len(exectimes_c) - 1)], [exectimes_c[i] for i in range(len(exectimes_c)) if i not in [2]], 'Liczba punktów', 'Czas wykonania [s]', 'Ujęcie zbiorcze')\n",
    "plt.legend(labels=('graham', 'lowerupper', 'QuickHull', 'Dziel i zwyciezaj', 'Przyrostowy', 'Jarvis'))\n",
    "plt.show()\n",
    "# plt.savefig('./tests/prost-zbiorczy-2')"
   ]
  },
  {
   "cell_type": "markdown",
   "metadata": {},
   "source": [
    "### Wierzchołki kwadratu, jego przekątne i dwa boki o wspólnym wierzchołku\n",
    "<a id=\"pomiary-kw\"></a>\n",
    "[Spis treści](#spis)"
   ]
  },
  {
   "cell_type": "code",
   "execution_count": null,
   "metadata": {},
   "outputs": [],
   "source": [
    "#lista liczb punktów na których ma być testowany algorytm \n",
    "ns = [ 1000 + i * 500 for i in range(10) ]\n",
    "funcs = [graham, lower_upper, chan, quickHull, divide_conq, increase_with_sorting, jarvis]\n",
    "\n",
    "exectimes_d = np.zeros(shape=(len(funcs), len(ns)))\n",
    "\n",
    "\n",
    "for i, n in enumerate(ns):\n",
    "    points = makeDset(n = n)\n",
    "    for fi, func in enumerate(funcs):\n",
    "        if func is jarvis:\n",
    "#             print(func, 'zmieniam na np.array')\n",
    "            points = np.array(points)\n",
    "        if func is divide_conq:\n",
    "            exectimes_d[fi][i] = avg_exec_time(func, n // 20 + 1, points=points)\n",
    "            continue\n",
    "        \n",
    "#         print(func, n)\n",
    "        exectimes_d[fi][i] = avg_exec_time(func, points=points.copy())\n",
    "        \n",
    "# save_data_csv('./tests/kw.csv', [\n",
    "#     [round(exectimes_d[i][j],4) for j in range(len(exectimes_d[i]))] for i in range(len(exectimes_d)) \n",
    "# ])\n",
    "        \n",
    "    \n",
    "pprint(exectimes_d)"
   ]
  },
  {
   "cell_type": "markdown",
   "metadata": {},
   "source": [
    "### Algorytm Grahama\n",
    "<a id=\"pomiary-kw-graham\"></a>\n",
    "[Spis treści](#spis)"
   ]
  },
  {
   "cell_type": "code",
   "execution_count": null,
   "metadata": {},
   "outputs": [],
   "source": [
    "%matplotlib notebook\n",
    "\n",
    "generate_plot([ns], [exectimes_d[0]], 'Liczba punktów', 'Czas wykonania [s]', 'Algorytm Grahama')\n",
    "\n",
    "plt.show()\n",
    "# plt.savefig('./tests/kw-graham')"
   ]
  },
  {
   "cell_type": "markdown",
   "metadata": {},
   "source": [
    "### Algorytm \"górna-dolna\"\n",
    "<a id=\"pomiary-kw-gornadolna\"></a>\n",
    "[Spis treści](#spis)"
   ]
  },
  {
   "cell_type": "code",
   "execution_count": null,
   "metadata": {},
   "outputs": [],
   "source": [
    "%matplotlib notebook\n",
    "\n",
    "generate_plot([ns], [exectimes_d[1]], 'Liczba punktów', 'Czas wykonania [s]', 'Algorytm \"górna-dolna\"')\n",
    "\n",
    "plt.show()\n",
    "# plt.savefig('./tests/kw-lowerupper')"
   ]
  },
  {
   "cell_type": "markdown",
   "metadata": {},
   "source": [
    "### Algorytm Chana\n",
    "<a id=\"pomiary-kw-chan\"></a>\n",
    "[Spis treści](#spis)"
   ]
  },
  {
   "cell_type": "code",
   "execution_count": null,
   "metadata": {},
   "outputs": [],
   "source": [
    "%matplotlib notebook\n",
    "\n",
    "generate_plot([ns], [exectimes_d[2]], 'Liczba punktów', 'Czas wykonania [s]', 'Algorytm Chana')\n",
    "\n",
    "plt.show()\n",
    "# plt.savefig('./tests/kw-chan')"
   ]
  },
  {
   "cell_type": "markdown",
   "metadata": {},
   "source": [
    "### Algorytm QuickHull\n",
    "<a id=\"pomiary-kw-quickhull\"></a>\n",
    "[Spis treści](#spis)"
   ]
  },
  {
   "cell_type": "code",
   "execution_count": null,
   "metadata": {},
   "outputs": [],
   "source": [
    "%matplotlib notebook\n",
    "\n",
    "generate_plot([ns], [exectimes_d[3]], 'Liczba punktów', 'Czas wykonania [s]', 'Algorytm QuickHull')\n",
    "\n",
    "plt.show()\n",
    "# plt.savefig('./tests/kw-quickhull')"
   ]
  },
  {
   "cell_type": "markdown",
   "metadata": {},
   "source": [
    "### Algorytm dziel i zwyciężaj\n",
    "<a id=\"pomiary-kw-dziel\"></a>\n",
    "[Spis treści](#spis)"
   ]
  },
  {
   "cell_type": "code",
   "execution_count": null,
   "metadata": {},
   "outputs": [],
   "source": [
    "%matplotlib notebook\n",
    "\n",
    "generate_plot([ns], [exectimes_d[4]], 'Liczba punktów', 'Czas wykonania [s]', 'Algorytm dziel i zwyciezaj')\n",
    "\n",
    "plt.show()\n",
    "# plt.savefig('./tests/kw-dziel')"
   ]
  },
  {
   "cell_type": "markdown",
   "metadata": {},
   "source": [
    "### Algorytm przyrostowy\n",
    "<a id=\"pomiary-kw-przyrost\"></a>\n",
    "[Spis treści](#spis)"
   ]
  },
  {
   "cell_type": "code",
   "execution_count": null,
   "metadata": {},
   "outputs": [],
   "source": [
    "%matplotlib notebook\n",
    "\n",
    "generate_plot([ns], [exectimes_d[5]], 'Liczba punktów', 'Czas wykonania [s]', 'Algorytm przyrostowy')\n",
    "\n",
    "plt.show()\n",
    "# plt.savefig('./tests/kw-przyrost')"
   ]
  },
  {
   "cell_type": "markdown",
   "metadata": {},
   "source": [
    "### Algorytm Jarvisa\n",
    "<a id=\"pomiary-kw-jarvis\"></a>\n",
    "[Spis treści](#spis)"
   ]
  },
  {
   "cell_type": "code",
   "execution_count": null,
   "metadata": {},
   "outputs": [],
   "source": [
    "%matplotlib notebook\n",
    "\n",
    "generate_plot([ns], [exectimes_d[6]], 'Liczba punktów', 'Czas wykonania [s]', 'Algorytm Jarvisa')\n",
    "\n",
    "plt.show()\n",
    "# plt.savefig('./tests/kw-jarvis')"
   ]
  },
  {
   "cell_type": "markdown",
   "metadata": {},
   "source": [
    "### Ujęcie zbiorcze\n",
    "<a id=\"pomiary-kw-zbiorczy\"></a>\n",
    "[Spis treści](#spis)"
   ]
  },
  {
   "cell_type": "markdown",
   "metadata": {},
   "source": [
    "<a id='section_id'></a>"
   ]
  },
  {
   "cell_type": "code",
   "execution_count": null,
   "metadata": {},
   "outputs": [],
   "source": [
    "%matplotlib notebook\n",
    "\n",
    "generate_plot([ns for _ in range(len(exectimes_d))], exectimes_d, 'Liczba punktów', 'Czas wykonania [s]', 'Ujęcie zbiorcze')\n",
    "plt.legend(labels=('graham', 'lowerupper', 'Chan', 'QuickHull', 'Dziel i zwyciezaj', 'Przyrostowy', 'Jarvis'))\n",
    "plt.show()\n",
    "# plt.savefig('./tests/kw-zbiorczy')"
   ]
  },
  {
   "cell_type": "markdown",
   "metadata": {},
   "source": [
    "<a id='section_id'></a>"
   ]
  },
  {
   "cell_type": "markdown",
   "metadata": {},
   "source": [
    "### Ujęcie zbiorcze bez algorytmu Chana\n",
    "<a id=\"pomiary-kw-zbiorczy-2\"></a>\n",
    "[Spis treści](#spis)\n"
   ]
  },
  {
   "cell_type": "code",
   "execution_count": null,
   "metadata": {},
   "outputs": [],
   "source": [
    "%matplotlib notebook\n",
    "\n",
    "generate_plot([ns for _ in range(len(exectimes_d) -1)], [exectimes_d[i] for i in range(len(exectimes_d)) if i not in [2]], 'Liczba punktów', 'Czas wykonania [s]', 'Ujęcie zbiorcze')\n",
    "plt.legend(labels=('graham', 'lowerupper', 'QuickHull', 'Dziel i zwyciezaj', 'Przyrostowy', 'Jarvis'))\n",
    "plt.show()\n",
    "# plt.savefig('./tests/kw-zbiorczy-2')"
   ]
  },
  {
   "cell_type": "code",
   "execution_count": null,
   "metadata": {},
   "outputs": [],
   "source": [
    "# data_sets = [exectimes_a, exectimes_b, exectimes_c, exectimes_d]\n",
    "\n",
    "# save_data_csv('./tests/graham.csv', [ \n",
    "#     [round(data_sets[i][0][j],4) for j in range(len(data_sets[i][0]))] for i in range(len(data_sets)) \n",
    "# ])\n",
    "\n",
    "# save_data_csv('./tests/lowerupper.csv', [ \n",
    "#     [ round(data_sets[i][1][j],4) for j in range(len(data_sets[i][1]))] for i in range(len(data_sets))\n",
    "# ])\n",
    "\n",
    "# save_data_csv('./tests/chan.csv', [ \n",
    "#     [ round(data_sets[i][2][j],4) for j in range(len(data_sets[i][2]))] for i in range(len(data_sets))\n",
    "# ])\n",
    "\n",
    "\n",
    "# save_data_csv('./tests/quickhull.csv', [ \n",
    "#     [ round(data_sets[i][3][j],4) for j in range(len(data_sets[i][3]))] for i in range(len(data_sets))\n",
    "# ])\n",
    "\n",
    "\n",
    "# save_data_csv('./tests/dziel.csv', [ \n",
    "#     [ round(data_sets[i][4][j],4) for j in range(len(data_sets[i][4]))] for i in range(len(data_sets))\n",
    "# ])\n",
    "\n",
    "# save_data_csv('./tests/przyrost.csv', [ \n",
    "#     [ round(data_sets[i][5][j],4) for j in range(len(data_sets[i][5]))] for i in range(len(data_sets))\n",
    "# ])\n",
    "\n",
    "# save_data_csv('./tests/jarvis.csv', [ \n",
    "#     [ round(data_sets[i][6][j],4) for j in range(len(data_sets[i][6]))] for i in range(len(data_sets))\n",
    "# ])\n"
   ]
  }
 ],
 "metadata": {
  "kernelspec": {
   "display_name": "Python 3",
   "language": "python",
   "name": "python3"
  },
  "language_info": {
   "codemirror_mode": {
    "name": "ipython",
    "version": 3
   },
   "file_extension": ".py",
   "mimetype": "text/x-python",
   "name": "python",
   "nbconvert_exporter": "python",
   "pygments_lexer": "ipython3",
   "version": "3.9.0"
  }
 },
 "nbformat": 4,
 "nbformat_minor": 4
}
