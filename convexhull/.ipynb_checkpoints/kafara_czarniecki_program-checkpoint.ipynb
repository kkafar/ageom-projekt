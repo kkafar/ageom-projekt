{
 "cells": [
  {
   "cell_type": "markdown",
   "metadata": {},
   "source": [
    "# Projekt"
   ]
  },
  {
   "cell_type": "markdown",
   "metadata": {},
   "source": [
    "### Spis treści \n",
    "<a id=\"spis\"></a>\n",
    "\n",
    "1. [Generator zbiorow](#generator)\n",
    "2. [Wybor zbiorow](#ustalenieZbiorow)\n",
    "3. [Wizualizacja dla algorytmu Jarvisa](#jarvis)\n",
    "\n",
    "    - [Jarvis dla zbioru typu a](#jarvisa)\n",
    "    - [Jarvis dla zbioru typu b](#jarvisb)\n",
    "    - [Jarvis dla zbioru typu c](#jarvisc)\n",
    "    - [Jarvis dla zbioru typu d](#jarvisd)\n",
    "    \n",
    "4. [Wizualizacja dla algorytmu Grahama](#graham)\n",
    "\n",
    "    - [Graham dla zbioru typu a](#grahama)\n",
    "    - [Graham dla zbioru typu b](#grahamb)\n",
    "    - [Graham dla zbioru typu c](#grahamc)\n",
    "    - [Graham dla zbioru typu d](#grahamd)\n",
    "    \n",
    "5. [Wizualizacja dla algorytmu Gorna-dolna](#goradol)\n",
    "\n",
    "    - [Gorna-dolna dla zbioru typu a](#goradola)\n",
    "    - [Gorna-dolna dla zbioru typu b](#goradolb)\n",
    "    - [Gorna-dolna dla zbioru typu c](#goradolc)\n",
    "    - [Gorna-dolna dla zbioru typu d](#goradold)\n",
    "    \n",
    "6. [Wizualizacja dla algorytmu Przyrostowego](#przyrost)\n",
    "\n",
    "    - [Przyrostowy dla zbioru typu a](#przyrosta)\n",
    "    - [Przyrostowy dla zbioru typu b](#przyrostb)\n",
    "    - [Przyrostowy dla zbioru typu c](#przyrostc)\n",
    "    - [Przyrostowy dla zbioru typu d](#przyrostd)\n",
    "    \n",
    "7. [Wizualizacja dla algorytmu Dziel i zwyciezaj](#dziel)\n",
    "    - [Dziel i zwyciezaj dla zbioru typu a](#dziela)\n",
    "    - [Dziel i zwyciezaj dla zbioru typu b](#dzielb)\n",
    "    - [Dziel i zwyciezaj dla zbioru typu c](#dzielc)\n",
    "    - [Dziel i zwyciezaj dla zbioru typu d](#dzield)\n",
    "    \n",
    "8. [Wizualizacja dla algorytmu Chana](#chan)\n",
    "    - [Chan dla zbioru typu a](#chana)\n",
    "    - [Chan dla zbioru typu b](#chanb)\n",
    "    - [Chan dla zbioru typu c](#chanc)\n",
    "    - [Chan dla zbioru typu d](#chand)\n",
    "    \n",
    "9. [Wizualizacja dla algorytmu Quick hull](#quickhull)\n",
    "    - [Quick hull dla zbioru typu a](#quickhulla)\n",
    "    - [Quick hull dla zbioru typu b](#quickhullb)\n",
    "    - [Quick hull dla zbioru typu c](#quickhullc)\n",
    "    - [Quick hull dla zbioru typu d](#quickhulld)\n",
    "    \n",
    "10. [Pomiary czasu](#pomiary)\n",
    "    - [Chmura punktów](#pomiary-chmura)\n",
    "        - [Algorytm Grahama](#pomiary-chmura-graham)\n",
    "        - [Algortym \"Górna-dolna\"](#pomiary-chumra-gornadolna)\n",
    "        - [Algorytm Chana](#pomiary-chmura-chan)\n",
    "        - [Algorytm QuickHull](#pomiary-chmura-quickhull)\n",
    "        - [Algorytm dziel i zwyciężaj](#pomiary-chmura-dziel)\n",
    "        - [Algorytm przyrostowy](#pomiary-chmura-przyrost)\n",
    "        - [Algorytm Jarvisa](#pomiary-chmura-jarvis)\n",
    "        - [Ujęcie zbiorcze](#pomiary-chmura-zbiorczy)\n",
    "        - [Ujęcie zbiorcze bez Chana i Jarvisa](#pomiarcy-chmura-zbiorczy-2)\n",
    "    - [Punkty na okręgu](#pomiary-kolo)\n",
    "        - [Algorytm Grahama](#pomiary-kolo-graham)\n",
    "        - [Algortym \"Górna-dolna\"](#pomiary-kolo-gornadolna)\n",
    "        - [Algorytm Chana](#pomiary-kolo-chan)\n",
    "        - [Algorytm QuickHull](#pomiary-kolo-quickhull)\n",
    "        - [Algorytm dziel i zwyciężaj](#pomiary-kolo-dziel)\n",
    "        - [Algorytm przyrostowy](#pomiary-kolo-przyrost)\n",
    "        - [Algorytm Jarvisa](#pomiary-kolo-jarvis)\n",
    "        - [Ujęcie zbiorcze](#pomiary-kolo-zbiorczy)\n",
    "         -[Ujęcie zbiorcze bez Jarvisa](#pomiary-kolo-zbiorczy-2)\n",
    "    - [Punkty na obwodzie prostokąta](#pomiary-prost)\n",
    "        - [Algorytm Grahama](#pomiary-prost-graham)\n",
    "        - [Algortym \"Górna-dolna\"](#pomiary-prost-gornadolna)\n",
    "        - [Algorytm Chana](#pomiary-prost-chan)\n",
    "        - [Algorytm QuickHull](#pomiary-prost-quickhull)\n",
    "        - [Algorytm dziel i zwyciężaj](#pomiary-prost-dziel)\n",
    "        - [Algorytm przyrostowy](#pomiary-prost-przyrost)\n",
    "        - [Algorytm Jarvisa](#pomiary-prost-jarvis)\n",
    "        - [Ujęcie zbiorcze](#pomiary-prost-zbiorczy)\n",
    "        - [Ujęcie zbiorcze bez Chana](#pomiary-prost-zbiorczy-2)\n",
    "    - [Puntky na kwadracie (2 boki + przekątne)](#pomiary-kw)\n",
    "        - [Algorytm Grahama](#pomiary-kw-graham)\n",
    "        - [Algortym \"Górna-dolna\"](#pomiary-kw-gornadolna)\n",
    "        - [Algorytm Chana](#pomiary-kw-chan)\n",
    "        - [Algorytm QuickHull](#pomiary-kw-quickhull)\n",
    "        - [Algorytm dziel i zwyciężaj](#pomiary-kw-dziel)\n",
    "        - [Algorytm przyrostowy](#pomiary-kw-przyrost)\n",
    "        - [Algorytm Jarvisa](#pomiary-kw-jarvis)\n",
    "        - [Ujęcie zbiorcze](#pomiary-kw-zbiorczy)\n",
    "        - [Ujęcie zbiorcze bez Chana](#pomiary-kw-zbiorczy-2)"
   ]
  },
  {
   "cell_type": "markdown",
   "metadata": {},
   "source": [
    "<a id='section_id'></a>"
   ]
  },
  {
   "cell_type": "markdown",
   "metadata": {},
   "source": [
    "### Importy\n",
    "<a id=\"konfiguracja\"></a>"
   ]
  },
  {
   "cell_type": "markdown",
   "metadata": {},
   "source": [
    "<a id='section_id'></a>"
   ]
  },
  {
   "cell_type": "code",
   "execution_count": null,
   "metadata": {},
   "outputs": [],
   "source": [
    "from lib import *\n",
    "import numpy as np\n",
    "from vis.divide_conq_vis import divide_conq_vis\n",
    "from vis.graham_vis import *\n",
    "from vis.increase_vis import *\n",
    "from vis.divide_conq_vis import *\n",
    "from vis.jarvis_vis import *\n",
    "from vis.lowerupper_vis import *\n",
    "from vis.chan_vis import *\n",
    "from vis.quickhull_vis import *\n",
    "# Funkcje wizualizujące Łukasza\n",
    "\n",
    "# wypisywanie otoczek w czytelnej formie\n",
    "from pprint import pprint\n",
    "from copy import deepcopy"
   ]
  },
  {
   "cell_type": "markdown",
   "metadata": {},
   "source": [
    "<a id='section_id'></a>"
   ]
  },
  {
   "cell_type": "markdown",
   "metadata": {},
   "source": [
    "<a id='section_id'></a>"
   ]
  },
  {
   "cell_type": "markdown",
   "metadata": {},
   "source": [
    "# Genertor zbiorów punktów\n",
    "\n",
    "<a id=\"generator\"></a>\n",
    "[spis treści](#spis)"
   ]
  },
  {
   "cell_type": "markdown",
   "metadata": {},
   "source": [
    "<a id='section_id'></a>"
   ]
  },
  {
   "cell_type": "markdown",
   "metadata": {},
   "source": [
    "<a id='section_id'></a>"
   ]
  },
  {
   "cell_type": "code",
   "execution_count": null,
   "metadata": {},
   "outputs": [],
   "source": [
    "import random \n",
    "import math\n",
    "def makeAset(n,x1=-100,y1=100,x2=-100,y2=100):\n",
    "    return [(random.randint(x1,y1), random.randint(x2,y2)) for i in range(n)]\n",
    "\n",
    "def makeBset(n,xs=0,ys=0,r=100):\n",
    "    b = []\n",
    "    for _ in range(n):\n",
    "        t = random.random() * (2*math.pi)\n",
    "        b.append((r*math.sin(t)-xs, r*math.cos(t)-ys))\n",
    "    return b\n",
    "        \n",
    "def makeCset(n,x1=-100,y1=-100,x2=100,y2=-100,x3=100,y3=100,x4=-100,y4=100): # wierzcholki musza byc podawane \n",
    "# kolejno w przeciwnym kierunku do ruchu wskazowek \n",
    "\n",
    "    C=[]\n",
    "    a=np.sqrt((x1-x2)**2+(y1-y2)**2)\n",
    "    b=np.sqrt((x2-x3)**2+(y2-y3)**2)\n",
    "    c=np.sqrt((x3-x4)**2+(y3-y4)**2)\n",
    "    d=np.sqrt((x1-x4)**2+(y1-y4)**2)\n",
    "    obw=a+b+c+d\n",
    "    s=random.random()*obw\n",
    "\n",
    "    for _ in range(n):\n",
    "        s =random.random() * obw\n",
    "        if s<=a:\n",
    "            C.append(((x1+(s/a)*(x2-x1),y1+(y2-y1)*(s/a))))\n",
    "        elif s<=a+b:\n",
    "            C.append((x2+(x3-x2)*((s-a)/b),y2+(y3-y2)*((s-a)/b)))\n",
    "        elif s<=a+b+c:\n",
    "            C.append((x3+(x4-x3)*((s-a-b)/c),y3+(y4-y3)*((s-b-a)/c)))\n",
    "        else:\n",
    "            C.append((x4+(x1-x4)*((s-a-b-c)/d),y4+(y1-y4)*((s-b-a-c)/d)))\n",
    "    return C\n",
    "\n",
    "def makeDset(x1=0,y1=0,x2=10,y2=0,x3=10,y3=10,x4=0,y4=10,n1=100,n2=100,n=0):\n",
    "    if(n!=0):\n",
    "        n1=n\n",
    "        n2=n\n",
    "    D=[]\n",
    "    D.append((x1,y1))\n",
    "    D.append((x2,y2))\n",
    "    D.append((x3,y3))\n",
    "    D.append((x4,y4))\n",
    "    a=np.sqrt((x2-x1)**2+(y2-y1)**2)\n",
    "    d=np.sqrt((x3-x1)**2+(y3-y1)**2)\n",
    "    \n",
    "    for _ in range(n1):\n",
    "        s=random.random()*a\n",
    "        D.append((x1+(x2-x1)*(s/a),y1+(y2-y1)*(s/a)))\n",
    "        D.append((x4+(x1-x4)*(s/a),y4+(y1-y4)*(s/a)))\n",
    "    for _ in range(n2):\n",
    "        s=random.random()*d\n",
    "        D.append((x1+(x3-x1)*(s/d),y1+(y3-y1)*(s/d)))\n",
    "        D.append((x2+(x4-x2)*(s/d),y2+(y4-y2)*(s/d)))\n",
    "    return D   "
   ]
  },
  {
   "cell_type": "markdown",
   "metadata": {},
   "source": [
    "<a id='section_id'></a>"
   ]
  },
  {
   "cell_type": "markdown",
   "metadata": {},
   "source": [
    "## Wybor zbiorow\n",
    "\n",
    "<a id=\"ustalenieZbiorow\"></a>\n",
    "\n",
    "* Zbiór typu A - losowe punkty płaszczyzny o wsp. z zadanego przedziału\n",
    "* Zbiór typu B - losowe punkty leżące na danym okręgu\n",
    "* Zbiór typu C - losowe punkty leżące na obwodzie danego prostokąta\n",
    "* Zbiór typu D - losowe punkty leżące na 2-óch bokach kwadratu i jego przekątnych\n",
    "\n",
    "\n",
    "[spis treści](#spis)\n"
   ]
  },
  {
   "cell_type": "code",
   "execution_count": null,
   "metadata": {},
   "outputs": [],
   "source": [
    "a=makeAset(n=10)\n",
    "b=makeBset(n=10)\n",
    "c=makeCset(n=10)\n",
    "d=makeDset(n=10)"
   ]
  },
  {
   "cell_type": "markdown",
   "metadata": {},
   "source": [
    "# Sekcja Wizualizacji\n",
    "\n",
    "<a id=\"wizualizacja\"></a>\n"
   ]
  },
  {
   "cell_type": "markdown",
   "metadata": {},
   "source": [
    "## Algorytm Jarvisa\n",
    "\n",
    "<a id=\"jarvis\"></a>\n",
    "[spis treści](#spis)\n",
    "\n",
    "[Wybor zbiorow do wizualizcji](#ustalenieZbiorow)\n"
   ]
  },
  {
   "cell_type": "markdown",
   "metadata": {},
   "source": [
    "### Opis"
   ]
  },
  {
   "cell_type": "markdown",
   "metadata": {},
   "source": [
    "* Wyznaczenie najniżej położonego punktu spośród danego zbioru. Jeśli istnieje więcej\n",
    "niż jeden taki punkt, to wybieramy ten o najmniejszej odciętej.\n",
    "\n",
    "* Wyznaczaniu kolejnych punktów otoczki i dodawaniu ich do listy wynikowej, dopóki\n",
    "kolejny punkt otoczki dla punktu bieżącego nie jest pierwszym punktem otoczki.\n",
    "Wyznaczanie kolejnych punktów odbywa się w następujący sposób:\n",
    "    * Jeśli dany punkt należy do otoczki, to następny punkt należący do otoczki, to taki punkt, że wszystkie inne punkty leżą na lewo od odcinka łączącego dany punkt z otoczki z tym punktem.\n",
    " \n",
    "* Tak utworzona lista jest naszą otoczką."
   ]
  },
  {
   "cell_type": "markdown",
   "metadata": {},
   "source": [
    "<a id='section_id'></a>"
   ]
  },
  {
   "cell_type": "markdown",
   "metadata": {},
   "source": [
    "### Jarvis - wizualizacja dla chmury punktów\n",
    "\n",
    "<a id=\"jarvisa\"></a>\n",
    "[spis treści](#spis)\n",
    "\n",
    "[Wybor zbiorow do wizualizcji](#ustalenieZbiorow)\n",
    "\n",
    "[Poczatek sekcji](#jarvis)"
   ]
  },
  {
   "cell_type": "markdown",
   "metadata": {},
   "source": [
    "<a id='section_id'></a>"
   ]
  },
  {
   "cell_type": "code",
   "execution_count": null,
   "metadata": {},
   "outputs": [],
   "source": [
    "%matplotlib notebook\n",
    "\n",
    "ch, plot=jarvis_vis(np.array(a))\n",
    "\n",
    "print(f'Liczba punktow otoczki: {len(ch)}\\nPunkty otoczki:')\n",
    "pprint(ch)\n",
    "\n",
    "plot.draw()"
   ]
  },
  {
   "cell_type": "markdown",
   "metadata": {},
   "source": [
    "<a id='section_id'></a>"
   ]
  },
  {
   "cell_type": "markdown",
   "metadata": {},
   "source": [
    "### Jarvis - wizualizacja dla punktów o rozkładzie kołowym\n",
    "\n",
    "<a id=\"jarvisb\"></a>\n",
    "[spis treści](#spis)\n",
    "\n",
    "[Wybor zbiorow do wizualizcji](#ustalenieZbiorow)\n",
    "\n",
    "[Poczatek sekcji](#jarvis)"
   ]
  },
  {
   "cell_type": "code",
   "execution_count": null,
   "metadata": {},
   "outputs": [],
   "source": [
    "%matplotlib notebook\n",
    "\n",
    "ch, plot = jarvis_vis(np.array(b))\n",
    "\n",
    "print(f'Liczba punktow otoczki: {len(ch)}\\nPunkty otoczki:')\n",
    "pprint(ch)\n",
    "\n",
    "plot.draw()"
   ]
  },
  {
   "cell_type": "markdown",
   "metadata": {},
   "source": [
    "<a id='section_id'></a>"
   ]
  },
  {
   "cell_type": "markdown",
   "metadata": {},
   "source": [
    "### Jarvis - wizualizacja dla punktów o rozkładzie prostokątnym\n",
    "\n",
    "<a id=\"jarvisc\"></a>\n",
    "[spis treści](#spis)\n",
    "\n",
    "[Wybor zbiorow do wizualizcji](#ustalenieZbiorow)\n",
    "\n",
    "[Poczatek sekcji](#jarvis)"
   ]
  },
  {
   "cell_type": "markdown",
   "metadata": {},
   "source": [
    "<a id='section_id'></a>"
   ]
  },
  {
   "cell_type": "code",
   "execution_count": null,
   "metadata": {
    "scrolled": false
   },
   "outputs": [],
   "source": [
    "%matplotlib notebook \n",
    "\n",
    "ch, plot = jarvis_vis(np.array(c))\n",
    "\n",
    "print(f'Liczba punktow otoczki: {len(ch)}\\nPunkty otoczki:')\n",
    "pprint(ch)\n",
    "\n",
    "\n",
    "plot.draw()"
   ]
  },
  {
   "cell_type": "markdown",
   "metadata": {},
   "source": [
    "<a id='section_id'></a>"
   ]
  },
  {
   "cell_type": "markdown",
   "metadata": {},
   "source": [
    "### Jarvis - wizualizacja dla punktów o rozkładzie na dwóh bokach, wierzchołkach i przekątnych prostokąta\n",
    "\n",
    "<a id=\"jarvisd\"></a>\n",
    "[spis treści](#spis)\n",
    "\n",
    "[Wybor zbiorow do wizualizcji](#ustalenieZbiorow)\n",
    "\n",
    "[Poczatek sekcji](#jarvis)"
   ]
  },
  {
   "cell_type": "code",
   "execution_count": null,
   "metadata": {},
   "outputs": [],
   "source": [
    "%matplotlib notebook\n",
    "\n",
    "ch, plot = jarvis_vis(np.array(d))\n",
    "\n",
    "print(f'Liczba punktow otoczki: {len(ch)}\\nPunkty otoczki:')\n",
    "pprint(ch)\n",
    "\n",
    "\n",
    "plot.draw()\n",
    "\n"
   ]
  },
  {
   "cell_type": "markdown",
   "metadata": {},
   "source": [
    "<a id='section_id'></a>"
   ]
  },
  {
   "cell_type": "markdown",
   "metadata": {},
   "source": [
    "<a id='section_id'></a>"
   ]
  },
  {
   "cell_type": "markdown",
   "metadata": {},
   "source": [
    "<a id='section_id'></a>"
   ]
  },
  {
   "cell_type": "markdown",
   "metadata": {},
   "source": [
    "## Algorytm Grahama\n",
    "\n",
    "<a id=\"graham\"></a>\n",
    "[spis treści](#spis)\n",
    "\n",
    "[Wybor zbiorow do wizualizcji](#ustalenieZbiorow)"
   ]
  },
  {
   "cell_type": "markdown",
   "metadata": {},
   "source": [
    "### Opis\n",
    "\n",
    "* Wyznaczenie najniżej położonego punktu spośród danego zbioru. Jeśli istnieje więcej\n",
    "niż jeden taki punkt, to wybieramy ten o najmniejszej odciętej.\n",
    "\n",
    "* Sortowania reszty punktów względem kąta jaki tworzą one z punktem najniższym, \n",
    "a dodatnią osią OX.\n",
    "\n",
    "* Położenie najniższego punktu na stos wraz z pierwszym punktem z posortowanej reszty.\n",
    "\n",
    "* Iteracji po reszcie posortowany punktów:\n",
    "    * Jeżeli kolejny punkt znajduje się po prawej stronie odcinka utworzonego z dwóch\n",
    "ostatnich punktów ze stosu,bądź jest z nim współliniowy, to usuwamy ostatni punkt stosu.\n",
    "    * Kładziemy rozważany punkt na stos.\n",
    "* Na końcu zwracamy całą zawartość stosu - jest to nasza otoczka wypukła."
   ]
  },
  {
   "cell_type": "markdown",
   "metadata": {},
   "source": [
    "<a id='section_id'></a>"
   ]
  },
  {
   "cell_type": "markdown",
   "metadata": {},
   "source": [
    "<a id='section_id'></a>"
   ]
  },
  {
   "cell_type": "markdown",
   "metadata": {},
   "source": [
    "### Graham - wizualizacja dla chmury punktów\n",
    "\n",
    "<a id=\"grahama\"></a>\n",
    "[spis treści](#spis)\n",
    "\n",
    "[Wybor zbiorow do wizualizcji](#ustalenieZbiorow)\n",
    "\n",
    "[Poczatek sekcji](#graham)"
   ]
  },
  {
   "cell_type": "markdown",
   "metadata": {},
   "source": [
    "<a id='section_id'></a>"
   ]
  },
  {
   "cell_type": "code",
   "execution_count": null,
   "metadata": {},
   "outputs": [],
   "source": [
    "%matplotlib notebook\n",
    "\n",
    "# przekazujemy kopię listy punktów, ponieważ algorytm sortujący modyfikuje listę w miejscu\n",
    "ch, plot = graham_vis(a.copy())\n",
    "\n",
    "print(f'Liczba punktow otoczki: {len(ch)}\\nPunkty otoczki:')\n",
    "pprint(ch)\n",
    "\n",
    "plot.draw()\n"
   ]
  },
  {
   "cell_type": "markdown",
   "metadata": {},
   "source": [
    "<a id='section_id'></a>"
   ]
  },
  {
   "cell_type": "markdown",
   "metadata": {},
   "source": [
    "### Graham - wizualizacja dla punktów o rozkładzie kołowym\n",
    "\n",
    "<a id=\"grahamb\"></a>\n",
    "[spis treści](#spis)\n",
    "\n",
    "[Wybor zbiorow do wizualizcji](#ustalenieZbiorow)\n",
    "\n",
    "[Poczatek sekcji](#graham)"
   ]
  },
  {
   "cell_type": "markdown",
   "metadata": {},
   "source": [
    "<a id='section_id'></a>"
   ]
  },
  {
   "cell_type": "code",
   "execution_count": null,
   "metadata": {
    "scrolled": false
   },
   "outputs": [],
   "source": [
    "%matplotlib notebook\n",
    "\n",
    "# przekazujemy kopię listy punktów, poinieważ algorytm sortujący modyfikuje listę w miejscu\n",
    "ch, plot = graham_vis(b.copy())\n",
    "\n",
    "print(f'Liczba punktow otoczki: {len(ch)}\\nPunkty otoczki:')\n",
    "pprint(ch)\n",
    "\n",
    "\n",
    "plot.draw()"
   ]
  },
  {
   "cell_type": "markdown",
   "metadata": {},
   "source": [
    "<a id='section_id'></a>"
   ]
  },
  {
   "cell_type": "markdown",
   "metadata": {},
   "source": [
    "### Graham - wizualizacja dla punktów o rozkładzie prostokątnym\n",
    "\n",
    "<a id=\"grahamac\"></a>\n",
    "[spis treści](#spis)\n",
    "\n",
    "[Wybor zbiorow do wizualizcji](#ustalenieZbiorow)\n",
    "\n",
    "[Poczatek sekcji](#graham)"
   ]
  },
  {
   "cell_type": "markdown",
   "metadata": {},
   "source": [
    "<a id='section_id'></a>"
   ]
  },
  {
   "cell_type": "code",
   "execution_count": null,
   "metadata": {},
   "outputs": [],
   "source": [
    "%matplotlib notebook\n",
    "\n",
    "# przekazujemy kopię listy punktów, ponieważ algorytm sortujący modyfikuje listę w miejscu\n",
    "ch, plot=graham_vis(c.copy())\n",
    "\n",
    "print(f'Liczba punktow otoczki: {len(ch)}\\nPunkty otoczki:')\n",
    "pprint(ch)\n",
    "\n",
    "plot.draw()"
   ]
  },
  {
   "cell_type": "markdown",
   "metadata": {},
   "source": [
    "<a id='section_id'></a>"
   ]
  },
  {
   "cell_type": "markdown",
   "metadata": {},
   "source": [
    "### Graham - wizualizacja dla punktów o rozkładzie na dwóh bokach, wierzchołkach i przekątnych prostokąta\n",
    "\n",
    "<a id=\"grahamd\"></a>\n",
    "[spis treści](#spis)\n",
    "\n",
    "[Wybor zbiorow do wizualizcji](#ustalenieZbiorow)\n",
    "\n",
    "[Poczatek sekcji](#graham)\n",
    "            "
   ]
  },
  {
   "cell_type": "code",
   "execution_count": null,
   "metadata": {},
   "outputs": [],
   "source": [
    "%matplotlib notebook\n",
    "\n",
    "# przekazujemy kopię listy punktów, ponieważ algorytm sortujący modyfikuje listę w miejscu\n",
    "ch, plot = graham_vis(d.copy())\n",
    "\n",
    "print(f'Liczba punktow otoczki: {len(ch)}\\nPunkty otoczki:')\n",
    "pprint(ch)\n",
    "\n",
    "plot.draw()"
   ]
  },
  {
   "cell_type": "markdown",
   "metadata": {},
   "source": [
    "<a id='section_id'></a>"
   ]
  },
  {
   "cell_type": "markdown",
   "metadata": {
    "scrolled": false
   },
   "source": [
    "<a id='section_id'></a>"
   ]
  },
  {
   "cell_type": "markdown",
   "metadata": {},
   "source": [
    "<a id='section_id'></a>"
   ]
  },
  {
   "cell_type": "markdown",
   "metadata": {},
   "source": [
    "## Algorytm górna-dolna\n",
    "\n",
    "<a id=\"goradol\"></a>\n",
    "[spis treści](#spis)\n",
    "\n",
    "[Wybor zbiorow do wizualizcji](#ustalenieZbiorow)"
   ]
  },
  {
   "cell_type": "markdown",
   "metadata": {},
   "source": [
    "<a id='section_id'></a>"
   ]
  },
  {
   "cell_type": "markdown",
   "metadata": {},
   "source": [
    "### Opis\n",
    "\n",
    "\n",
    "1. Sortujemy punkty rosnąco po odciętych (w przypadku rówych, mniejszy jest punkt o mniejszej rzędnej). \n",
    "2. Pierwsze dwa punkty z posortowanego zbioru wpisujemy do zbioru punktów otoczki górnej oraz dolnej.\n",
    "3. Iterujemy po zbiorze punktów zaczynając od i = 2 (trzeciego punktu), niech P będzie bieżącym punktem: \n",
    "    1. Dopóki górna (dolna) otoczka ma co najmniej 2 punkty i P nie znajduje się po prawej (lewej) stronie odcinka skierowanego utworzonego przez ostatniej dwa punkty otoczki (ostatni jest końcem odcinka), wykonujemy 3.2:\n",
    "    2. Usuwamy ostatni punkt z otoczki górej (dolnej). \n",
    "    3. Dodajemy P do punktów otoczki górnej (dolnej). \n",
    "4. Odwracamy kolejność wierzchołków w otoczce dolnej. \n",
    "5. Łączymy zbioru punktów otoczki górnej oraz dolnej. \n",
    "6. Zwracamy złączony zbiór punktów otoczki. \n",
    "    "
   ]
  },
  {
   "cell_type": "markdown",
   "metadata": {},
   "source": [
    "### Gorna-dolna - wizualizacja dla chmury punktów\n",
    "\n",
    "<a id=\"goradola\"></a>\n",
    "[spis treści](#spis)\n",
    "\n",
    "[Wybor zbiorow do wizualizcji](#ustalenieZbiorow)\n",
    "\n",
    "[Poczatek sekcji](#goradol)"
   ]
  },
  {
   "cell_type": "code",
   "execution_count": null,
   "metadata": {},
   "outputs": [],
   "source": [
    "%matplotlib notebook\n",
    "\n",
    "ch, plot = lower_upper_vis(a.copy())\n",
    "\n",
    "print(f'Liczba punktow otoczki: {len(ch)}\\nPunkty otoczki:')\n",
    "pprint(ch)\n",
    "\n",
    "plot.draw()"
   ]
  },
  {
   "cell_type": "markdown",
   "metadata": {},
   "source": [
    "### Gorna-dolna - wizualizacja dla punktów o rozkładzie kołowym\n",
    "\n",
    "<a id=\"goradolb\"></a>\n",
    "[spis treści](#spis)\n",
    "\n",
    "[Wybor zbiorow do wizualizcji](#ustalenieZbiorow)\n",
    "\n",
    "[Poczatek sekcji](#goradol)"
   ]
  },
  {
   "cell_type": "code",
   "execution_count": null,
   "metadata": {},
   "outputs": [],
   "source": [
    "%matplotlib notebook\n",
    "\n",
    "ch, plot = lower_upper_vis(b.copy())\n",
    "\n",
    "print(f'Liczba punktow otoczki: {len(ch)}\\nPunkty otoczki:')\n",
    "pprint(ch)\n",
    "\n",
    "plot.draw()"
   ]
  },
  {
   "cell_type": "markdown",
   "metadata": {},
   "source": [
    "<a id='section_id'></a>"
   ]
  },
  {
   "cell_type": "markdown",
   "metadata": {},
   "source": [
    "### Gorna-dolna - wizualizacja dla punktów o rozkładzie prostokątnym\n",
    "\n",
    "<a id=\"goradolc\"></a>\n",
    "[spis treści](#spis)\n",
    "\n",
    "[Wybor zbiorow do wizualizcji](#ustalenieZbiorow)\n",
    "\n",
    "[Poczatek sekcji](#goradol)"
   ]
  },
  {
   "cell_type": "markdown",
   "metadata": {},
   "source": [
    "<a id='section_id'></a>"
   ]
  },
  {
   "cell_type": "code",
   "execution_count": null,
   "metadata": {},
   "outputs": [],
   "source": [
    "%matplotlib notebook\n",
    "\n",
    "ch, plot = lower_upper_vis(c.copy())\n",
    "\n",
    "print(f'Liczba punktow otoczki: {len(ch)}\\nPunkty otoczki:')\n",
    "pprint(ch)\n",
    "\n",
    "plot.draw()"
   ]
  },
  {
   "cell_type": "markdown",
   "metadata": {},
   "source": [
    "<a id='section_id'></a>"
   ]
  },
  {
   "cell_type": "markdown",
   "metadata": {},
   "source": [
    "### Gorna-dolna - wizualizacja dla punktów o rozkładzie na dwóh bokach, wierzchołkach i przekątnych prostokąta\n",
    "\n",
    "<a id=\"goradold\"></a>\n",
    "[spis treści](#spis)\n",
    "\n",
    "[Wybor zbiorow do wizualizcji](#ustalenieZbiorow)\n",
    "\n",
    "[Poczatek sekcji](#goradol)"
   ]
  },
  {
   "cell_type": "markdown",
   "metadata": {},
   "source": [
    "<a id='section_id'></a>"
   ]
  },
  {
   "cell_type": "code",
   "execution_count": null,
   "metadata": {},
   "outputs": [],
   "source": [
    "%matplotlib notebook\n",
    "\n",
    "ch, plot = lower_upper_vis(d.copy())\n",
    "\n",
    "print(f'Liczba punktow otoczki: {len(ch)}\\nPunkty otoczki:')\n",
    "pprint(ch)\n",
    "\n",
    "plot.draw()"
   ]
  },
  {
   "cell_type": "markdown",
   "metadata": {},
   "source": [
    "<a id='section_id'></a>"
   ]
  },
  {
   "cell_type": "markdown",
   "metadata": {},
   "source": [
    "<a id='section_id'></a>"
   ]
  },
  {
   "cell_type": "markdown",
   "metadata": {},
   "source": [
    "<a id='section_id'></a>"
   ]
  },
  {
   "cell_type": "markdown",
   "metadata": {},
   "source": [
    "## Algorytm przyrostowy\n",
    "\n",
    "<a id=\"przyrost\"></a>\n",
    "[spis treści](#spis)\n",
    "\n",
    "[Wybor zbiorow do wizualizcji](#ustalenieZbiorow)"
   ]
  },
  {
   "cell_type": "markdown",
   "metadata": {},
   "source": [
    "<a id='section_id'></a>"
   ]
  },
  {
   "cell_type": "markdown",
   "metadata": {},
   "source": [
    "### Opis\n",
    "\n",
    "1. Dodajemy pierwsze 3 punkty do zbioru punktów otoczki. \n",
    "2. Iterujemy po pozostałych punktach. Niech P będzie punktem bieżącym:\n",
    "    1. Jeżeli P nie należy do wnętrza obecnie znanej otoczki wykonujemy 2.2 oraz 2.3.\n",
    "    2. Znajdujemy styczne do obecnie znanej otoczki poprowadzone przez punkt P.\n",
    "    3. Aktualizujemy otoczkę.\n",
    "    4. Zwracamy punkty otoczki.\n",
    "    \n",
    "Sortując punkty po odciętych, możemy zrezygnować z testowania przynależności punktu do wnętrza otoczki, zostając przy tej samej klasie złożoności. \n"
   ]
  },
  {
   "cell_type": "markdown",
   "metadata": {},
   "source": [
    "<a id='section_id'></a>"
   ]
  },
  {
   "cell_type": "markdown",
   "metadata": {},
   "source": [
    "### Przyrostowy - wizualizacja dla chmury punktów\n",
    "\n",
    "<a id=\"przyrosta\"></a>\n",
    "[spis treści](#spis)\n",
    "\n",
    "[Wybor zbiorow do wizualizcji](#ustalenieZbiorow)\n",
    "\n",
    "[Poczatek sekcji](#przyrost)"
   ]
  },
  {
   "cell_type": "markdown",
   "metadata": {},
   "source": [
    "<a id='section_id'></a>"
   ]
  },
  {
   "cell_type": "code",
   "execution_count": null,
   "metadata": {},
   "outputs": [],
   "source": [
    "%matplotlib notebook\n",
    "\n",
    "ch, plot = increase_with_sorting_vis(a.copy())\n",
    "\n",
    "print(f'Liczba punktow otoczki: {len(ch)}\\nPunkty otoczki:')\n",
    "pprint(ch)\n",
    "\n",
    "plot.draw()"
   ]
  },
  {
   "cell_type": "markdown",
   "metadata": {},
   "source": [
    "<a id='section_id'></a>"
   ]
  },
  {
   "cell_type": "markdown",
   "metadata": {},
   "source": [
    "### Przyrostowy- wizualizacja dla punktów o rozkładzie kołowym\n",
    "\n",
    "<a id=\"przyrostb\"></a>\n",
    "[spis treści](#spis)\n",
    "\n",
    "[Wybor zbiorow do wizualizcji](#ustalenieZbiorow)\n",
    "\n",
    "[Poczatek sekcji](#przyrost)"
   ]
  },
  {
   "cell_type": "markdown",
   "metadata": {},
   "source": [
    "<a id='section_id'></a>"
   ]
  },
  {
   "cell_type": "code",
   "execution_count": null,
   "metadata": {
    "scrolled": false
   },
   "outputs": [],
   "source": [
    "%matplotlib notebook\n",
    "\n",
    "ch, plot = increase_with_sorting_vis(b.copy())\n",
    "\n",
    "print(f'Liczba punktow otoczki: {len(ch)}\\nPunkty otoczki:')\n",
    "pprint(ch)\n",
    "\n",
    "plot.draw()"
   ]
  },
  {
   "cell_type": "markdown",
   "metadata": {},
   "source": [
    "<a id='section_id'></a>"
   ]
  },
  {
   "cell_type": "markdown",
   "metadata": {},
   "source": [
    "### Przyrostowy - wizualizacja dla punktów o rozkładzie prostokątnym\n",
    "\n",
    "<a id=\"przyrostc\"></a>\n",
    "[spis treści](#spis)\n",
    "\n",
    "[Wybor zbiorow do wizualizcji](#ustalenieZbiorow)\n",
    "\n",
    "[Poczatek sekcji](#przyrost)"
   ]
  },
  {
   "cell_type": "markdown",
   "metadata": {},
   "source": [
    "<a id='section_id'></a>"
   ]
  },
  {
   "cell_type": "code",
   "execution_count": null,
   "metadata": {},
   "outputs": [],
   "source": [
    "%matplotlib notebook\n",
    "\n",
    "ch, plot = increase_with_sorting_vis(c.copy())\n",
    "\n",
    "print(f'Liczba punktow otoczki: {len(ch)}\\nPunkty otoczki:')\n",
    "pprint(ch)\n",
    "\n",
    "plot.draw()"
   ]
  },
  {
   "cell_type": "markdown",
   "metadata": {},
   "source": [
    "<a id='section_id'></a>"
   ]
  },
  {
   "cell_type": "markdown",
   "metadata": {},
   "source": [
    "### Przyrostowy - wizualizacja dla punktów o rozkładzie na dwóh bokach, wierzchołkach i przekątnych prostokąta\n",
    "\n",
    "<a id=\"przyrostd\"></a>\n",
    "[spis treści](#spis)\n",
    "\n",
    "[Wybor zbiorow do wizualizcji](#ustalenieZbiorow)\n",
    "\n",
    "[Poczatek sekcji](#przyrost)"
   ]
  },
  {
   "cell_type": "markdown",
   "metadata": {},
   "source": [
    "<a id='section_id'></a>"
   ]
  },
  {
   "cell_type": "code",
   "execution_count": null,
   "metadata": {},
   "outputs": [],
   "source": [
    "%matplotlib notebook\n",
    "\n",
    "\n",
    "ch, plot = increase_with_sorting_vis(d.copy())\n",
    "\n",
    "print(f'Liczba punktow otoczki: {len(ch)}\\nPunkty otoczki:')\n",
    "pprint(ch)\n",
    "\n",
    "plot.draw()"
   ]
  },
  {
   "cell_type": "markdown",
   "metadata": {},
   "source": [
    "<a id='section_id'></a>"
   ]
  },
  {
   "cell_type": "markdown",
   "metadata": {},
   "source": [
    "<a id='section_id'></a>"
   ]
  },
  {
   "cell_type": "markdown",
   "metadata": {},
   "source": [
    "<a id='section_id'></a>"
   ]
  },
  {
   "cell_type": "markdown",
   "metadata": {},
   "source": [
    "## Algorytm dziel i zwyciezaj\n",
    "\n",
    "<a id=\"dziel\"></a>\n",
    "[spis treści](#spis)\n",
    "\n",
    "[Wybor zbiorow do wizualizcji](#ustalenieZbiorow)"
   ]
  },
  {
   "cell_type": "markdown",
   "metadata": {},
   "source": [
    "<a id='section_id'></a>"
   ]
  },
  {
   "cell_type": "markdown",
   "metadata": {},
   "source": [
    "### Opis\n",
    "\n",
    "Standardowe zastosowanie metody dziel i zwyciężaj: \n",
    "\n",
    "1. Dzielimy punkty na mniejsze bądź równe i większe względem mediany z odciętych tak długo aż każdy wydzielony podzbiór nie ma mocy mniejszej od pewnej zadanej stałej k.\n",
    "2. Znajdujemy otoczki zbiorów <= k elementowych za pomocą innego algorytmu.\n",
    "3. Tak uzyskane otoczki łączymy w odpowiedniej kolejności (odwrotnej do kolejności dzielenia wzorów)"
   ]
  },
  {
   "cell_type": "markdown",
   "metadata": {},
   "source": [
    "<a id='section_id'></a>"
   ]
  },
  {
   "cell_type": "markdown",
   "metadata": {},
   "source": [
    "<a id='section_id'></a>"
   ]
  },
  {
   "cell_type": "markdown",
   "metadata": {},
   "source": [
    "### Dziel i zwyciezaj - wizualizacja dla chmury punktów\n",
    "\n",
    "<a id=\"dziela\"></a>\n",
    "[spis treści](#spis)\n",
    "\n",
    "[Wybor zbiorow do wizualizcji](#ustalenieZbiorow)\n",
    "\n",
    "[Poczatek sekcji](#dziel)"
   ]
  },
  {
   "cell_type": "markdown",
   "metadata": {},
   "source": [
    "<a id='section_id'></a>"
   ]
  },
  {
   "cell_type": "code",
   "execution_count": null,
   "metadata": {},
   "outputs": [],
   "source": [
    "%matplotlib notebook\n",
    "\n",
    "# przy dużych liczebnościach zbiorów testowych, zaleca się zwiększenie stałej k\n",
    "ch, plot = divide_conq_vis(a.copy(), k=2)\n",
    "\n",
    "print(f'Liczba punktow otoczki: {len(ch)}\\nPunkty otoczki:')\n",
    "pprint(ch)\n",
    "\n",
    "plot.draw()"
   ]
  },
  {
   "cell_type": "markdown",
   "metadata": {},
   "source": [
    "<a id='section_id'></a>"
   ]
  },
  {
   "cell_type": "markdown",
   "metadata": {},
   "source": [
    "### Dziel i zwyciezaj - wizualizacja dla punktów o rozkładzie kołowym\n",
    "\n",
    "<a id=\"dzielb\"></a>\n",
    "[spis treści](#spis)\n",
    "\n",
    "[Wybor zbiorow do wizualizcji](#ustalenieZbiorow)\n",
    "\n",
    "[Poczatek sekcji](#dziel)"
   ]
  },
  {
   "cell_type": "code",
   "execution_count": null,
   "metadata": {},
   "outputs": [],
   "source": [
    "%matplotlib notebook\n",
    "\n",
    "k = 5\n",
    "ch, plot = divide_conq_vis(b.copy(), k)\n",
    "\n",
    "print(f'Liczba punktow  otoczki: {len(ch)}\\nPunkty otoczki:')\n",
    "pprint(ch)\n",
    "\n",
    "plot.draw()"
   ]
  },
  {
   "cell_type": "markdown",
   "metadata": {},
   "source": [
    "<a id='section_id'></a>"
   ]
  },
  {
   "cell_type": "markdown",
   "metadata": {},
   "source": [
    "### Dziel i zwyciezaj  - wizualizacja dla punktów o rozkładzie prostokątnym\n",
    "\n",
    "<a id=\"dzielc\"></a>\n",
    "[spis treści](#spis)\n",
    "\n",
    "[Wybor zbiorow do wizualizcji](#ustalenieZbiorow)\n",
    "\n",
    "[Poczatek sekcji](#dziel)"
   ]
  },
  {
   "cell_type": "markdown",
   "metadata": {},
   "source": [
    "<a id='section_id'></a>"
   ]
  },
  {
   "cell_type": "code",
   "execution_count": null,
   "metadata": {
    "scrolled": false
   },
   "outputs": [],
   "source": [
    "%matplotlib notebook\n",
    "\n",
    "k = 5\n",
    "\n",
    "ch, plot = divide_conq_vis(c.copy(), k)\n",
    "\n",
    "print(f'Liczba punktow otoczki: {len(ch)}\\nPunkty otoczki:')\n",
    "# pprint(ch)\n",
    "\n",
    "plot.draw()"
   ]
  },
  {
   "cell_type": "markdown",
   "metadata": {},
   "source": [
    "\n",
    "<a id='section_id'></a>"
   ]
  },
  {
   "cell_type": "markdown",
   "metadata": {},
   "source": [
    "### Dziel i zwyciezaj  - wizualizacja dla punktów o rozkładzie na dwóh bokach, wierzchołkach i przekątnych prostokąta\n",
    "\n",
    "<a id=\"dzield\"></a>\n",
    "[spis treści](#spis)\n",
    "\n",
    "[Wybor zbiorow do wizualizcji](#ustalenieZbiorow)\n",
    "\n",
    "[Poczatek sekcji](#dziel)"
   ]
  },
  {
   "cell_type": "markdown",
   "metadata": {},
   "source": [
    "<a id='section_id'></a>"
   ]
  },
  {
   "cell_type": "code",
   "execution_count": null,
   "metadata": {},
   "outputs": [],
   "source": [
    "%matplotlib notebook\n",
    "\n",
    "k = 5\n",
    "ch, plot = divide_conq_vis(d.copy(), k)\n",
    "\n",
    "print(f'Liczba punktow otoczki: {len(ch)}\\nPunkty otoczki:')\n",
    "pprint(ch)\n",
    "\n",
    "plot.draw()"
   ]
  },
  {
   "cell_type": "markdown",
   "metadata": {},
   "source": [
    "<a id='section_id'></a>"
   ]
  },
  {
   "cell_type": "markdown",
   "metadata": {},
   "source": [
    "<a id='section_id'></a>"
   ]
  },
  {
   "cell_type": "markdown",
   "metadata": {},
   "source": [
    "<a id='section_id'></a>"
   ]
  },
  {
   "cell_type": "markdown",
   "metadata": {},
   "source": [
    "## Algorytm Chana\n",
    "\n",
    "<a id=\"chan\"></a>\n",
    "[spis treści](#spis)\n",
    "\n",
    "[Wybor zbiorow do wizualizcji](#ustalenieZbiorow)"
   ]
  },
  {
   "cell_type": "markdown",
   "metadata": {},
   "source": [
    "<a id='section_id'></a>"
   ]
  },
  {
   "cell_type": "markdown",
   "metadata": {},
   "source": [
    "### Opis \n",
    "\n",
    "1. Pierwsza, która składa się na:\n",
    "    1. Podział zbioru punktów Q na podzbiory Q(i) o w miarę równych ilościach punktów w nich zawartych, z czego żaden nie zawiera więcej niż dane m. \n",
    "    2. Wyznaczenie otoczek C(i) dla każdego zbioru Q(i).\n",
    "2. Druga polega na wykonaniu algorytmu na wzór Jarvisa:\n",
    "    1. Zaczynamy od wybrania punktu najniższego należącego do danego zbioru punktów\n",
    "    2. Jeżeli mamy dany wierzchołek należący do otoczki, to możemy wyznaczyć kolejny w następujący sposób:\n",
    "        1. Dla każdej podotoczki C(i) wyznaczamy punkt styczny q(i) do tej otoczki.\n",
    "        2. Spośród zbioru takich punktów q(i) oraz kolejnego punktu z podotoczki, do której dany punkt należy wybieramy taki punkt, że wszystkie pozostałe punkty znajdują się na lewo od odcinka utworzonego  z wierzchołka należącego do otoczki głównej i niego.\n",
    "        3. Tak wybrany punkt jest kolejnym punktem otoczki głównej.\n",
    "    3. Wyznaczamy kolejne punkty otoczki, dopóki następny punkt otoczki nie jest pierwszym wierzchołkiem otoczki. Jeżeli nie znajdziemy w ten sposób pierwszego punktu otoczki w m iteracjach, to przerywamy\n",
    "wykonanie algorytmu. \n",
    "\n",
    "\n",
    "Główną część algorytmu wykonujemy dla m=4. Jeśli dla danego m Algorytm został przerwany, to podnosimy m do kwadratu i próbujemy dalej. Jeśli m>ilość punktów m=ilość punktów - algorytm\n",
    "sprowadza się wtedy do algorytmu Grahama."
   ]
  },
  {
   "cell_type": "markdown",
   "metadata": {},
   "source": [
    "<a id='section_id'></a>"
   ]
  },
  {
   "cell_type": "markdown",
   "metadata": {},
   "source": [
    "<a id='section_id'></a>"
   ]
  },
  {
   "cell_type": "markdown",
   "metadata": {},
   "source": [
    "### Chan - wizualizacja dla chmury punktów\n",
    "\n",
    "<a id=\"chana\"></a>\n",
    "[spis treści](#spis)\n",
    "\n",
    "[Wybor zbiorow do wizualizcji](#ustalenieZbiorow)\n",
    "\n",
    "[Poczatek sekcji](#chan)"
   ]
  },
  {
   "cell_type": "markdown",
   "metadata": {},
   "source": [
    "<a id='section_id'></a>"
   ]
  },
  {
   "cell_type": "code",
   "execution_count": null,
   "metadata": {},
   "outputs": [],
   "source": [
    "%matplotlib notebook\n",
    "plot=chan_vis(a,visual=True)\n",
    "plot.draw()"
   ]
  },
  {
   "cell_type": "markdown",
   "metadata": {},
   "source": [
    "<a id='section_id'></a>"
   ]
  },
  {
   "cell_type": "markdown",
   "metadata": {},
   "source": [
    "### Chan  - wizualizacja dla punktów o rozkładzie kołowym\n",
    "\n",
    "<a id=\"chanb\"></a>\n",
    "[spis treści](#spis)\n",
    "\n",
    "[Wybor zbiorow do wizualizcji](#ustalenieZbiorow)\n",
    "\n",
    "[Poczatek sekcji](#chan)"
   ]
  },
  {
   "cell_type": "markdown",
   "metadata": {},
   "source": [
    "<a id='section_id'></a>"
   ]
  },
  {
   "cell_type": "code",
   "execution_count": null,
   "metadata": {},
   "outputs": [],
   "source": [
    "%matplotlib notebook\n",
    "plot=chan_vis(b,visual=True)\n",
    "plot.draw()"
   ]
  },
  {
   "cell_type": "markdown",
   "metadata": {},
   "source": [
    "<a id='section_id'></a>"
   ]
  },
  {
   "cell_type": "markdown",
   "metadata": {},
   "source": [
    "### Chan   - wizualizacja dla punktów o rozkładzie prostokątnym\n",
    "\n",
    "<a id=\"chanc\"></a>\n",
    "[spis treści](#spis)\n",
    "\n",
    "[Wybor zbiorow do wizualizcji](#ustalenieZbiorow)\n",
    "\n",
    "[Poczatek sekcji](#chan)"
   ]
  },
  {
   "cell_type": "markdown",
   "metadata": {},
   "source": [
    "<a id='section_id'></a>"
   ]
  },
  {
   "cell_type": "code",
   "execution_count": null,
   "metadata": {
    "scrolled": false
   },
   "outputs": [],
   "source": [
    "%matplotlib notebook\n",
    "\n",
    "plot=chan_vis(c,visual=True)\n",
    "plot.draw()"
   ]
  },
  {
   "cell_type": "markdown",
   "metadata": {},
   "source": [
    "<a id='section_id'></a>"
   ]
  },
  {
   "cell_type": "markdown",
   "metadata": {},
   "source": [
    "### Chan   - wizualizacja dla punktów o rozkładzie na dwóh bokach, wierzchołkach i przekątnych prostokąta\n",
    "\n",
    "<a id=\"chand\"></a>\n",
    "[spis treści](#spis)\n",
    "\n",
    "[Wybor zbiorow do wizualizcji](#ustalenieZbiorow)\n",
    "\n",
    "[Poczatek sekcji](#chan)"
   ]
  },
  {
   "cell_type": "markdown",
   "metadata": {},
   "source": [
    "<a id='section_id'></a>"
   ]
  },
  {
   "cell_type": "code",
   "execution_count": null,
   "metadata": {},
   "outputs": [],
   "source": [
    "%matplotlib notebook\n",
    "plot=chan_vis(d,visual=True)\n",
    "plot.draw()"
   ]
  },
  {
   "cell_type": "markdown",
   "metadata": {},
   "source": [
    "<a id='section_id'></a>"
   ]
  },
  {
   "cell_type": "markdown",
   "metadata": {},
   "source": [
    "<a id='section_id'></a>"
   ]
  },
  {
   "cell_type": "markdown",
   "metadata": {},
   "source": [
    "<a id='section_id'></a>"
   ]
  },
  {
   "cell_type": "markdown",
   "metadata": {},
   "source": [
    "## Algorytm QuickHull\n",
    "\n",
    "<a id=\"quickhull\"></a>\n",
    "[spis treści](#spis)\n",
    "\n",
    "[Wybor zbiorow do wizualizcji](#ustalenieZbiorow)"
   ]
  },
  {
   "cell_type": "markdown",
   "metadata": {},
   "source": [
    "<a id='section_id'></a>"
   ]
  },
  {
   "cell_type": "markdown",
   "metadata": {},
   "source": [
    "### Opis\n",
    "\n",
    "\n",
    "1. Algorytm rozpoczynamy od wyznaczenie dwóch punktów skrajnych a,b - tj. o najmniejszej i największej współżędnej x-owej.\n",
    "2. Następnie uruchamiamy funkcję rekurencyjnego znajdowania łuku należącego do otoczki między danymi punktami należącymi do tej otoczki p,q na prawo od odcinka |p,q|. Otoczką jest suma punktów a, wyniku działania funkcji rekurencyjnej dla odcinka |a,b|,b oraz wyniku działania funkcji rekurencyjnej dla |b,a|\n",
    "3. Funkcja rekurencyjnego wyznaczenia łuku należącego do otoczki między punktami p i q polega na :\n",
    "    1. Wyznaczeniu najbardziej oddalonego punktu na prawo od —p,q— jeśli są punkty po prawej.\n",
    "    2. Jeśli nie ma takich punktów, to takiego łuku nie ma i zwracamy pustą tablicę. \n",
    "    3. W przeciwnym przypadku p,q należą do otoczki, to wyznaczony punkt skrajny r musi należeć do otoczki.\n",
    "    4. Skoro p,k,r należy do otoczki, to wszystkie wierzchołki wewnątrz trójkąta pkr na pewno do najmniej nie należą - usuwamy je.\n",
    "    5. Szukany łuk, to suma działania tej samej funkcji dla punktów p,r, punktu r , oraz wyniku tej funkcji dla punktów r,q w zadanej kolejności. \n",
    "    6. Na koniec zwracamy wyznaczony w ten sposób łuk. "
   ]
  },
  {
   "cell_type": "markdown",
   "metadata": {},
   "source": [
    "<a id='section_id'></a>"
   ]
  },
  {
   "cell_type": "markdown",
   "metadata": {},
   "source": [
    "### QuickHull - wizualizacja dla chmury punktów\n",
    "\n",
    "<a id=\"quickhulla\"></a>\n",
    "[spis treści](#spis)\n",
    "\n",
    "[Wybor zbiorow do wizualizcji](#ustalenieZbiorow)\n",
    "\n",
    "[Poczatek sekcji](#quickhull)"
   ]
  },
  {
   "cell_type": "markdown",
   "metadata": {},
   "source": [
    "<a id='section_id'></a>"
   ]
  },
  {
   "cell_type": "code",
   "execution_count": null,
   "metadata": {},
   "outputs": [],
   "source": [
    "%matplotlib notebook\n",
    "plot=quickHull_vis(a,visual=True)\n",
    "plot.draw()"
   ]
  },
  {
   "cell_type": "markdown",
   "metadata": {},
   "source": [
    "<a id='section_id'></a>"
   ]
  },
  {
   "cell_type": "markdown",
   "metadata": {},
   "source": [
    "### QuickHull - wizualizacja dla punktów o rozkładzie kołowym\n",
    "\n",
    "<a id=\"quickhullb\"></a>\n",
    "[spis treści](#spis)\n",
    "\n",
    "[Wybor zbiorow do wizualizcji](#ustalenieZbiorow)\n",
    "\n",
    "[Poczatek sekcji](#quickhull)"
   ]
  },
  {
   "cell_type": "markdown",
   "metadata": {},
   "source": [
    "<a id='section_id'></a>"
   ]
  },
  {
   "cell_type": "code",
   "execution_count": null,
   "metadata": {},
   "outputs": [],
   "source": [
    "%matplotlib notebook\n",
    "plot=quickHull_vis(b,visual=True)\n",
    "plot.draw()"
   ]
  },
  {
   "cell_type": "markdown",
   "metadata": {},
   "source": [
    "<a id='section_id'></a>"
   ]
  },
  {
   "cell_type": "markdown",
   "metadata": {},
   "source": [
    "### QuickHull  - wizualizacja dla punktów o rozkładzie prostokątnym\n",
    "\n",
    "<a id=\"quickhullc\"></a>\n",
    "[spis treści](#spis)\n",
    "\n",
    "[Wybor zbiorow do wizualizcji](#ustalenieZbiorow)\n",
    "\n",
    "[Poczatek sekcji](#quickhull)"
   ]
  },
  {
   "cell_type": "markdown",
   "metadata": {},
   "source": [
    "<a id='section_id'></a>"
   ]
  },
  {
   "cell_type": "code",
   "execution_count": null,
   "metadata": {},
   "outputs": [],
   "source": [
    "%matplotlib notebook\n",
    "plot=quickHull_vis(c,visual=True)\n",
    "plot.draw()"
   ]
  },
  {
   "cell_type": "markdown",
   "metadata": {},
   "source": [
    "<a id='section_id'></a>"
   ]
  },
  {
   "cell_type": "markdown",
   "metadata": {},
   "source": [
    "### QuickHull  - wizualizacja dla punktów o rozkładzie na dwóh bokach, wierzchołkach i przekątnych prostokąta\n",
    "\n",
    "<a id=\"quickhulld\"></a>\n",
    "[spis treści](#spis)\n",
    "\n",
    "[Wybor zbiorow do wizualizcji](#ustalenieZbiorow)\n",
    "\n",
    "[Poczatek sekcji](#quickhull)"
   ]
  },
  {
   "cell_type": "markdown",
   "metadata": {},
   "source": [
    "<a id='section_id'></a>"
   ]
  },
  {
   "cell_type": "code",
   "execution_count": null,
   "metadata": {},
   "outputs": [],
   "source": [
    "%matplotlib notebook\n",
    "plot=quickHull_vis(d,visual=True)\n",
    "plot.draw()"
   ]
  },
  {
   "cell_type": "markdown",
   "metadata": {},
   "source": [
    "<a id='section_id'></a>"
   ]
  },
  {
   "cell_type": "markdown",
   "metadata": {},
   "source": [
    "<a id='section_id'></a>"
   ]
  },
  {
   "cell_type": "markdown",
   "metadata": {},
   "source": [
    "<a id='section_id'></a>"
   ]
  },
  {
   "cell_type": "markdown",
   "metadata": {},
   "source": [
    "# Sekcja pomiarów czasu\n",
    "\n",
    "<a id=\"pomiary\"></a>\n",
    "\n",
    "[Spis treści](#spis)\n"
   ]
  },
  {
   "cell_type": "markdown",
   "metadata": {},
   "source": [
    "### Funkcja do pomiaru czasów i wizualizacji wyników"
   ]
  },
  {
   "cell_type": "markdown",
   "metadata": {},
   "source": [
    "<a id='section_id'></a>"
   ]
  },
  {
   "cell_type": "code",
   "execution_count": null,
   "metadata": {},
   "outputs": [],
   "source": [
    "import time\n",
    "\n",
    "from pure.graham import *\n",
    "from pure.jarvis import *\n",
    "from pure.divide_conq import *\n",
    "from pure.chan import *\n",
    "from pure.increase import *\n",
    "from pure.lowerupper import *\n",
    "from pure.quickhull import *\n",
    "    \n",
    "from lib.timemeasure import *\n",
    "\n",
    "def generate_plot(xdatas, ydatas, xlabel, ylabel, title):\n",
    "    for xdata, ydata in zip(xdatas, ydatas):\n",
    "        plt.plot(xdata, ydata, ls = '--')\n",
    "        plt.scatter(xdata, ydata)\n",
    "    plt.xlabel(xlabel)\n",
    "    plt.ylabel(ylabel)\n",
    "    plt.title(title)"
   ]
  },
  {
   "cell_type": "markdown",
   "metadata": {},
   "source": [
    "## Pomiary"
   ]
  },
  {
   "cell_type": "markdown",
   "metadata": {},
   "source": [
    "<a id=\"pomiary-chmura\"></a>\n",
    "### Chmura punktów  \n",
    "[Spis treści](#spis)"
   ]
  },
  {
   "cell_type": "markdown",
   "metadata": {},
   "source": [
    "<a id='section_id'></a>"
   ]
  },
  {
   "cell_type": "code",
   "execution_count": null,
   "metadata": {
    "scrolled": true
   },
   "outputs": [],
   "source": [
    "#lista liczb punktów na których ma być testowany algorytm \n",
    "ns = [ 1000 + i * 500 for i in range(10) ]\n",
    "\n",
    "funcs = [graham, lower_upper, chan, quickHull, divide_conq, increase_with_sorting,jarvis]\n",
    "\n",
    "exectimes_a = np.zeros(shape=(len(funcs), len(ns)))\n",
    "\n",
    "\n",
    "for i, n in enumerate(ns):\n",
    "    points = makeAset(n = n)\n",
    "    for fi, func in enumerate(funcs):\n",
    "        if func is jarvis:\n",
    "#             print(func, 'zmieniam na np.array')\n",
    "            points = np.array(points)\n",
    "        if func is divide_conq:\n",
    "#             print(func, n)\n",
    "            exectimes_a[fi][i] = avg_exec_time(func, n / 10, points=points, times=5)\n",
    "            continue\n",
    "        \n",
    "#         print(func, n)\n",
    "        exectimes_a[fi][i] = avg_exec_time(func, points=points.copy(), times=5)\n",
    "\n",
    "# save_data_csv('./tests/chmura.csv', [\n",
    "#     [round(exectimes_a[i][j],4) for j in range(len(exectimes_a[i]))] for i in range(len(exectimes_a)) \n",
    "# ])\n",
    "    \n",
    "pprint(exectimes_a)\n"
   ]
  },
  {
   "cell_type": "markdown",
   "metadata": {},
   "source": [
    "<a id=\"pomiary-chmura-graham\"></a>\n",
    "### Algorytm Grahama  \n",
    "[Spis treści](#spis)"
   ]
  },
  {
   "cell_type": "code",
   "execution_count": null,
   "metadata": {},
   "outputs": [],
   "source": [
    "%matplotlib notebook\n",
    "\n",
    "generate_plot([ns], [exectimes_a[0]], 'Liczba punktów', 'Czas wykonania [s]', 'Algorytm Grahama')\n",
    "\n",
    "plt.show()\n",
    "# plt.savefig('./tests/chmura-graham.png')"
   ]
  },
  {
   "cell_type": "markdown",
   "metadata": {},
   "source": [
    "### Algorytm \"górna-dolna\"\n",
    "<a id=\"pomiary-chmura-gornadolna\"></a>\n",
    "[Spis treści](#spis)"
   ]
  },
  {
   "cell_type": "code",
   "execution_count": null,
   "metadata": {},
   "outputs": [],
   "source": [
    "%matplotlib notebook\n",
    "\n",
    "generate_plot([ns], [exectimes_a[1]], 'Liczba punktów', 'Czas wykonania [s]', 'Algorytm \"górna-dolna\"')\n",
    "\n",
    "plt.show()\n",
    "# plt.savefig('./tests/chmura-lowerupper.png')"
   ]
  },
  {
   "cell_type": "markdown",
   "metadata": {},
   "source": [
    "### Algorytm Chana\n",
    "<a id=\"pomiary-chmura-chan\"></a>\n",
    "[Spis treści](#spis)"
   ]
  },
  {
   "cell_type": "code",
   "execution_count": null,
   "metadata": {},
   "outputs": [],
   "source": [
    "%matplotlib notebook\n",
    "\n",
    "generate_plot([ns], [exectimes_a[2]], 'Liczba punktów', 'Czas wykonania [s]', 'Algorytm Chana')\n",
    "\n",
    "plt.show()\n",
    "# plt.savefig('./tests/chmura-chan.png')"
   ]
  },
  {
   "cell_type": "markdown",
   "metadata": {},
   "source": [
    "### Algorytm QuickHull\n",
    "<a id=\"pomiary-chmura-quickhull\"></a>\n",
    "[Spis treści](#spis)"
   ]
  },
  {
   "cell_type": "code",
   "execution_count": null,
   "metadata": {},
   "outputs": [],
   "source": [
    "%matplotlib notebook\n",
    "\n",
    "generate_plot([ns], [exectimes_a[3]], 'Liczba punktów', 'Czas wykonania [s]', 'Algorytm QuickHull')\n",
    "\n",
    "plt.show()\n",
    "# plt.savefig('./tests/chmura-quickhull.png')"
   ]
  },
  {
   "cell_type": "markdown",
   "metadata": {},
   "source": [
    "### Algorytm dziel i zwyciężaj\n",
    "<a id=\"pomiary-chmura-dziel\"></a>\n",
    "[Spis treści](#spis)"
   ]
  },
  {
   "cell_type": "code",
   "execution_count": null,
   "metadata": {},
   "outputs": [],
   "source": [
    "%matplotlib notebook\n",
    "\n",
    "generate_plot([ns], [exectimes_a[4]], 'Liczba punktów', 'Czas wykonania [s]', 'Algorytm dziel i zwyciezaj')\n",
    "\n",
    "plt.show()\n",
    "# plt.savefig('./tests/chmura-dziel.png')"
   ]
  },
  {
   "cell_type": "markdown",
   "metadata": {},
   "source": [
    "### Algorytm przyrostowy\n",
    "<a id=\"pomiary-chmura-przyrost\"></a>\n",
    "[Spis treści](#spis)"
   ]
  },
  {
   "cell_type": "code",
   "execution_count": null,
   "metadata": {},
   "outputs": [],
   "source": [
    "%matplotlib notebook\n",
    "\n",
    "generate_plot([ns], [exectimes_a[5]], 'Liczba punktów', 'Czas wykonania [s]', 'Algorytm przyrostowy')\n",
    "\n",
    "plt.show()\n",
    "# plt.savefig('./tests/chmura-przyrost.png')"
   ]
  },
  {
   "cell_type": "markdown",
   "metadata": {},
   "source": [
    "### Algorytm Jarvisa\n",
    "<a id=\"pomiary-chmura-graham\"></a>\n",
    "[Spis treści](#spis)"
   ]
  },
  {
   "cell_type": "code",
   "execution_count": null,
   "metadata": {},
   "outputs": [],
   "source": [
    "%matplotlib notebook\n",
    "\n",
    "generate_plot([ns], [exectimes_a[6]], 'Liczba punktów', 'Czas wykonania [s]', 'Algorytm Jarvisa')\n",
    "\n",
    "plt.show()\n",
    "# plt.savefig('./tests/chmura-jarvis.png')"
   ]
  },
  {
   "cell_type": "markdown",
   "metadata": {},
   "source": [
    "### Ujęcie zbiorcze\n",
    "<a id=\"pomiary-chmura-zbiorczy\"></a>\n",
    "[Spis treści](#spis)"
   ]
  },
  {
   "cell_type": "code",
   "execution_count": null,
   "metadata": {},
   "outputs": [],
   "source": [
    "%matplotlib notebook\n",
    "\n",
    "generate_plot([ns for _ in range(len(exectimes_a))], exectimes_a, 'Liczba punktów', 'Czas wykonania [s]', 'Ujęcie zbiorcze')\n",
    "plt.legend(labels=('graham', 'lowerupper', 'Chan', 'QuickHull', 'Dziel i zwyciezaj','Przyrostowy','Jarvis'))\n",
    "plt.show()\n",
    "# plt.savefig('./tests/chmura-zbiorczy.png')"
   ]
  },
  {
   "cell_type": "markdown",
   "metadata": {},
   "source": [
    "### Ujęcie zbiorcze bez algorytmów $O(n^2)$\n",
    "<a id=\"pomiary-chmura-zbiorczy-2\"></a>\n",
    "[Spis treści](#spis)"
   ]
  },
  {
   "cell_type": "code",
   "execution_count": null,
   "metadata": {},
   "outputs": [],
   "source": [
    "%matplotlib notebook\n",
    "\n",
    "generate_plot([ns for _ in range(len(exectimes_a)-2)], [exectimes_a[i] for i in range(len(exectimes_a)) if i not in [2, 6]], 'Liczba punktów', 'Czas wykonania [s]', 'Ujęcie zbiorcze (bez Chna i Jarvisa)')\n",
    "plt.legend(labels=('Graham', 'lowerupper', 'QuickHull', 'Dziel i zwyciezaj','Przyrostowy'))\n",
    "plt.show()\n",
    "# plt.savefig('./tests/chmura-zbiorczy-2.png')"
   ]
  },
  {
   "cell_type": "markdown",
   "metadata": {},
   "source": [
    "### Rozkład kołowy\n",
    "<a id=\"pomiary-kolo\"></a>\n",
    "[Spis treści](#spis)"
   ]
  },
  {
   "cell_type": "markdown",
   "metadata": {},
   "source": [
    "<a id='section_id'></a>"
   ]
  },
  {
   "cell_type": "code",
   "execution_count": null,
   "metadata": {},
   "outputs": [],
   "source": [
    "#lista liczb punktów na których ma być testowany algorytm \n",
    "ns = [ 1000 + i * 500 for i in range(10) ]\n",
    "funcs = [graham, lower_upper, chan, quickHull, divide_conq, increase_with_sorting, jarvis]\n",
    "\n",
    "exectimes_b = np.zeros(shape=(len(funcs), len(ns)))\n",
    "\n",
    "\n",
    "for i, n in enumerate(ns):\n",
    "    points = makeBset(n = n)\n",
    "    for fi, func in enumerate(funcs):\n",
    "        if func is jarvis:\n",
    "#             print(func, 'zmieniam na np.array')\n",
    "            points = np.array(points)\n",
    "        if func is divide_conq:\n",
    "            exectimes_b[fi][i] = avg_exec_time(func, n // 20 + 1, points=points)\n",
    "            continue\n",
    "        \n",
    "#         print(func, n)\n",
    "        exectimes_b[fi][i] = avg_exec_time(func, points=points.copy())\n",
    "        \n",
    "\n",
    "\n",
    "# save_data_csv('./tests/circle.csv', [\n",
    "#     [round(exectimes_b[i][j],4) for j in range(len(exectimes_b[i]))] for i in range(len(exectimes_b)) \n",
    "# ])\n",
    "    \n",
    "pprint(exectimes_b)"
   ]
  },
  {
   "cell_type": "markdown",
   "metadata": {},
   "source": [
    "<a id='section_id'></a>"
   ]
  },
  {
   "cell_type": "markdown",
   "metadata": {},
   "source": [
    "### Algorytm Grahama\n",
    "<a id=\"pomiary-kolo-graham\"></a>\n",
    "[Spis treści](#spis)"
   ]
  },
  {
   "cell_type": "code",
   "execution_count": null,
   "metadata": {},
   "outputs": [],
   "source": [
    "%matplotlib notebook\n",
    "\n",
    "generate_plot([ns], [exectimes_b[0]], 'Liczba punktów', 'Czas wykonania [s]', 'Algorytm Grahama')\n",
    "\n",
    "plt.show()\n",
    "# plt.savefig('./tests/okrag-graham')"
   ]
  },
  {
   "cell_type": "markdown",
   "metadata": {},
   "source": [
    "### Algortym \"górna-dolna\"\n",
    "<a id=\"pomiary-kolo-gornadolna\"></a>\n",
    "[Spis treści](#spis)"
   ]
  },
  {
   "cell_type": "code",
   "execution_count": null,
   "metadata": {},
   "outputs": [],
   "source": [
    "%matplotlib notebook\n",
    "\n",
    "generate_plot([ns], [exectimes_b[1]], 'Liczba punktów', 'Czas wykonania [s]', 'Algorytm \"górna-dolna\"')\n",
    "\n",
    "plt.show()\n",
    "# plt.savefig('./tests/okrag-lowerupper')"
   ]
  },
  {
   "cell_type": "markdown",
   "metadata": {},
   "source": [
    "### Algorytm Chana\n",
    "<a id=\"pomiary-kolo-chan\"></a>\n",
    "[Spis treści](#spis)"
   ]
  },
  {
   "cell_type": "code",
   "execution_count": null,
   "metadata": {},
   "outputs": [],
   "source": [
    "%matplotlib notebook\n",
    "\n",
    "generate_plot([ns], [exectimes_b[2]], 'Liczba punktów', 'Czas wykonania [s]', 'Algorytm Chana')\n",
    "\n",
    "plt.show()\n",
    "# plt.savefig('./tests/okrag-chan')"
   ]
  },
  {
   "cell_type": "markdown",
   "metadata": {},
   "source": [
    "### Algorytm QuickHull\n",
    "<a id=\"pomiary-kolo-quickhull\"></a>\n",
    "[Spis treści](#spis)"
   ]
  },
  {
   "cell_type": "code",
   "execution_count": null,
   "metadata": {},
   "outputs": [],
   "source": [
    "%matplotlib notebook\n",
    "\n",
    "generate_plot([ns], [exectimes_b[3]], 'Liczba punktów', 'Czas wykonania [s]', 'Algorytm QuickHull')\n",
    "\n",
    "plt.show()\n",
    "# plt.savefig('./tests/okrag-quickhull')"
   ]
  },
  {
   "cell_type": "markdown",
   "metadata": {},
   "source": [
    "### Algorytm dziel i zwyciężaj\n",
    "<a id=\"pomiary-kolo-dziel\"></a>\n",
    "[Spis treści](#spis)"
   ]
  },
  {
   "cell_type": "code",
   "execution_count": null,
   "metadata": {},
   "outputs": [],
   "source": [
    "%matplotlib notebook\n",
    "\n",
    "generate_plot([ns], [exectimes_b[4]], 'Liczba punktów', 'Czas wykonania [s]', 'Algorytm dziel i zwyciezaj')\n",
    "\n",
    "plt.show()\n",
    "# plt.savefig('./tests/okrag-dziel')"
   ]
  },
  {
   "cell_type": "markdown",
   "metadata": {},
   "source": [
    "### Algorytm przyrostowy\n",
    "<a id=\"pomiary-kolo-przyrost\"></a>\n",
    "[Spis treści](#spis)"
   ]
  },
  {
   "cell_type": "code",
   "execution_count": null,
   "metadata": {},
   "outputs": [],
   "source": [
    "%matplotlib notebook\n",
    "\n",
    "generate_plot([ns], [exectimes_b[5]], 'Liczba punktów', 'Czas wykonania [s]', 'Algorytm przyrostowy')\n",
    "\n",
    "plt.show()\n",
    "# plt.savefig('./tests/okrag-przyrost')"
   ]
  },
  {
   "cell_type": "markdown",
   "metadata": {},
   "source": [
    "### Algorytm Jarvisa\n",
    "<a id=\"pomiary-kolo-jarvis\"></a>\n",
    "[Spis treści](#spis)"
   ]
  },
  {
   "cell_type": "code",
   "execution_count": null,
   "metadata": {},
   "outputs": [],
   "source": [
    "%matplotlib notebook\n",
    "\n",
    "generate_plot([ns], [exectimes_b[6]], 'Liczba punktów', 'Czas wykonania [s]', 'Algorytm Jarvisa')\n",
    "\n",
    "plt.show()\n",
    "# plt.savefig('./tests/okrag-jarvis')"
   ]
  },
  {
   "cell_type": "markdown",
   "metadata": {},
   "source": [
    "### Ujęcie zbiorcze\n",
    "<a id=\"pomiary-kolo-zbiorczy\"></a>\n",
    "[Spis treści](#spis)"
   ]
  },
  {
   "cell_type": "code",
   "execution_count": null,
   "metadata": {},
   "outputs": [],
   "source": [
    "%matplotlib notebook\n",
    "\n",
    "generate_plot([ns for _ in range(len(exectimes_b))], exectimes_b, 'Liczba punktów', 'Czas wykonania [s]', 'Ujęcie zbiorcze')\n",
    "plt.legend(labels=('Graham', 'lowerupper', 'Chan', 'QuickHull', 'Dziel i zwyciezaj', 'Przyrostowy', 'Jarvis'))\n",
    "plt.show()\n",
    "# plt.savefig('./tests/okrag-zbiorcze')"
   ]
  },
  {
   "cell_type": "markdown",
   "metadata": {},
   "source": [
    "### Ujęcie zbiorcze bez algorytmu Jarvisa\n",
    "<a id=\"pomiary-kolo-zbiorczy-2\"></a>\n",
    "[Spis treści](#spis)"
   ]
  },
  {
   "cell_type": "code",
   "execution_count": null,
   "metadata": {},
   "outputs": [],
   "source": [
    "%matplotlib notebook\n",
    "\n",
    "generate_plot([ns for _ in range(len(exectimes_b) - 1)], exectimes_b[:len(exectimes_b)-1], 'Liczba punktów', 'Czas wykonania [s]', 'Ujęcie zbiorcze bez algorytmu Jarvisa')\n",
    "plt.legend(labels=('Graham', 'lowerupper', 'Chan', 'QuickHull', 'Dziel i zwyciezaj', 'Przyrostowy'))\n",
    "plt.show()\n",
    "# plt.savefig('./tests/okrag-zbiorcze-2')"
   ]
  },
  {
   "cell_type": "markdown",
   "metadata": {},
   "source": [
    "### Losowy rozkład na prostokącie\n",
    "<a id=\"pomiary-prost\"></a>\n",
    "[Spis treści](#spis)"
   ]
  },
  {
   "cell_type": "code",
   "execution_count": null,
   "metadata": {},
   "outputs": [],
   "source": [
    "#lista liczb punktów na których ma być testowany algorytm \n",
    "ns = [ 1000 + i * 500 for i in range(10) ]\n",
    "funcs = [graham, lower_upper, chan, quickHull, divide_conq, increase_with_sorting, jarvis]\n",
    "\n",
    "exectimes_c = np.zeros(shape=(len(funcs), len(ns)))\n",
    "\n",
    "\n",
    "for i, n in enumerate(ns):\n",
    "    points = makeCset(n = n)\n",
    "    for fi, func in enumerate(funcs):\n",
    "        if func is jarvis:\n",
    "#             print(func, 'zmieniam na np.array')\n",
    "            points = np.array(points)\n",
    "        if func is divide_conq:\n",
    "#             print(func, n)\n",
    "            exectimes_c[fi][i] = avg_exec_time(func, n // 20 + 1, points=points)\n",
    "            continue\n",
    "        \n",
    "#         print(func, n)\n",
    "        exectimes_c[fi][i] = avg_exec_time(func, points=points.copy())\n",
    "        \n",
    "# save_data_csv('./tests/rect.csv', [\n",
    "#     [round(exectimes_c[i][j],4) for j in range(len(exectimes_c[i]))] for i in range(len(exectimes_c)) \n",
    "# ])\n",
    "\n",
    "pprint(exectimes_c)"
   ]
  },
  {
   "cell_type": "markdown",
   "metadata": {},
   "source": [
    "### Algorytm Grahama\n",
    "<a id=\"pomiary-prost-graham\"></a>\n",
    "[Spis treści](#spis)"
   ]
  },
  {
   "cell_type": "code",
   "execution_count": null,
   "metadata": {},
   "outputs": [],
   "source": [
    "%matplotlib notebook\n",
    "\n",
    "generate_plot([ns], [exectimes_c[0]], 'Liczba punktów', 'Czas wykonania [s]', 'Algorytm Grahama')\n",
    "\n",
    "plt.show()\n",
    "# plt.savefig('./tests/prost-graham')"
   ]
  },
  {
   "cell_type": "markdown",
   "metadata": {},
   "source": [
    "### Algorytm \"górna-dolna\"\n",
    "<a id=\"pomiary-prost-gornadolna\"></a>\n",
    "[Spis treści](#spis)"
   ]
  },
  {
   "cell_type": "code",
   "execution_count": null,
   "metadata": {},
   "outputs": [],
   "source": [
    "%matplotlib notebook\n",
    "\n",
    "generate_plot([ns], [exectimes_c[1]], 'Liczba punktów', 'Czas wykonania [s]', 'Algorytm \"górna-dolna\"')\n",
    "\n",
    "plt.show()\n",
    "# plt.savefig('./tests/prost-lowerupper')"
   ]
  },
  {
   "cell_type": "markdown",
   "metadata": {},
   "source": [
    "### Algorytm Chana\n",
    "<a id=\"pomiary-prost-chan\"></a>\n",
    "[Spis treści](#spis)"
   ]
  },
  {
   "cell_type": "code",
   "execution_count": null,
   "metadata": {},
   "outputs": [],
   "source": [
    "%matplotlib notebook\n",
    "\n",
    "generate_plot([ns], [exectimes_c[2]], 'Liczba punktów', 'Czas wykonania [s]', 'Algorytm Chana')\n",
    "\n",
    "plt.show()\n",
    "# plt.savefig('./tests/prost-chan')"
   ]
  },
  {
   "cell_type": "markdown",
   "metadata": {},
   "source": [
    "### Algorytm QuickHull\n",
    "<a id=\"pomiary-prost-quickhull\"></a>\n",
    "[Spis treści](#spis)"
   ]
  },
  {
   "cell_type": "code",
   "execution_count": null,
   "metadata": {},
   "outputs": [],
   "source": [
    "%matplotlib notebook\n",
    "\n",
    "generate_plot([ns], [exectimes_c[3]], 'Liczba punktów', 'Czas wykonania [s]', 'Algorytm QuickHull')\n",
    "\n",
    "plt.show()\n",
    "# plt.savefig('./tests/prost-quickhull')"
   ]
  },
  {
   "cell_type": "markdown",
   "metadata": {},
   "source": [
    "### Algorytm dziel i zwyciężaj \n",
    "<a id=\"pomiary-prost-dziel\"></a>\n",
    "[Spis treści](#spis)"
   ]
  },
  {
   "cell_type": "code",
   "execution_count": null,
   "metadata": {},
   "outputs": [],
   "source": [
    "%matplotlib notebook\n",
    "\n",
    "generate_plot([ns], [exectimes_c[4]], 'Liczba punktów', 'Czas wykonania [s]', 'Algorytm dziel i zwyciezaj')\n",
    "\n",
    "plt.show()\n",
    "# plt.savefig('./tests/prost-dziel')"
   ]
  },
  {
   "cell_type": "markdown",
   "metadata": {},
   "source": [
    "### Algorytm przyrostowy\n",
    "<a id=\"pomiary-prost-przyrost\"></a>\n",
    "[Spis treści](#spis)"
   ]
  },
  {
   "cell_type": "code",
   "execution_count": null,
   "metadata": {},
   "outputs": [],
   "source": [
    "%matplotlib notebook\n",
    "\n",
    "generate_plot([ns], [exectimes_c[5]], 'Liczba punktów', 'Czas wykonania [s]', 'Algorytm przyrostowy')\n",
    "\n",
    "plt.show()\n",
    "# plt.savefig('./tests/prost-przyrost')"
   ]
  },
  {
   "cell_type": "markdown",
   "metadata": {},
   "source": [
    "### Algorytm Jarvisa\n",
    "<a id=\"pomiary-prost-jarvis\"></a>\n",
    "[Spis treści](#spis)"
   ]
  },
  {
   "cell_type": "code",
   "execution_count": null,
   "metadata": {},
   "outputs": [],
   "source": [
    "%matplotlib notebook\n",
    "\n",
    "generate_plot([ns], [exectimes_c[6]], 'Liczba punktów', 'Czas wykonania [s]', 'Algorytm Jarvisa')\n",
    "\n",
    "plt.show()\n",
    "# plt.savefig('./tests/prost-jarvis')"
   ]
  },
  {
   "cell_type": "markdown",
   "metadata": {},
   "source": [
    "### Ujęcie zbiorcze\n",
    "<a id=\"pomiary-prost-zbiorczy\"></a>\n",
    "[Spis treści](#spis)"
   ]
  },
  {
   "cell_type": "code",
   "execution_count": null,
   "metadata": {},
   "outputs": [],
   "source": [
    "%matplotlib notebook\n",
    "\n",
    "generate_plot([ns for _ in range(len(exectimes_c))], exectimes_c, 'Liczba punktów', 'Czas wykonania [s]', 'Ujęcie zbiorcze')\n",
    "plt.legend(labels=('graham', 'lowerupper', 'Chan', 'QuickHull', 'Dziel i zwyciezaj', 'Przyrostowy', 'Jarvis'))\n",
    "plt.show()\n",
    "# plt.savefig('./tests/prost-zbiorczy')"
   ]
  },
  {
   "cell_type": "markdown",
   "metadata": {},
   "source": [
    "### Ujęcie zbiorcze bez algorytmu Chana\n",
    "<a id=\"pomiary-prost-zbiorczy-2\"></a>\n",
    "[Spis treści](#spis)"
   ]
  },
  {
   "cell_type": "code",
   "execution_count": null,
   "metadata": {},
   "outputs": [],
   "source": [
    "%matplotlib notebook\n",
    "\n",
    "generate_plot([ns for _ in range(len(exectimes_c) - 1)], [exectimes_c[i] for i in range(len(exectimes_c)) if i not in [2]], 'Liczba punktów', 'Czas wykonania [s]', 'Ujęcie zbiorcze')\n",
    "plt.legend(labels=('graham', 'lowerupper', 'QuickHull', 'Dziel i zwyciezaj', 'Przyrostowy', 'Jarvis'))\n",
    "plt.show()\n",
    "# plt.savefig('./tests/prost-zbiorczy-2')"
   ]
  },
  {
   "cell_type": "markdown",
   "metadata": {},
   "source": [
    "### Wierzchołki kwadratu, jego przekątne i dwa boki o wspólnym wierzchołku\n",
    "<a id=\"pomiary-kw\"></a>\n",
    "[Spis treści](#spis)"
   ]
  },
  {
   "cell_type": "code",
   "execution_count": null,
   "metadata": {},
   "outputs": [],
   "source": [
    "#lista liczb punktów na których ma być testowany algorytm \n",
    "ns = [ 1000 + i * 500 for i in range(10) ]\n",
    "funcs = [graham, lower_upper, chan, quickHull, divide_conq, increase_with_sorting, jarvis]\n",
    "\n",
    "exectimes_d = np.zeros(shape=(len(funcs), len(ns)))\n",
    "\n",
    "\n",
    "for i, n in enumerate(ns):\n",
    "    points = makeDset(n = n)\n",
    "    for fi, func in enumerate(funcs):\n",
    "        if func is jarvis:\n",
    "#             print(func, 'zmieniam na np.array')\n",
    "            points = np.array(points)\n",
    "        if func is divide_conq:\n",
    "            exectimes_d[fi][i] = avg_exec_time(func, n // 20 + 1, points=points)\n",
    "            continue\n",
    "        \n",
    "#         print(func, n)\n",
    "        exectimes_d[fi][i] = avg_exec_time(func, points=points.copy())\n",
    "        \n",
    "# save_data_csv('./tests/kw.csv', [\n",
    "#     [round(exectimes_d[i][j],4) for j in range(len(exectimes_d[i]))] for i in range(len(exectimes_d)) \n",
    "# ])\n",
    "        \n",
    "    \n",
    "pprint(exectimes_d)"
   ]
  },
  {
   "cell_type": "markdown",
   "metadata": {},
   "source": [
    "### Algorytm Grahama\n",
    "<a id=\"pomiary-kw-graham\"></a>\n",
    "[Spis treści](#spis)"
   ]
  },
  {
   "cell_type": "code",
   "execution_count": null,
   "metadata": {},
   "outputs": [],
   "source": [
    "%matplotlib notebook\n",
    "\n",
    "generate_plot([ns], [exectimes_d[0]], 'Liczba punktów', 'Czas wykonania [s]', 'Algorytm Grahama')\n",
    "\n",
    "plt.show()\n",
    "# plt.savefig('./tests/kw-graham')"
   ]
  },
  {
   "cell_type": "markdown",
   "metadata": {},
   "source": [
    "### Algorytm \"górna-dolna\"\n",
    "<a id=\"pomiary-kw-gornadolna\"></a>\n",
    "[Spis treści](#spis)"
   ]
  },
  {
   "cell_type": "code",
   "execution_count": null,
   "metadata": {},
   "outputs": [],
   "source": [
    "%matplotlib notebook\n",
    "\n",
    "generate_plot([ns], [exectimes_d[1]], 'Liczba punktów', 'Czas wykonania [s]', 'Algorytm \"górna-dolna\"')\n",
    "\n",
    "plt.show()\n",
    "# plt.savefig('./tests/kw-lowerupper')"
   ]
  },
  {
   "cell_type": "markdown",
   "metadata": {},
   "source": [
    "### Algorytm Chana\n",
    "<a id=\"pomiary-kw-chan\"></a>\n",
    "[Spis treści](#spis)"
   ]
  },
  {
   "cell_type": "code",
   "execution_count": null,
   "metadata": {},
   "outputs": [],
   "source": [
    "%matplotlib notebook\n",
    "\n",
    "generate_plot([ns], [exectimes_d[2]], 'Liczba punktów', 'Czas wykonania [s]', 'Algorytm Chana')\n",
    "\n",
    "plt.show()\n",
    "# plt.savefig('./tests/kw-chan')"
   ]
  },
  {
   "cell_type": "markdown",
   "metadata": {},
   "source": [
    "### Algorytm QuickHull\n",
    "<a id=\"pomiary-kw-quickhull\"></a>\n",
    "[Spis treści](#spis)"
   ]
  },
  {
   "cell_type": "code",
   "execution_count": null,
   "metadata": {},
   "outputs": [],
   "source": [
    "%matplotlib notebook\n",
    "\n",
    "generate_plot([ns], [exectimes_d[3]], 'Liczba punktów', 'Czas wykonania [s]', 'Algorytm QuickHull')\n",
    "\n",
    "plt.show()\n",
    "# plt.savefig('./tests/kw-quickhull')"
   ]
  },
  {
   "cell_type": "markdown",
   "metadata": {},
   "source": [
    "### Algorytm dziel i zwyciężaj\n",
    "<a id=\"pomiary-kw-dziel\"></a>\n",
    "[Spis treści](#spis)"
   ]
  },
  {
   "cell_type": "code",
   "execution_count": null,
   "metadata": {},
   "outputs": [],
   "source": [
    "%matplotlib notebook\n",
    "\n",
    "generate_plot([ns], [exectimes_d[4]], 'Liczba punktów', 'Czas wykonania [s]', 'Algorytm dziel i zwyciezaj')\n",
    "\n",
    "plt.show()\n",
    "# plt.savefig('./tests/kw-dziel')"
   ]
  },
  {
   "cell_type": "markdown",
   "metadata": {},
   "source": [
    "### Algorytm przyrostowy\n",
    "<a id=\"pomiary-kw-przyrost\"></a>\n",
    "[Spis treści](#spis)"
   ]
  },
  {
   "cell_type": "code",
   "execution_count": null,
   "metadata": {},
   "outputs": [],
   "source": [
    "%matplotlib notebook\n",
    "\n",
    "generate_plot([ns], [exectimes_d[5]], 'Liczba punktów', 'Czas wykonania [s]', 'Algorytm przyrostowy')\n",
    "\n",
    "plt.show()\n",
    "# plt.savefig('./tests/kw-przyrost')"
   ]
  },
  {
   "cell_type": "markdown",
   "metadata": {},
   "source": [
    "### Algorytm Jarvisa\n",
    "<a id=\"pomiary-kw-jarvis\"></a>\n",
    "[Spis treści](#spis)"
   ]
  },
  {
   "cell_type": "code",
   "execution_count": null,
   "metadata": {},
   "outputs": [],
   "source": [
    "%matplotlib notebook\n",
    "\n",
    "generate_plot([ns], [exectimes_d[6]], 'Liczba punktów', 'Czas wykonania [s]', 'Algorytm Jarvisa')\n",
    "\n",
    "plt.show()\n",
    "# plt.savefig('./tests/kw-jarvis')"
   ]
  },
  {
   "cell_type": "markdown",
   "metadata": {},
   "source": [
    "### Ujęcie zbiorcze\n",
    "<a id=\"pomiary-kw-zbiorczy\"></a>\n",
    "[Spis treści](#spis)"
   ]
  },
  {
   "cell_type": "markdown",
   "metadata": {},
   "source": [
    "<a id='section_id'></a>"
   ]
  },
  {
   "cell_type": "code",
   "execution_count": null,
   "metadata": {},
   "outputs": [],
   "source": [
    "%matplotlib notebook\n",
    "\n",
    "generate_plot([ns for _ in range(len(exectimes_d))], exectimes_d, 'Liczba punktów', 'Czas wykonania [s]', 'Ujęcie zbiorcze')\n",
    "plt.legend(labels=('graham', 'lowerupper', 'Chan', 'QuickHull', 'Dziel i zwyciezaj', 'Przyrostowy', 'Jarvis'))\n",
    "plt.show()\n",
    "# plt.savefig('./tests/kw-zbiorczy')"
   ]
  },
  {
   "cell_type": "markdown",
   "metadata": {},
   "source": [
    "<a id='section_id'></a>"
   ]
  },
  {
   "cell_type": "markdown",
   "metadata": {},
   "source": [
    "### Ujęcie zbiorcze bez algorytmu Chana\n",
    "<a id=\"pomiary-kw-zbiorczy-2\"></a>\n",
    "[Spis treści](#spis)\n"
   ]
  },
  {
   "cell_type": "code",
   "execution_count": null,
   "metadata": {},
   "outputs": [],
   "source": [
    "%matplotlib notebook\n",
    "\n",
    "generate_plot([ns for _ in range(len(exectimes_d) -1)], [exectimes_d[i] for i in range(len(exectimes_d)) if i not in [2]], 'Liczba punktów', 'Czas wykonania [s]', 'Ujęcie zbiorcze')\n",
    "plt.legend(labels=('graham', 'lowerupper', 'QuickHull', 'Dziel i zwyciezaj', 'Przyrostowy', 'Jarvis'))\n",
    "plt.show()\n",
    "# plt.savefig('./tests/kw-zbiorczy-2')"
   ]
  },
  {
   "cell_type": "code",
   "execution_count": null,
   "metadata": {},
   "outputs": [],
   "source": [
    "# data_sets = [exectimes_a, exectimes_b, exectimes_c, exectimes_d]\n",
    "\n",
    "# save_data_csv('./tests/graham.csv', [ \n",
    "#     [round(data_sets[i][0][j],4) for j in range(len(data_sets[i][0]))] for i in range(len(data_sets)) \n",
    "# ])\n",
    "\n",
    "# save_data_csv('./tests/lowerupper.csv', [ \n",
    "#     [ round(data_sets[i][1][j],4) for j in range(len(data_sets[i][1]))] for i in range(len(data_sets))\n",
    "# ])\n",
    "\n",
    "# save_data_csv('./tests/chan.csv', [ \n",
    "#     [ round(data_sets[i][2][j],4) for j in range(len(data_sets[i][2]))] for i in range(len(data_sets))\n",
    "# ])\n",
    "\n",
    "\n",
    "# save_data_csv('./tests/quickhull.csv', [ \n",
    "#     [ round(data_sets[i][3][j],4) for j in range(len(data_sets[i][3]))] for i in range(len(data_sets))\n",
    "# ])\n",
    "\n",
    "\n",
    "# save_data_csv('./tests/dziel.csv', [ \n",
    "#     [ round(data_sets[i][4][j],4) for j in range(len(data_sets[i][4]))] for i in range(len(data_sets))\n",
    "# ])\n",
    "\n",
    "# save_data_csv('./tests/przyrost.csv', [ \n",
    "#     [ round(data_sets[i][5][j],4) for j in range(len(data_sets[i][5]))] for i in range(len(data_sets))\n",
    "# ])\n",
    "\n",
    "# save_data_csv('./tests/jarvis.csv', [ \n",
    "#     [ round(data_sets[i][6][j],4) for j in range(len(data_sets[i][6]))] for i in range(len(data_sets))\n",
    "# ])\n"
   ]
  }
 ],
 "metadata": {
  "kernelspec": {
   "display_name": "Python 3",
   "language": "python",
   "name": "python3"
  },
  "language_info": {
   "codemirror_mode": {
    "name": "ipython",
    "version": 3
   },
   "file_extension": ".py",
   "mimetype": "text/x-python",
   "name": "python",
   "nbconvert_exporter": "python",
   "pygments_lexer": "ipython3",
   "version": "3.9.0"
  }
 },
 "nbformat": 4,
 "nbformat_minor": 4
}
